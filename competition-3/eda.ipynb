{
 "cells": [
  {
   "cell_type": "code",
   "execution_count": 10,
   "metadata": {},
   "outputs": [],
   "source": [
    "import numpy as np\n",
    "import pandas as pd\n",
    "import seaborn as sns\n",
    "\n",
    "from sklearn.model_selection import train_test_split\n",
    "import catboost as cb"
   ]
  },
  {
   "cell_type": "code",
   "execution_count": 4,
   "metadata": {},
   "outputs": [
    {
     "data": {
      "application/vnd.microsoft.datawrangler.viewer.v0+json": {
       "columns": [
        {
         "name": "index",
         "rawType": "int64",
         "type": "integer"
        },
        {
         "name": "questions",
         "rawType": "object",
         "type": "string"
        },
        {
         "name": "answer",
         "rawType": "object",
         "type": "string"
        }
       ],
       "conversionMethod": "pd.DataFrame",
       "ref": "3d953252-cbab-4543-a427-081730c1b7c8",
       "rows": [
        [
         "0",
         "Between the TechCrunch report on Sam Bankman-Fried published on October 2, 2023, and the TechCrunch report on Sam Bankman-Fried published on October 7, 2023, was there consistency in the portrayal of Sam Bankman-Fried's alleged actions?",
         "yes"
        ],
        [
         "1",
         "Between the report from The Verge on Apple's defense of its Google Search deal published on September 26, 2023, and the class action antitrust suit against Google reported by TechCrunch, was there no change in the portrayal of Google's business practices related to competition and market dominance?",
         "no"
        ],
        [
         "2",
         "Between the Polygon article published on September 28, 2023, discussing \"Hellraiser (film)\" and the FOX News - Lifestyle article published on October 30, 2023, mentioning \"The Exorcist (book and movie),\" is there consistency in reporting the adaptation sequence of the original works into films?",
         "yes"
        ],
        [
         "3",
         "Did the reporting on player actions in sports by Sporting News change between the article featuring Jones from the USC vs. Notre Dame game published on October 14, 2023, and the article discussing Cristian Romero's tackle in the Tottenham vs Chelsea game published on November 6, 2023?",
         "no"
        ],
        [
         "4",
         "Does the Sporting News article claim that Caesars Sportsbook offers a cash-out option for early bet settlement, while the CBSSports.com and the second Sporting News article both focus on Caesars Sportsbook providing a welcome bonus offer for new customers?",
         "yes"
        ],
        [
         "5",
         "Which company, covered by TechCrunch for not switching to a browser competitor during iPhone setup, by Engadget for focusing on Macs and new chipsets at an event, and twice by The Verge for defending a search deal in court and for enforcing uniform terms on developers, OEMs, and carriers through its store and payment system?",
         "apple"
        ],
        [
         "6",
         "Does \"The Independent - Life and Style\" article on Jada Pinkett Smith and Will Smith's marriage suggest a different level of commitment to avoiding divorce compared to the stance on divorce expressed in a separate \"The Independent - Life and Style\" article discussing Will Smith and Jada Pinkett Smith's marriage?",
         "no"
        ],
        [
         "7",
         "Considering the information from a Times of India article on the growth of tech startups in Bangalore and a Deccan Herald report on the city's traffic management initiatives, which single letter represents both the first character of the startup that recently received significant funding to expand its AI-driven services and the initial of the new traffic signal system implemented at a major Bangalore intersection?",
         "insufficient information"
        ],
        [
         "8",
         "Does the FOX News - Health article attribute the positive impact on well-being and hope to the Caring Contacts program, while the FOX News - Lifestyle article suggests that Marketing practices overshadow the message of hope?",
         "yes"
        ],
        [
         "9",
         "Between the Engadget report on the Valve Steam Deck OLED published on November 9, 2023, at 18:00:32, and the Engadget review of the Valve Steam Deck OLED published on November 9, 2023, at 18:00:38, was the reporting on the release date of the new Steam Deck OLED consistent?",
         "yes"
        ],
        [
         "10",
         "Was there inconsistency in the promotional offers reported by Sporting News on September 26, 2023, regarding the Caesars Sportsbook promo for new sign-ups in Vermont, and by CBSSports.com on October 13, 2023, about the Caesars Sportsbook offer for new customers?",
         "no"
        ],
        [
         "11",
         "Did TechCrunch's subsequent report on a class action antitrust suit against Google on December 1, 2023, indicate a consistent portrayal of Google's business practices by the news source?",
         "no"
        ],
        [
         "12",
         "Was the policy on price matching for customers at HP inconsistent according to The Verge before Polygon reported on the ineligibility for price matching on purchases?",
         "no"
        ],
        [
         "13",
         "Does the 'Sporting News' article identify Scott McTominay as Manchester United's top scorer for the season, while the 'TalkSport' article recognizes Erling Haaland as the joint-leading scorer from the Champions League group stages?",
         "yes"
        ],
        [
         "14",
         "Which company, recently reported by TechCrunch, has been involved in an antitrust court case providing extensive evidence against claims of hiding discovery items, has received early impressions for a product compared to OpenAI's GPT-3.5, and is accused by news publishers of harming their revenues through anticompetitive practices?",
         "google"
        ],
        [
         "15",
         "What U.S. Supreme Court case in 1973 legalized abortion nationwide?",
         "roe v wade"
        ],
        [
         "16",
         "What company, according to TechCrunch, claims to have developed a generative AI model with superior architecture while also spending billions to secure its position as the default search engine and is accused of harming news publishers’ revenues through anticompetitive practices?",
         "google"
        ],
        [
         "17",
         "Does the TechCrunch article suggest a different type of investigation involving Influenceable compared to the Sporting News article's mention of the University of Michigan's involvement in an investigation related to document provision?",
         "no"
        ],
        [
         "18",
         "Does 'The Verge' article suggest that Sam Bankman-Fried set withdrawal permissions based on FTX's trading revenue, while 'Fortune' and 'TechCrunch' articles focus on his personal actions and influence, such as persuading Adam Yedidia to join his companies and committing fraud for personal gain, without mentioning specific operational policies at FTX?",
         "yes"
        ],
        [
         "19",
         "Does the Sporting News article suggest that Brock Purdy's performance against the Cowboys was more successful in terms of touchdowns thrown compared to the CBSSports.com article's assessment of his performance under pressure?",
         "yes"
        ],
        [
         "20",
         "Does the TalkSport article suggest that Manchester United's defensive performance in the Champions League group stages is better than in previous years, as indicated by a new record for goals conceded, while The Guardian article implies that Manchester United's overall performance under pressure in the Champions League, especially in Istanbul, has been consistently poor?",
         "no"
        ],
        [
         "21",
         "What entity is likely to win a legal case regarding phones and app stores according to an article from The Verge, and is also accused by a news publisher in a class action antitrust suit reported by TechCrunch for harming their business through anticompetitive practices?",
         "google"
        ],
        [
         "22",
         "Do the articles from The Roar | Sports Writers Blog discussing The All Blacks' actions in the Rugby World Cup final and their previous encounters with Argentina both present The All Blacks as having faced challenges in their gameplay, or do they portray different situations regarding The All Blacks' performance?",
         "yes"
        ],
        [
         "23",
         "Was there inconsistency in the reporting of the release date or immediate availability of the Steam Deck OLED from Valve between the Engadget report on the Steam Deck OLED published on November 9, 2023, at 18:00:32, and the Engadget review of the Steam Deck OLED published shortly after on November 9, 2023, at 18:00:38?",
         "no"
        ],
        [
         "24",
         "Did 'Sport Grill' report on Tessa Wullaert scoring a decisive penalty before 'The Roar | Sports Writers Blog' reported on Cole Palmer scoring a penalty to secure a draw for Chelsea?",
         "yes"
        ],
        [
         "25",
         "Who is the individual under 30, formerly associated with FTX and Alameda Research, who was described by 'Fortune' as using a front for secret access to customer funds, by 'The Verge' as overwhelmed by the growth of his company to manage it alongside another, and by 'TechCrunch' as both the richest person in his age group with altruistic spending intentions and as someone accused of committing fraud for personal gain?",
         "sam bankman-fried"
        ],
        [
         "26",
         "What institution, recently mentioned in articles from both 'Fortune' and 'The Sydney Morning Herald,' has been both forced to aggressively hike interest rates in response to inflation and booming home prices, and whose future decisions on whether to continue this trend or halt it are anticipated by investors based on incoming economic data?",
         "federal reserve"
        ],
        [
         "27",
         "Before The New York Times reported on Norway's football team's lack of competitiveness in major football tournaments on November 17, 2023, did the Sporting News describe Manchester United's historical performance against Chelsea as worse with seven wins and only one defeat in their first 12 encounters from 1905 to 1913?",
         "no"
        ],
        [
         "28",
         "Who is the individual that, according to a 'Cnbc | World Business News Leader' article, planned to establish a board with experts for a cryptocurrency exchange without investor directors, was reported by 'The Verge' to have used customer funds to buy out a competing firm, and is alleged by the prosecution in a 'TechCrunch' article to have committed fraud for personal gain?",
         "sam bankman-fried"
        ],
        [
         "29",
         "Who is the individual facing a jury's assessment of contrasting legal narratives in Fortune, is reported by the same source to have recruited a former Jane Street trader to his ventures, and is accused by the prosecution of committing fraud for personal gain according to TechCrunch?",
         "sam bankman-fried"
        ],
        [
         "30",
         "Do the 'Business Line' article's claims about central bankers' response to supply disruptions and the 'Fortune' article's claims about Federal Reserve officials' actions to combat inflation both suggest a decrease in interest rates?",
         "no"
        ],
        [
         "31",
         "Does TechCrunch describe Sam Bankman-Fried's actions in handling customer funds similarly to the way it portrays his pursuit of wealth, power, and influence, with both descriptions implying misconduct, or are the portrayals different?",
         "similar"
        ],
        [
         "32",
         "Who is the individual under 30, previously associated with FTX and Alameda Research, who faced allegations of fraud and is reported by both TechCrunch and The Verge to have had significant influence and wealth, yet struggled with the management of his rapidly growing companies?",
         "sam bankman-fried"
        ],
        [
         "33",
         "Considering the information from a BBC article detailing the government's new environmental policy in Delhi and a Times of India report on the recent traffic congestion reforms, which single character from the Delhi government is at the intersection of implementing both the environmental and traffic policies?",
         "insufficient information"
        ],
        [
         "34",
         "Did the Federal Reserve change its stance on basing its interest rate decisions on incoming economic data after The Sydney Morning Herald reported on it before October 1, 2023, and did their influence on global financial markets differ from what The Sydney Morning Herald highlighted in a subsequent report?",
         "no"
        ],
        [
         "35",
         "Which company, reported by both The Verge and TechCrunch, has been involved in legal scrutiny for its financial practices to maintain default search engine status on various platforms and has faced antitrust allegations concerning its impact on news publishers' revenues?",
         "google"
        ],
        [
         "36",
         "Does the Fortune article claim that Sam Bankman-Fried used Caroline Ellison as a front for secret access to customer funds at Alameda Research, while the TechCrunch article alleges that Caroline Ellison took $14 billion from customers to repay debts under Sam Bankman-Fried's instruction, or do both articles assert the same involvement of Sam Bankman-Fried in the misuse of customer funds?",
         "yes"
        ],
        [
         "37",
         "Do the articles from The Verge and TechCrunch both suggest that interactive activities, such as dressing up for parents of children interested in Pokémon and conversing with Alexa, are methods to engage with children, or do they propose different engagement strategies?",
         "yes"
        ],
        [
         "38",
         "Considering the information from an article in The Economic Times about the recent infrastructure developments in Koramangala and another from The Hindu reporting on the new traffic management system implemented in the same area, which letter of the alphabet is the starting character of the name of the company that has been awarded the contract for both projects?",
         "insufficient information"
        ],
        [
         "39",
         "Who is the individual associated with FTX and Alameda Research that allegedly used customer funds to secure personal gains and simultaneously expressed to Paradigm a desire to establish an expert board for FTX while admitting challenges in managing the rapid expansion of both companies, as reported by Cnbc | World Business News Leader, The Verge, and TechCrunch?",
         "sam bankman-fried"
        ],
        [
         "40",
         "Does the 'FOX News - Lifestyle' article featuring Pastor Jesse Bradley suggest that faith in God holds a different value for America's future compared to the value of God depicted in the 'Polygon' article discussing 'Preacher (comic book and TV adaptation)'?",
         "yes"
        ],
        [
         "41",
         "What company, according to TechCrunch articles, not only released a \"lite\" version of its AI model instead of the full version but also spent billions in 2021 to secure its position as the default search engine on various platforms and has faced a class action antitrust suit for allegedly harming news publishers' revenue and content?",
         "google"
        ],
        [
         "42",
         "Which company, defended by Apple for being the default search engine on platforms like Samsung and Mozilla according to The Verge, is also the creator of Gemini, a generative AI model claimed by TechCrunch to potentially meet or exceed GPT-4's performance, and is accused in a class action antitrust suit reported by TechCrunch of harming news publishers' bottom lines by siphoning off their content, readers, and ad revenue?",
         "google"
        ],
        [
         "43",
         "Do the articles from Sporting News discussing NBA Rookie of the Year odds and MLB betting rules both indicate that Sportsbooks and a Sportsbook, respectively, adjust their practices based on external factors?",
         "yes"
        ],
        [
         "44",
         "Does the article from The Age suggest that the economic conditions of people have worsened, impacting the middle class and their shopping habits, in contrast to Engadget's focus on providing Engadget readers with updates on Black Friday deals without discussing the economic conditions?",
         "yes"
        ],
        [
         "45",
         "Does the TechCrunch article suggest that Google's actions towards news publishers are anticompetitive, while The Age article implies that users are accepting of potential misconduct by Google, and another TechCrunch article reports on Google's hardware event, indicating different contexts of Google's activities in each source?",
         "yes"
        ],
        [
         "46",
         "Between the article from Polygon published on September 26, 2023, highlighting individuals using online platforms for marketing, and the piece from Music Business Worldwide on December 7, 2023, discussing digital marketing strategies in the music industry, have the reported applications of digital marketing strategies by individuals and companies remained consistent or inconsistent?",
         "consistent"
        ],
        [
         "47",
         "Did the article from Music Business Worldwide about \"Iñigo Quintero's Si No Estás\" failing to reach the top of Spotify's Global Top 50 and the article from Music Business Worldwide discussing Capitol Music Group's status as the top-performing label both indicate a leading position in their respective music industry categories?",
         "no"
        ],
        [
         "48",
         "Does the 'Sporting News' article claim that Newcastle United defeated Manchester United in the Carabao Cup, aligning with 'The Guardian' article's claim that Newcastle will face Chelsea in the quarter-finals, indicating both sources confirm Newcastle's progression in the tournament?",
         "yes"
        ],
        [
         "49",
         "Between the report by The Verge on Apple's defense of its Google Search deal published on September 26, 2023, and the report by TechCrunch on the class action antitrust suit against Google published on December 15, 2023, was there a change in the portrayal of Google's business practices with respect to their impact on other companies?",
         "yes"
        ]
       ],
       "shape": {
        "columns": 2,
        "rows": 1981
       }
      },
      "text/html": [
       "<div>\n",
       "<style scoped>\n",
       "    .dataframe tbody tr th:only-of-type {\n",
       "        vertical-align: middle;\n",
       "    }\n",
       "\n",
       "    .dataframe tbody tr th {\n",
       "        vertical-align: top;\n",
       "    }\n",
       "\n",
       "    .dataframe thead th {\n",
       "        text-align: right;\n",
       "    }\n",
       "</style>\n",
       "<table border=\"1\" class=\"dataframe\">\n",
       "  <thead>\n",
       "    <tr style=\"text-align: right;\">\n",
       "      <th></th>\n",
       "      <th>questions</th>\n",
       "      <th>answer</th>\n",
       "    </tr>\n",
       "  </thead>\n",
       "  <tbody>\n",
       "    <tr>\n",
       "      <th>0</th>\n",
       "      <td>Between the TechCrunch report on Sam Bankman-F...</td>\n",
       "      <td>yes</td>\n",
       "    </tr>\n",
       "    <tr>\n",
       "      <th>1</th>\n",
       "      <td>Between the report from The Verge on Apple's d...</td>\n",
       "      <td>no</td>\n",
       "    </tr>\n",
       "    <tr>\n",
       "      <th>2</th>\n",
       "      <td>Between the Polygon article published on Septe...</td>\n",
       "      <td>yes</td>\n",
       "    </tr>\n",
       "    <tr>\n",
       "      <th>3</th>\n",
       "      <td>Did the reporting on player actions in sports ...</td>\n",
       "      <td>no</td>\n",
       "    </tr>\n",
       "    <tr>\n",
       "      <th>4</th>\n",
       "      <td>Does the Sporting News article claim that Caes...</td>\n",
       "      <td>yes</td>\n",
       "    </tr>\n",
       "    <tr>\n",
       "      <th>...</th>\n",
       "      <td>...</td>\n",
       "      <td>...</td>\n",
       "    </tr>\n",
       "    <tr>\n",
       "      <th>1976</th>\n",
       "      <td>Did Engadget fail to report a discount on the ...</td>\n",
       "      <td>no</td>\n",
       "    </tr>\n",
       "    <tr>\n",
       "      <th>1977</th>\n",
       "      <td>Between the TechCrunch article on December 7, ...</td>\n",
       "      <td>yes</td>\n",
       "    </tr>\n",
       "    <tr>\n",
       "      <th>1978</th>\n",
       "      <td>Did the FOX News - Entertainment article attri...</td>\n",
       "      <td>yes</td>\n",
       "    </tr>\n",
       "    <tr>\n",
       "      <th>1979</th>\n",
       "      <td>Which company, covered by The Verge for exclus...</td>\n",
       "      <td>valve</td>\n",
       "    </tr>\n",
       "    <tr>\n",
       "      <th>1980</th>\n",
       "      <td>Does the article from The Independent - Travel...</td>\n",
       "      <td>yes</td>\n",
       "    </tr>\n",
       "  </tbody>\n",
       "</table>\n",
       "<p>1981 rows × 2 columns</p>\n",
       "</div>"
      ],
      "text/plain": [
       "                                              questions answer\n",
       "0     Between the TechCrunch report on Sam Bankman-F...    yes\n",
       "1     Between the report from The Verge on Apple's d...     no\n",
       "2     Between the Polygon article published on Septe...    yes\n",
       "3     Did the reporting on player actions in sports ...     no\n",
       "4     Does the Sporting News article claim that Caes...    yes\n",
       "...                                                 ...    ...\n",
       "1976  Did Engadget fail to report a discount on the ...     no\n",
       "1977  Between the TechCrunch article on December 7, ...    yes\n",
       "1978  Did the FOX News - Entertainment article attri...    yes\n",
       "1979  Which company, covered by The Verge for exclus...  valve\n",
       "1980  Does the article from The Independent - Travel...    yes\n",
       "\n",
       "[1981 rows x 2 columns]"
      ]
     },
     "execution_count": 4,
     "metadata": {},
     "output_type": "execute_result"
    }
   ],
   "source": [
    "train_df = pd.read_csv('data/external/train.csv')\n",
    "train_df"
   ]
  },
  {
   "cell_type": "code",
   "execution_count": 5,
   "metadata": {},
   "outputs": [
    {
     "data": {
      "application/vnd.microsoft.datawrangler.viewer.v0+json": {
       "columns": [
        {
         "name": "index",
         "rawType": "int64",
         "type": "integer"
        },
        {
         "name": "title",
         "rawType": "object",
         "type": "string"
        },
        {
         "name": "author",
         "rawType": "object",
         "type": "unknown"
        },
        {
         "name": "url",
         "rawType": "object",
         "type": "string"
        },
        {
         "name": "source",
         "rawType": "object",
         "type": "string"
        },
        {
         "name": "category",
         "rawType": "object",
         "type": "string"
        },
        {
         "name": "fact",
         "rawType": "object",
         "type": "string"
        }
       ],
       "conversionMethod": "pd.DataFrame",
       "ref": "9d0f8016-9117-4e44-9058-81f8471b037a",
       "rows": [
        [
         "0",
         "The FTX trial is bigger than Sam Bankman-Fried",
         "Elizabeth Lopatto",
         "https://www.theverge.com/2023/9/28/23893269/ftx-sam-bankman-fried-trial-evidence-crypto",
         "The Verge",
         "technology",
         "Before his fall, Bankman-Fried made himself out to be the Good Boy of crypto — the trustworthy face of a sometimes-shady industry."
        ],
        [
         "1",
         "SBF’s trial starts soon, but how did he — and FTX — get here?",
         "Jacquelyn Melinek",
         "https://techcrunch.com/2023/10/01/ftx-lawsuit-timeline/",
         "TechCrunch",
         "technology",
         "The highly anticipated criminal trial for Sam Bankman-Fried, former CEO of bankrupt crypto exchange FTX, started Tuesday to determine whether he’s guilty of seven counts of fraud and conspiracy."
        ],
        [
         "2",
         "Sam Altman backs teens’ startup, Google unveils the Pixel 8 and TikTok tests an ad-free tier",
         "Kyle Wiggers",
         "https://techcrunch.com/2023/10/07/sam-altman-backs-a-teens-startup-google-unveils-the-pixel-8-and-tiktok-tests-an-ad-free-tier/",
         "TechCrunch",
         "technology",
         "The prosecution painted Bankman-Fried as someone who knowingly committed fraud to achieve great wealth, power and influence, while the defense countered that the FTX founder acted in good faith, never meant to commit fraud or steal and basically got in over his head."
        ],
        [
         "3",
         "Donald Trump defrauded banks with 'fantasy' to build his real estate empire, judge rules in a major repudiation against the former president",
         "Michael R. Sisak, The Associated Press",
         "https://fortune.com/2023/09/26/donald-trump-fraud-banks-insurers-real-estate-judge-new-york/",
         "Fortune",
         "business",
         "No apartment in New York City has ever sold for close to that amount, James said."
        ],
        [
         "4",
         "The $777 million surprise: Donald Trump is getting richer",
         "Tom Maloney",
         "https://www.theage.com.au/business/companies/the-777-million-surprise-donald-trump-is-getting-richer-20231108-p5eicf.html?ref=rss&utm_medium=rss&utm_source=rss_business",
         "The Age",
         "business",
         "The prosecution argues that was to mask a drop in the value of one of his other properties."
        ],
        [
         "5",
         "OpenAI's ex-chairman accuses board of going rogue in firing Altman: 'Sam and I are shocked and saddened by what the board did'",
         "Matt O'Brien, The Associated Press",
         "https://fortune.com/2023/11/18/how-did-openai-fire-sam-altman-greg-brockman-rogue-board/",
         "Fortune",
         "business",
         "Altman’s exit “is indeed shocking as he has been the face of” generative AI technology, said Gartner analyst Arun Chandrasekaran."
        ],
        [
         "6",
         "WTF is going on at OpenAI? We have theories",
         "Devin Coldewey",
         "https://techcrunch.com/2023/11/17/wtf-is-going-on-at-openai-sam-altman-fired/",
         "TechCrunch",
         "technology",
         "Based on the board’s language and the way these giant tech companies work, this is the prevailing theory floating around right now."
        ],
        [
         "7",
         "Here’s how Rainforest, a budding Stripe rival, aims to win over software companies",
         "Christine Hall",
         "https://techcrunch.com/2023/10/08/heres-how-rainforest-an-atlanta-fintech-startup-and-stripe-rival-aims-to-win-over-software-companies/",
         "TechCrunch",
         "technology",
         "They really just want to be able to accept payments and generate more revenue from being able to do so."
        ],
        [
         "8",
         "How the conspiracy-fueled Epoch Times went mainstream and made millions",
         null,
         "https://www.nbcnews.com/news/us-news/epoch-times-falun-gong-growth-rcna111373",
         "Hacker News",
         "technology",
         "The group reported $76 million in subscription revenue in 2021, compared to nearly $7 million in 2019."
        ],
        [
         "9",
         "2023 Kentucky online sports betting sites: Best legal sportsbooks, promos, bonuses, mobile apps, how to bet",
         "CBS Sports Staff",
         "https://www.cbssports.com/general/news/2023-kentucky-online-sports-betting-sites-best-legal-sportsbooks-promos-bonuses-mobile-apps-how-to-bet/",
         "CBSSports.com",
         "sports",
         "New customers can get up to $1000 in bonus bets if they lose their first bet."
        ],
        [
         "10",
         "NBA Rookie of the Year Odds - Wembanyama the early favorite",
         "Sam Eggleston",
         "https://www.sportingnews.com/us/betting/news/nba-roty-odds/7af3a635d324b28ff4c554fd",
         "Sporting News",
         "sports",
         "Additionally, Caesars has a competitive welcome bonus for new players and runs NBA betting promos for existing players."
        ],
        [
         "11",
         "Vermont Sportsbook Promos and Sports Betting Launch News",
         "Martin Harris",
         "https://www.sportingnews.com/us/betting/news/vermont-sportsbook-promos/b4779ea9b7172cc57a201b0f",
         "Sporting News",
         "sports",
         "We expect Caesars to offer the same offer in VT is has elsewhere, with new sign-ups eligible to receive up to a $1,000 Bonus Bet if their first bet loses."
        ],
        [
         "12",
         "Is Sam Bankman-Fried a bad ‘man’ or a good ‘boy’? Lawyers swap opening statements before first witnesses take the stand",
         "Ben Weiss",
         "https://fortune.com/crypto/2023/10/04/sam-bankman-fried-lawyers-opening-statements-witnesses-marc-antoine-julliard-adam-yedidia-ftx-commodities-trader-developer/",
         "Fortune",
         "business",
         "But “all of that, all of it, was built on lies,” Rehn declared to the jury."
        ],
        [
         "13",
         "Sam Altman backs teens’ startup, Google unveils the Pixel 8 and TikTok tests an ad-free tier",
         "Kyle Wiggers",
         "https://techcrunch.com/2023/10/07/sam-altman-backs-a-teens-startup-google-unveils-the-pixel-8-and-tiktok-tests-an-ad-free-tier/",
         "TechCrunch",
         "technology",
         "The prosecution painted Bankman-Fried as someone who knowingly committed fraud to achieve great wealth, power and influence, while the defense countered that the FTX founder acted in good faith, never meant to commit fraud or steal and basically got in over his head."
        ],
        [
         "14",
         "Twitch’s money guy talks about the revenue split controversy and its monetization long game",
         "Morgan Sung",
         "https://techcrunch.com/2023/10/26/twitch-mike-minton-chief-monetization-officer-twitchcon-2023-partner-plus-revenue-split/",
         "TechCrunch",
         "technology",
         "Last year, the company announced that it would end the 70/30 subscription revenue split deal that it had offered select streamers in favor of prioritizing ad revenue."
        ],
        [
         "15",
         "Beeper Mini is back in operation after Apple’s attempt to shut it down",
         "Sarah Perez",
         "https://techcrunch.com/2023/12/11/beeper-mini-is-back-in-operation-after-apples-attempt-to-shut-it-down/",
         "TechCrunch",
         "technology",
         "“As soon as things stabilize (we hope they will), we’ll look at turning on subscriptions again,” the blog post reads."
        ],
        [
         "16",
         "Alcoholism, Ayahuasca and the Enlightenment of an N.F.L. Player",
         "The New York Times",
         "https://theathletic.com/5133811/2023/12/14/buffalo-bills-jordan-poyer-ayahuasca/",
         "The New York Times",
         "sports",
         "What he has done, according to former Bills defensive coordinator Les Frazier, now an analyst for NFL Network, is enable his defense to be the best it can by lifting others through versatility, sacrifice, toughness and communication."
        ],
        [
         "17",
         "NFL power rankings: Lions, 49ers level up; Texans jump Bengals, Bills; Jets, Patriots sink to bottom for Week 11",
         "Vinnie Iyer",
         "https://www.sportingnews.com/us/nfl/news/nfl-power-rankings-lions-49ers-texans-jets-patriots/7b7ee6be935efc3c735d72ac",
         "Sporting News",
         "sports",
         "The defense needs to pick up the pieces, too, stat, ahead of facing the Bengals on a short week."
        ],
        [
         "18",
         "WTF is going on at OpenAI? We have theories",
         "Devin Coldewey",
         "https://techcrunch.com/2023/11/17/wtf-is-going-on-at-openai-sam-altman-fired/",
         "TechCrunch",
         "technology",
         "Despite being the hottest tech company in the world right now and everyone talking about ChatGPT, OpenAI isn’t exactly a sound business."
        ],
        [
         "19",
         "How the OpenAI fiasco could bolster Meta and the ‘open AI’ movement",
         "Paul Sawers",
         "https://techcrunch.com/2023/11/21/how-the-openai-fiasco-could-bolster-meta-and-the-open-ai-movement/",
         "TechCrunch",
         "technology",
         "It has been a whirlwind four days for OpenAI, the generative AI poster child behind the smash hit ChatGPT."
        ],
        [
         "20",
         "One year later, ChatGPT is still alive and kicking",
         "Kyle Wiggers",
         "https://techcrunch.com/2023/11/30/one-year-later-chatgpt-is-still-alive-and-kicking/",
         "TechCrunch",
         "technology",
         "Indeed, ChatGPT became priority number one at OpenAI — not simply a one-off product but a development platform to build upon."
        ],
        [
         "21",
         "ChatGPT: Everything you need to know about the AI-powered chatbot",
         "Alyssa Stringer",
         "https://techcrunch.com/2023/09/28/chatgpt-everything-to-know-about-the-ai-chatbot/",
         "TechCrunch",
         "technology",
         "OpenAI announced that GPT-4 with vision will become available alongside the upcoming launch of GPT-4 Turbo API."
        ],
        [
         "22",
         "5 things we learned so far about the Google antitrust case",
         "Rebecca Bellan",
         "https://techcrunch.com/2023/10/30/5-things-we-learned-so-far-about-the-google-antitrust-case/",
         "TechCrunch",
         "technology",
         "When Google’s search head Prabhakar Raghavan testified in court on October 28, he revealed that the tech giant had paid $26.3 billion in 2021 to multiple browsers, phones and platforms, from companies including Apple, Samsung and Mozilla, The Verge reports."
        ],
        [
         "23",
         "Apple defends Google Search deal in court: ‘There wasn’t a valid alternative’",
         "David Pierce",
         "https://www.theverge.com/2023/9/26/23891037/apple-eddy-cue-testimony-us-google",
         "The Verge",
         "technology",
         "The Justice Department is focused on the deals Google makes — with Apple but also with Samsung and Mozilla and many others — to ensure it is the default search engine on practically every platform."
        ],
        [
         "24",
         "News publisher files class action antitrust suit against Google, citing AI’s harms to their bottom line",
         "Sarah Perez",
         "https://techcrunch.com/2023/12/15/news-publisher-files-class-action-antitrust-suit-against-google-citing-ais-harms-to-their-bottom-line/",
         "TechCrunch",
         "technology",
         "The case, filed by Arkansas-based publisher Helena World Chronicle, argues that Google “siphons off” news publishers’ content, their readers and ad revenue through anticompetitive means."
        ],
        [
         "25",
         "‘Biggest win of my career’: De Minaur, Popyrin power Australia into Davis Cup final",
         "Ian Chadband",
         "https://www.theage.com.au/sport/tennis/biggest-win-of-my-career-de-minaur-popyrin-power-australia-into-davis-cup-final-20231125-p5emr5.html?ref=rss&utm_medium=rss&utm_source=rss_sport",
         "The Age",
         "sports",
         "“Hopefully we can go one better this year,” he added, recalling the 2-0 defeat by Canada in 2022."
        ],
        [
         "26",
         "Where to watch England vs South Africa: Live stream, TV channel, lineups, odds for 2023 Rugby World Cup semifinal",
         "Jonathan Burnett",
         "https://www.sportingnews.com/us/rugby-union/news/watch-england-vs-south-africa-stream-channel-rugby-world-cup/20ce7b361138e7c1a1574572",
         "Sporting News",
         "sports",
         "England will no doubt be looking to echo the spirit of 2019, when they beat the All Blacks 19-7 to reach the final, but in South Africa, they face a side who have taken their game to new heights just to reach the semis."
        ],
        [
         "27",
         "Sam Altman backs teens’ startup, Google unveils the Pixel 8 and TikTok tests an ad-free tier",
         "Kyle Wiggers",
         "https://techcrunch.com/2023/10/07/sam-altman-backs-a-teens-startup-google-unveils-the-pixel-8-and-tiktok-tests-an-ad-free-tier/",
         "TechCrunch",
         "technology",
         "Turmoil at Flexport: Dave Clark, the former Amazon executive who was ousted as CEO of Flexport just a year into the job, fired back at its founder and board, calling recent reporting on the logistics company “deeply concerning.” Clark made the comments Monday in a lengthy post on social media site X following a report from CNBC that provided new information about his last days at Flexport, a freight forwarding and customs brokerage startup valued at $8 billion."
        ],
        [
         "28",
         "Cruise hits the brakes on driverless, UAW makes progress and more EV backpedaling",
         "Kirsten Korosec",
         "https://techcrunch.com/2023/10/30/cruise-hits-the-brakes-on-driverless-uaw-makes-progress-and-more-ev-backpedaling/",
         "TechCrunch",
         "technology",
         "Petersen has spent the past month cutting costs, including laying off about 20% of its workers, or about 600 people."
        ],
        [
         "29",
         "The Crown: What is fact and what is fiction on season 6?",
         "Isobel Lewis",
         "https://www.independent.co.uk/arts-entertainment/tv/news/crown-season-6-fact-fiction-diana-b2449430.html",
         "The Independent - Life and Style",
         "entertainment",
         "After learning of Diana’s death from his father at the royal residence of Balmoral in Scotland, William (Rufus Kampa) is left heartbroken with grief and angry at his family’s response to it."
        ],
        [
         "30",
         "Fans react to most ‘heartbreaking’ scene in The Crown",
         "Meredith Clark",
         "https://www.independent.co.uk/life-style/royal-family/news/princess-diana-st-tropez-b2449049.html",
         "The Independent - Life and Style",
         "entertainment",
         "The latest installment takes place between the late 1990s to mid-2000s, and includes the lead-up to Princess Diana’s fatal Paris car crash in 1997."
        ],
        [
         "31",
         "Amazon’s iRobot purchase sucks up formal competition concerns in EU",
         "Natasha Lomas",
         "https://techcrunch.com/2023/11/27/eu-amazon-irobot-statement-of-objections/",
         "TechCrunch",
         "technology",
         "We continue to work through the process with the European Commission and are focused on addressing its questions and any identified concerns at this stage."
        ],
        [
         "32",
         "European consumer groups band together to fight Meta’s self-serving ad-free sub — branding it ‘unfair’ and ‘illegal’",
         "Natasha Lomas",
         "https://techcrunch.com/2023/11/29/beuc-cpc-meta-complaint/",
         "TechCrunch",
         "technology",
         "The process also loops in the European Commission to help facilitate dialogue, assess issues and bring pressure to bear on unfair practices."
        ],
        [
         "33",
         "EU says incoming rules for general purpose AIs can evolve over time",
         "Natasha Lomas",
         "https://techcrunch.com/2023/12/11/eu-ai-act-gpai-rules-evolve/",
         "TechCrunch",
         "technology",
         "And some of these staff will also be deployed within the European Commission,” they added."
        ],
        [
         "34",
         "Elon Musk’s X faces first DSA probe in EU over illegal content risks, moderation, transparency and deceptive UX design",
         "Natasha Lomas",
         "https://techcrunch.com/2023/12/18/x-dsa-probe/",
         "TechCrunch",
         "technology",
         "Its earlier actions were focused on concerns about the spread of illegal content and disinformation related to the Israel-Hamas war."
        ],
        [
         "35",
         "ASX set to drop as Wall Street’s September slump deepens",
         "Stan Choe",
         "https://www.smh.com.au/business/markets/asx-set-to-drop-as-wall-street-s-september-slump-deepens-20230927-p5e7v7.html?ref=rss&utm_medium=rss&utm_source=rss_business",
         "The Sydney Morning Herald",
         "business",
         "Amazon tumbled 4 per cent after the Federal Trade Commission and 17 state attorneys general filed an antitrust lawsuit against it."
        ],
        [
         "36",
         "78 Absolute Best October Prime Day Deals (2023)",
         "Scott Gilbertson",
         "https://www.wired.com/story/best-october-prime-day-deals-2023-5/",
         "Wired",
         "technology",
         "During Prime Day this past summer, Amazon introduced invite-only deals—a system to help make it easier for Prime members to access deals that are expected to sell out quickly—and the company brought it back for Prime Big Deal Days."
        ],
        [
         "37",
         "Here are the best Kindle deals right now",
         "Sheena Vasani",
         "https://www.theverge.com/21539047/best-amazon-kindle-deals",
         "The Verge",
         "technology",
         "Amazon, one of the pioneers of the e-reader, has dominated the space for years with its ever-expanding Kindle lineup, which consists of several unique models with their own pros and cons."
        ],
        [
         "38",
         "Amazon sellers sound off on the FTC's 'long-overdue' antitrust case",
         null,
         "https://www.cnbc.com/2023/10/06/amazon-sellers-sound-off-on-the-ftcs-long-overdue-antitrust-case.html",
         "Cnbc | World Business News Leader",
         "business",
         "“Selling on Amazon is a life-changing opportunity and the amount of sellers that throw stones at the platform is astounding,” one user wrote."
        ],
        [
         "39",
         "The people who ruined the internet",
         "Amanda Chicago Lewis",
         "https://www.theverge.com/features/23931789/seo-search-engine-optimization-experts-google-results",
         "The Verge",
         "technology",
         "The company did accomplish that goal, but in doing so, it inadvertently and profoundly changed how the internet looked."
        ],
        [
         "40",
         "Epic v. Google, explained",
         "Sean Hollister",
         "https://www.theverge.com/23944251/epic-google-antitrust-trial-explainer-monopoly",
         "The Verge",
         "technology",
         "This whole line of argument is called “market definition.” If the court decides the relevant market is phones and app stores, not specifically Android ones, then Google’s on the road to victory."
        ],
        [
         "41",
         "News publisher files class action antitrust suit against Google, citing AI’s harms to their bottom line",
         "Sarah Perez",
         "https://techcrunch.com/2023/12/15/news-publisher-files-class-action-antitrust-suit-against-google-citing-ais-harms-to-their-bottom-line/",
         "TechCrunch",
         "technology",
         "The case, filed by Arkansas-based publisher Helena World Chronicle, argues that Google “siphons off” news publishers’ content, their readers and ad revenue through anticompetitive means."
        ],
        [
         "42",
         "Cowboys vs. 49ers live score, updates, highlights from NFL 'Sunday Night Football' game",
         "Dan Treacy",
         "https://www.sportingnews.com/us/nfl/news/cowboys-49ers-live-score-highlights-sunday-night-football/e46d8e03c6a948aa82f859c3",
         "Sporting News",
         "sports",
         "Fans can also stream the game via Peacock or NBCSports.com with a subscription, along with Fubo, which offers a free trial."
        ],
        [
         "43",
         "Watch great noir this Noirvember",
         "Tasha Robinson",
         "https://www.polygon.com/what-to-watch/23959772/best-noir-movies-watch-streaming-neo-noir",
         "Polygon",
         "entertainment",
         "Where to watch: Streaming free with ads on Tubi, and free with a library card on Kanopy."
        ],
        [
         "44",
         "NBA Rookie of the Year Odds - Wembanyama the early favorite",
         "Sam Eggleston",
         "https://www.sportingnews.com/us/betting/news/nba-roty-odds/7af3a635d324b28ff4c554fd",
         "Sporting News",
         "sports",
         "We urge you to read the requirements for any available promotions and offers before accepting them so you’re aware of any restrictions before betting."
        ],
        [
         "45",
         "Best sportsbook bonus offers for NFL Monday Night Football Eagles vs. Seahawks: Claim over $5,000 in bonuses from Bet365, BetMGM, BetRivers, Caesars Sportsbook, DraftKings and FanDuel ",
         "Sporting News Betting",
         "https://www.sportingnews.com/us/betting/news/best-sportsbook-bonus-offers-eagles-seahawks-mnf-bet365-betmgm-betrivers-caesars-draftkings-fanduel%C2%A0/0cac736f90d80f21daafd8a2",
         "Sporting News",
         "sports",
         "Since you need your moneyline bet to win to claim the $150 in bonus bets, if you’re wagering on tonight’s MNF game, you’ll probably want to go with the favored Eagles."
        ],
        [
         "46",
         "FanDuel 'Prop Stars' Picks: Best bets for Travis Kelce & Taylor Swift-inspired props for Chiefs-Jets Week 4",
         "Nick Brinkerhoff",
         "https://www.sportingnews.com/us/nfl/news/best-chiefs-jets-prop-stars-bets-fanduel-kelce-swift-snf/581275901fe0e3011cdcb562",
         "Sporting News",
         "sports",
         "For bettors, where there is hype, there's also an opportunity to make some money."
        ],
        [
         "47",
         "The Steam Deck OLED arrives November 16 with an improved screen and longer battery life",
         "Jessica Conditt,Aaron Souppouris",
         "https://www.engadget.com/the-steam-deck-oled-arrives-november-16-with-an-improved-screen-and-longer-battery-life-180032945.html?src=rss",
         "Engadget",
         "technology",
         "Valve has announced a new Steam Deck and — double surprise — we’ve already reviewed it."
        ],
        [
         "48",
         "The Steam Deck OLED improves much more than its screen",
         "Chris Plante",
         "https://www.polygon.com/reviews/23950861/steam-deck-oled-review-valve-handheld-gaming",
         "Polygon",
         "entertainment",
         "Since the original Steam Deck launched, Valve has been improving the hardware through updates — its team estimates around 300 to date."
        ],
        [
         "49",
         "The Steam Deck OLED arrives November 16 with an improved screen and longer battery life",
         "Jessica Conditt,Aaron Souppouris",
         "https://www.engadget.com/the-steam-deck-oled-arrives-november-16-with-an-improved-screen-and-longer-battery-life-180032945.html?src=rss",
         "Engadget",
         "technology",
         "For now, Griffais explained, it's important to Valve that developers don't need to \"split their attention\" between different performance targets."
        ]
       ],
       "shape": {
        "columns": 6,
        "rows": 6084
       }
      },
      "text/html": [
       "<div>\n",
       "<style scoped>\n",
       "    .dataframe tbody tr th:only-of-type {\n",
       "        vertical-align: middle;\n",
       "    }\n",
       "\n",
       "    .dataframe tbody tr th {\n",
       "        vertical-align: top;\n",
       "    }\n",
       "\n",
       "    .dataframe thead th {\n",
       "        text-align: right;\n",
       "    }\n",
       "</style>\n",
       "<table border=\"1\" class=\"dataframe\">\n",
       "  <thead>\n",
       "    <tr style=\"text-align: right;\">\n",
       "      <th></th>\n",
       "      <th>title</th>\n",
       "      <th>author</th>\n",
       "      <th>url</th>\n",
       "      <th>source</th>\n",
       "      <th>category</th>\n",
       "      <th>fact</th>\n",
       "    </tr>\n",
       "  </thead>\n",
       "  <tbody>\n",
       "    <tr>\n",
       "      <th>0</th>\n",
       "      <td>The FTX trial is bigger than Sam Bankman-Fried</td>\n",
       "      <td>Elizabeth Lopatto</td>\n",
       "      <td>https://www.theverge.com/2023/9/28/23893269/ft...</td>\n",
       "      <td>The Verge</td>\n",
       "      <td>technology</td>\n",
       "      <td>Before his fall, Bankman-Fried made himself ou...</td>\n",
       "    </tr>\n",
       "    <tr>\n",
       "      <th>1</th>\n",
       "      <td>SBF’s trial starts soon, but how did he — and ...</td>\n",
       "      <td>Jacquelyn Melinek</td>\n",
       "      <td>https://techcrunch.com/2023/10/01/ftx-lawsuit-...</td>\n",
       "      <td>TechCrunch</td>\n",
       "      <td>technology</td>\n",
       "      <td>The highly anticipated criminal trial for Sam ...</td>\n",
       "    </tr>\n",
       "    <tr>\n",
       "      <th>2</th>\n",
       "      <td>Sam Altman backs teens’ startup, Google unveil...</td>\n",
       "      <td>Kyle Wiggers</td>\n",
       "      <td>https://techcrunch.com/2023/10/07/sam-altman-b...</td>\n",
       "      <td>TechCrunch</td>\n",
       "      <td>technology</td>\n",
       "      <td>The prosecution painted Bankman-Fried as someo...</td>\n",
       "    </tr>\n",
       "    <tr>\n",
       "      <th>3</th>\n",
       "      <td>Donald Trump defrauded banks with 'fantasy' to...</td>\n",
       "      <td>Michael R. Sisak, The Associated Press</td>\n",
       "      <td>https://fortune.com/2023/09/26/donald-trump-fr...</td>\n",
       "      <td>Fortune</td>\n",
       "      <td>business</td>\n",
       "      <td>No apartment in New York City has ever sold fo...</td>\n",
       "    </tr>\n",
       "    <tr>\n",
       "      <th>4</th>\n",
       "      <td>The $777 million surprise: Donald Trump is get...</td>\n",
       "      <td>Tom Maloney</td>\n",
       "      <td>https://www.theage.com.au/business/companies/t...</td>\n",
       "      <td>The Age</td>\n",
       "      <td>business</td>\n",
       "      <td>The prosecution argues that was to mask a drop...</td>\n",
       "    </tr>\n",
       "    <tr>\n",
       "      <th>...</th>\n",
       "      <td>...</td>\n",
       "      <td>...</td>\n",
       "      <td>...</td>\n",
       "      <td>...</td>\n",
       "      <td>...</td>\n",
       "      <td>...</td>\n",
       "    </tr>\n",
       "    <tr>\n",
       "      <th>6079</th>\n",
       "      <td>SBF Trial: The latest updates from the FTX col...</td>\n",
       "      <td>Morgan Little</td>\n",
       "      <td>https://techcrunch.com/2023/10/06/sbf-trial-th...</td>\n",
       "      <td>TechCrunch</td>\n",
       "      <td>technology</td>\n",
       "      <td>The second week of the trial’s standout testim...</td>\n",
       "    </tr>\n",
       "    <tr>\n",
       "      <th>6080</th>\n",
       "      <td>Sam Altman backs teens’ startup, Google unveil...</td>\n",
       "      <td>Kyle Wiggers</td>\n",
       "      <td>https://techcrunch.com/2023/10/07/sam-altman-b...</td>\n",
       "      <td>TechCrunch</td>\n",
       "      <td>technology</td>\n",
       "      <td>The prosecution painted Bankman-Fried as someo...</td>\n",
       "    </tr>\n",
       "    <tr>\n",
       "      <th>6081</th>\n",
       "      <td>Israel's blockade of Gaza means that a region ...</td>\n",
       "      <td>Topher L. McDougal, The Conversation</td>\n",
       "      <td>https://fortune.com/2023/10/13/israel-blockade...</td>\n",
       "      <td>Fortune</td>\n",
       "      <td>business</td>\n",
       "      <td>Israel stopped allowing deliveries of food, fu...</td>\n",
       "    </tr>\n",
       "    <tr>\n",
       "      <th>6082</th>\n",
       "      <td>Israel's blockade of Gaza means that a region ...</td>\n",
       "      <td>Topher L. McDougal, The Conversation</td>\n",
       "      <td>https://fortune.com/2023/10/13/israel-blockade...</td>\n",
       "      <td>Fortune</td>\n",
       "      <td>business</td>\n",
       "      <td>While Israel has granted permits to about 17,0...</td>\n",
       "    </tr>\n",
       "    <tr>\n",
       "      <th>6083</th>\n",
       "      <td>&amp;#039;Massive intel failure by Mossad&amp;#039;: H...</td>\n",
       "      <td>NaN</td>\n",
       "      <td>https://www.businesstoday.in/latest/world/stor...</td>\n",
       "      <td>Business Today | Latest Stock Market And Econo...</td>\n",
       "      <td>business</td>\n",
       "      <td>Another user said that no one can carry out su...</td>\n",
       "    </tr>\n",
       "  </tbody>\n",
       "</table>\n",
       "<p>6084 rows × 6 columns</p>\n",
       "</div>"
      ],
      "text/plain": [
       "                                                  title  \\\n",
       "0        The FTX trial is bigger than Sam Bankman-Fried   \n",
       "1     SBF’s trial starts soon, but how did he — and ...   \n",
       "2     Sam Altman backs teens’ startup, Google unveil...   \n",
       "3     Donald Trump defrauded banks with 'fantasy' to...   \n",
       "4     The $777 million surprise: Donald Trump is get...   \n",
       "...                                                 ...   \n",
       "6079  SBF Trial: The latest updates from the FTX col...   \n",
       "6080  Sam Altman backs teens’ startup, Google unveil...   \n",
       "6081  Israel's blockade of Gaza means that a region ...   \n",
       "6082  Israel's blockade of Gaza means that a region ...   \n",
       "6083  &#039;Massive intel failure by Mossad&#039;: H...   \n",
       "\n",
       "                                      author  \\\n",
       "0                          Elizabeth Lopatto   \n",
       "1                          Jacquelyn Melinek   \n",
       "2                               Kyle Wiggers   \n",
       "3     Michael R. Sisak, The Associated Press   \n",
       "4                                Tom Maloney   \n",
       "...                                      ...   \n",
       "6079                           Morgan Little   \n",
       "6080                            Kyle Wiggers   \n",
       "6081    Topher L. McDougal, The Conversation   \n",
       "6082    Topher L. McDougal, The Conversation   \n",
       "6083                                     NaN   \n",
       "\n",
       "                                                    url  \\\n",
       "0     https://www.theverge.com/2023/9/28/23893269/ft...   \n",
       "1     https://techcrunch.com/2023/10/01/ftx-lawsuit-...   \n",
       "2     https://techcrunch.com/2023/10/07/sam-altman-b...   \n",
       "3     https://fortune.com/2023/09/26/donald-trump-fr...   \n",
       "4     https://www.theage.com.au/business/companies/t...   \n",
       "...                                                 ...   \n",
       "6079  https://techcrunch.com/2023/10/06/sbf-trial-th...   \n",
       "6080  https://techcrunch.com/2023/10/07/sam-altman-b...   \n",
       "6081  https://fortune.com/2023/10/13/israel-blockade...   \n",
       "6082  https://fortune.com/2023/10/13/israel-blockade...   \n",
       "6083  https://www.businesstoday.in/latest/world/stor...   \n",
       "\n",
       "                                                 source    category  \\\n",
       "0                                             The Verge  technology   \n",
       "1                                            TechCrunch  technology   \n",
       "2                                            TechCrunch  technology   \n",
       "3                                               Fortune    business   \n",
       "4                                               The Age    business   \n",
       "...                                                 ...         ...   \n",
       "6079                                         TechCrunch  technology   \n",
       "6080                                         TechCrunch  technology   \n",
       "6081                                            Fortune    business   \n",
       "6082                                            Fortune    business   \n",
       "6083  Business Today | Latest Stock Market And Econo...    business   \n",
       "\n",
       "                                                   fact  \n",
       "0     Before his fall, Bankman-Fried made himself ou...  \n",
       "1     The highly anticipated criminal trial for Sam ...  \n",
       "2     The prosecution painted Bankman-Fried as someo...  \n",
       "3     No apartment in New York City has ever sold fo...  \n",
       "4     The prosecution argues that was to mask a drop...  \n",
       "...                                                 ...  \n",
       "6079  The second week of the trial’s standout testim...  \n",
       "6080  The prosecution painted Bankman-Fried as someo...  \n",
       "6081  Israel stopped allowing deliveries of food, fu...  \n",
       "6082  While Israel has granted permits to about 17,0...  \n",
       "6083  Another user said that no one can carry out su...  \n",
       "\n",
       "[6084 rows x 6 columns]"
      ]
     },
     "execution_count": 5,
     "metadata": {},
     "output_type": "execute_result"
    }
   ],
   "source": [
    "extra_df = pd.read_csv('data/external/extra_df.csv')\n",
    "extra_df"
   ]
  },
  {
   "cell_type": "code",
   "execution_count": 46,
   "metadata": {},
   "outputs": [],
   "source": [
    "import json\n",
    "with open('a.json', 'w') as f:\n",
    "    json.dump(list(train_df['answer'].unique()), f)"
   ]
  },
  {
   "cell_type": "code",
   "execution_count": 49,
   "metadata": {},
   "outputs": [
    {
     "data": {
      "text/plain": [
       "answer\n",
       "yes                         578\n",
       "no                          429\n",
       "insufficient information    229\n",
       "sam bankman-fried           215\n",
       "google                      159\n",
       "                           ... \n",
       "change                        1\n",
       "consistency                   1\n",
       "constantinople                1\n",
       "alan turing                   1\n",
       "cybertruck                    1\n",
       "Name: count, Length: 152, dtype: int64"
      ]
     },
     "execution_count": 49,
     "metadata": {},
     "output_type": "execute_result"
    }
   ],
   "source": [
    "train_df['answer'].value_counts()"
   ]
  },
  {
   "cell_type": "code",
   "execution_count": 43,
   "metadata": {},
   "outputs": [
    {
     "data": {
      "text/plain": [
       "category\n",
       "technology       3293\n",
       "sports           1263\n",
       "business          950\n",
       "entertainment     512\n",
       "science            43\n",
       "health             23\n",
       "Name: count, dtype: int64"
      ]
     },
     "execution_count": 43,
     "metadata": {},
     "output_type": "execute_result"
    }
   ],
   "source": [
    "extra_df['category'].value_counts()"
   ]
  },
  {
   "cell_type": "code",
   "execution_count": 42,
   "metadata": {},
   "outputs": [
    {
     "data": {
      "text/plain": [
       "count    1981.000000\n",
       "mean      290.212519\n",
       "std        75.122289\n",
       "min        21.000000\n",
       "25%       251.000000\n",
       "50%       289.000000\n",
       "75%       337.000000\n",
       "max       652.000000\n",
       "Name: questions, dtype: float64"
      ]
     },
     "execution_count": 42,
     "metadata": {},
     "output_type": "execute_result"
    }
   ],
   "source": [
    "train_df['questions'].apply(len).describe()"
   ]
  },
  {
   "cell_type": "code",
   "execution_count": 19,
   "metadata": {},
   "outputs": [
    {
     "data": {
      "application/vnd.microsoft.datawrangler.viewer.v0+json": {
       "columns": [
        {
         "name": "index",
         "rawType": "int64",
         "type": "integer"
        },
        {
         "name": "questions",
         "rawType": "object",
         "type": "string"
        },
        {
         "name": "answer",
         "rawType": "object",
         "type": "string"
        },
        {
         "name": "answer_",
         "rawType": "int64",
         "type": "integer"
        }
       ],
       "conversionMethod": "pd.DataFrame",
       "ref": "75e8a018-1d72-48a6-8a13-66cd869e312e",
       "rows": [
        [
         "0",
         "Between the TechCrunch report on Sam Bankman-Fried published on October 2, 2023, and the TechCrunch report on Sam Bankman-Fried published on October 7, 2023, was there consistency in the portrayal of Sam Bankman-Fried's alleged actions?",
         "yes",
         "0"
        ],
        [
         "1",
         "Between the report from The Verge on Apple's defense of its Google Search deal published on September 26, 2023, and the class action antitrust suit against Google reported by TechCrunch, was there no change in the portrayal of Google's business practices related to competition and market dominance?",
         "no",
         "1"
        ],
        [
         "2",
         "Between the Polygon article published on September 28, 2023, discussing \"Hellraiser (film)\" and the FOX News - Lifestyle article published on October 30, 2023, mentioning \"The Exorcist (book and movie),\" is there consistency in reporting the adaptation sequence of the original works into films?",
         "yes",
         "0"
        ],
        [
         "3",
         "Did the reporting on player actions in sports by Sporting News change between the article featuring Jones from the USC vs. Notre Dame game published on October 14, 2023, and the article discussing Cristian Romero's tackle in the Tottenham vs Chelsea game published on November 6, 2023?",
         "no",
         "1"
        ],
        [
         "4",
         "Does the Sporting News article claim that Caesars Sportsbook offers a cash-out option for early bet settlement, while the CBSSports.com and the second Sporting News article both focus on Caesars Sportsbook providing a welcome bonus offer for new customers?",
         "yes",
         "0"
        ],
        [
         "5",
         "Which company, covered by TechCrunch for not switching to a browser competitor during iPhone setup, by Engadget for focusing on Macs and new chipsets at an event, and twice by The Verge for defending a search deal in court and for enforcing uniform terms on developers, OEMs, and carriers through its store and payment system?",
         "apple",
         "3"
        ],
        [
         "6",
         "Does \"The Independent - Life and Style\" article on Jada Pinkett Smith and Will Smith's marriage suggest a different level of commitment to avoiding divorce compared to the stance on divorce expressed in a separate \"The Independent - Life and Style\" article discussing Will Smith and Jada Pinkett Smith's marriage?",
         "no",
         "1"
        ],
        [
         "7",
         "Considering the information from a Times of India article on the growth of tech startups in Bangalore and a Deccan Herald report on the city's traffic management initiatives, which single letter represents both the first character of the startup that recently received significant funding to expand its AI-driven services and the initial of the new traffic signal system implemented at a major Bangalore intersection?",
         "insufficient information",
         "2"
        ],
        [
         "8",
         "Does the FOX News - Health article attribute the positive impact on well-being and hope to the Caring Contacts program, while the FOX News - Lifestyle article suggests that Marketing practices overshadow the message of hope?",
         "yes",
         "0"
        ],
        [
         "9",
         "Between the Engadget report on the Valve Steam Deck OLED published on November 9, 2023, at 18:00:32, and the Engadget review of the Valve Steam Deck OLED published on November 9, 2023, at 18:00:38, was the reporting on the release date of the new Steam Deck OLED consistent?",
         "yes",
         "0"
        ],
        [
         "10",
         "Was there inconsistency in the promotional offers reported by Sporting News on September 26, 2023, regarding the Caesars Sportsbook promo for new sign-ups in Vermont, and by CBSSports.com on October 13, 2023, about the Caesars Sportsbook offer for new customers?",
         "no",
         "1"
        ],
        [
         "11",
         "Did TechCrunch's subsequent report on a class action antitrust suit against Google on December 1, 2023, indicate a consistent portrayal of Google's business practices by the news source?",
         "no",
         "1"
        ],
        [
         "12",
         "Was the policy on price matching for customers at HP inconsistent according to The Verge before Polygon reported on the ineligibility for price matching on purchases?",
         "no",
         "1"
        ],
        [
         "13",
         "Does the 'Sporting News' article identify Scott McTominay as Manchester United's top scorer for the season, while the 'TalkSport' article recognizes Erling Haaland as the joint-leading scorer from the Champions League group stages?",
         "yes",
         "0"
        ],
        [
         "14",
         "Which company, recently reported by TechCrunch, has been involved in an antitrust court case providing extensive evidence against claims of hiding discovery items, has received early impressions for a product compared to OpenAI's GPT-3.5, and is accused by news publishers of harming their revenues through anticompetitive practices?",
         "google",
         "3"
        ],
        [
         "15",
         "What U.S. Supreme Court case in 1973 legalized abortion nationwide?",
         "roe v wade",
         "3"
        ],
        [
         "16",
         "What company, according to TechCrunch, claims to have developed a generative AI model with superior architecture while also spending billions to secure its position as the default search engine and is accused of harming news publishers’ revenues through anticompetitive practices?",
         "google",
         "3"
        ],
        [
         "17",
         "Does the TechCrunch article suggest a different type of investigation involving Influenceable compared to the Sporting News article's mention of the University of Michigan's involvement in an investigation related to document provision?",
         "no",
         "1"
        ],
        [
         "18",
         "Does 'The Verge' article suggest that Sam Bankman-Fried set withdrawal permissions based on FTX's trading revenue, while 'Fortune' and 'TechCrunch' articles focus on his personal actions and influence, such as persuading Adam Yedidia to join his companies and committing fraud for personal gain, without mentioning specific operational policies at FTX?",
         "yes",
         "0"
        ],
        [
         "19",
         "Does the Sporting News article suggest that Brock Purdy's performance against the Cowboys was more successful in terms of touchdowns thrown compared to the CBSSports.com article's assessment of his performance under pressure?",
         "yes",
         "0"
        ],
        [
         "20",
         "Does the TalkSport article suggest that Manchester United's defensive performance in the Champions League group stages is better than in previous years, as indicated by a new record for goals conceded, while The Guardian article implies that Manchester United's overall performance under pressure in the Champions League, especially in Istanbul, has been consistently poor?",
         "no",
         "1"
        ],
        [
         "21",
         "What entity is likely to win a legal case regarding phones and app stores according to an article from The Verge, and is also accused by a news publisher in a class action antitrust suit reported by TechCrunch for harming their business through anticompetitive practices?",
         "google",
         "3"
        ],
        [
         "22",
         "Do the articles from The Roar | Sports Writers Blog discussing The All Blacks' actions in the Rugby World Cup final and their previous encounters with Argentina both present The All Blacks as having faced challenges in their gameplay, or do they portray different situations regarding The All Blacks' performance?",
         "yes",
         "0"
        ],
        [
         "23",
         "Was there inconsistency in the reporting of the release date or immediate availability of the Steam Deck OLED from Valve between the Engadget report on the Steam Deck OLED published on November 9, 2023, at 18:00:32, and the Engadget review of the Steam Deck OLED published shortly after on November 9, 2023, at 18:00:38?",
         "no",
         "1"
        ],
        [
         "24",
         "Did 'Sport Grill' report on Tessa Wullaert scoring a decisive penalty before 'The Roar | Sports Writers Blog' reported on Cole Palmer scoring a penalty to secure a draw for Chelsea?",
         "yes",
         "0"
        ],
        [
         "25",
         "Who is the individual under 30, formerly associated with FTX and Alameda Research, who was described by 'Fortune' as using a front for secret access to customer funds, by 'The Verge' as overwhelmed by the growth of his company to manage it alongside another, and by 'TechCrunch' as both the richest person in his age group with altruistic spending intentions and as someone accused of committing fraud for personal gain?",
         "sam bankman-fried",
         "3"
        ],
        [
         "26",
         "What institution, recently mentioned in articles from both 'Fortune' and 'The Sydney Morning Herald,' has been both forced to aggressively hike interest rates in response to inflation and booming home prices, and whose future decisions on whether to continue this trend or halt it are anticipated by investors based on incoming economic data?",
         "federal reserve",
         "3"
        ],
        [
         "27",
         "Before The New York Times reported on Norway's football team's lack of competitiveness in major football tournaments on November 17, 2023, did the Sporting News describe Manchester United's historical performance against Chelsea as worse with seven wins and only one defeat in their first 12 encounters from 1905 to 1913?",
         "no",
         "1"
        ],
        [
         "28",
         "Who is the individual that, according to a 'Cnbc | World Business News Leader' article, planned to establish a board with experts for a cryptocurrency exchange without investor directors, was reported by 'The Verge' to have used customer funds to buy out a competing firm, and is alleged by the prosecution in a 'TechCrunch' article to have committed fraud for personal gain?",
         "sam bankman-fried",
         "3"
        ],
        [
         "29",
         "Who is the individual facing a jury's assessment of contrasting legal narratives in Fortune, is reported by the same source to have recruited a former Jane Street trader to his ventures, and is accused by the prosecution of committing fraud for personal gain according to TechCrunch?",
         "sam bankman-fried",
         "3"
        ],
        [
         "30",
         "Do the 'Business Line' article's claims about central bankers' response to supply disruptions and the 'Fortune' article's claims about Federal Reserve officials' actions to combat inflation both suggest a decrease in interest rates?",
         "no",
         "1"
        ],
        [
         "31",
         "Does TechCrunch describe Sam Bankman-Fried's actions in handling customer funds similarly to the way it portrays his pursuit of wealth, power, and influence, with both descriptions implying misconduct, or are the portrayals different?",
         "similar",
         "3"
        ],
        [
         "32",
         "Who is the individual under 30, previously associated with FTX and Alameda Research, who faced allegations of fraud and is reported by both TechCrunch and The Verge to have had significant influence and wealth, yet struggled with the management of his rapidly growing companies?",
         "sam bankman-fried",
         "3"
        ],
        [
         "33",
         "Considering the information from a BBC article detailing the government's new environmental policy in Delhi and a Times of India report on the recent traffic congestion reforms, which single character from the Delhi government is at the intersection of implementing both the environmental and traffic policies?",
         "insufficient information",
         "2"
        ],
        [
         "34",
         "Did the Federal Reserve change its stance on basing its interest rate decisions on incoming economic data after The Sydney Morning Herald reported on it before October 1, 2023, and did their influence on global financial markets differ from what The Sydney Morning Herald highlighted in a subsequent report?",
         "no",
         "1"
        ],
        [
         "35",
         "Which company, reported by both The Verge and TechCrunch, has been involved in legal scrutiny for its financial practices to maintain default search engine status on various platforms and has faced antitrust allegations concerning its impact on news publishers' revenues?",
         "google",
         "3"
        ],
        [
         "36",
         "Does the Fortune article claim that Sam Bankman-Fried used Caroline Ellison as a front for secret access to customer funds at Alameda Research, while the TechCrunch article alleges that Caroline Ellison took $14 billion from customers to repay debts under Sam Bankman-Fried's instruction, or do both articles assert the same involvement of Sam Bankman-Fried in the misuse of customer funds?",
         "yes",
         "0"
        ],
        [
         "37",
         "Do the articles from The Verge and TechCrunch both suggest that interactive activities, such as dressing up for parents of children interested in Pokémon and conversing with Alexa, are methods to engage with children, or do they propose different engagement strategies?",
         "yes",
         "0"
        ],
        [
         "38",
         "Considering the information from an article in The Economic Times about the recent infrastructure developments in Koramangala and another from The Hindu reporting on the new traffic management system implemented in the same area, which letter of the alphabet is the starting character of the name of the company that has been awarded the contract for both projects?",
         "insufficient information",
         "2"
        ],
        [
         "39",
         "Who is the individual associated with FTX and Alameda Research that allegedly used customer funds to secure personal gains and simultaneously expressed to Paradigm a desire to establish an expert board for FTX while admitting challenges in managing the rapid expansion of both companies, as reported by Cnbc | World Business News Leader, The Verge, and TechCrunch?",
         "sam bankman-fried",
         "3"
        ],
        [
         "40",
         "Does the 'FOX News - Lifestyle' article featuring Pastor Jesse Bradley suggest that faith in God holds a different value for America's future compared to the value of God depicted in the 'Polygon' article discussing 'Preacher (comic book and TV adaptation)'?",
         "yes",
         "0"
        ],
        [
         "41",
         "What company, according to TechCrunch articles, not only released a \"lite\" version of its AI model instead of the full version but also spent billions in 2021 to secure its position as the default search engine on various platforms and has faced a class action antitrust suit for allegedly harming news publishers' revenue and content?",
         "google",
         "3"
        ],
        [
         "42",
         "Which company, defended by Apple for being the default search engine on platforms like Samsung and Mozilla according to The Verge, is also the creator of Gemini, a generative AI model claimed by TechCrunch to potentially meet or exceed GPT-4's performance, and is accused in a class action antitrust suit reported by TechCrunch of harming news publishers' bottom lines by siphoning off their content, readers, and ad revenue?",
         "google",
         "3"
        ],
        [
         "43",
         "Do the articles from Sporting News discussing NBA Rookie of the Year odds and MLB betting rules both indicate that Sportsbooks and a Sportsbook, respectively, adjust their practices based on external factors?",
         "yes",
         "0"
        ],
        [
         "44",
         "Does the article from The Age suggest that the economic conditions of people have worsened, impacting the middle class and their shopping habits, in contrast to Engadget's focus on providing Engadget readers with updates on Black Friday deals without discussing the economic conditions?",
         "yes",
         "0"
        ],
        [
         "45",
         "Does the TechCrunch article suggest that Google's actions towards news publishers are anticompetitive, while The Age article implies that users are accepting of potential misconduct by Google, and another TechCrunch article reports on Google's hardware event, indicating different contexts of Google's activities in each source?",
         "yes",
         "0"
        ],
        [
         "46",
         "Between the article from Polygon published on September 26, 2023, highlighting individuals using online platforms for marketing, and the piece from Music Business Worldwide on December 7, 2023, discussing digital marketing strategies in the music industry, have the reported applications of digital marketing strategies by individuals and companies remained consistent or inconsistent?",
         "consistent",
         "3"
        ],
        [
         "47",
         "Did the article from Music Business Worldwide about \"Iñigo Quintero's Si No Estás\" failing to reach the top of Spotify's Global Top 50 and the article from Music Business Worldwide discussing Capitol Music Group's status as the top-performing label both indicate a leading position in their respective music industry categories?",
         "no",
         "1"
        ],
        [
         "48",
         "Does the 'Sporting News' article claim that Newcastle United defeated Manchester United in the Carabao Cup, aligning with 'The Guardian' article's claim that Newcastle will face Chelsea in the quarter-finals, indicating both sources confirm Newcastle's progression in the tournament?",
         "yes",
         "0"
        ],
        [
         "49",
         "Between the report by The Verge on Apple's defense of its Google Search deal published on September 26, 2023, and the report by TechCrunch on the class action antitrust suit against Google published on December 15, 2023, was there a change in the portrayal of Google's business practices with respect to their impact on other companies?",
         "yes",
         "0"
        ]
       ],
       "shape": {
        "columns": 3,
        "rows": 1981
       }
      },
      "text/html": [
       "<div>\n",
       "<style scoped>\n",
       "    .dataframe tbody tr th:only-of-type {\n",
       "        vertical-align: middle;\n",
       "    }\n",
       "\n",
       "    .dataframe tbody tr th {\n",
       "        vertical-align: top;\n",
       "    }\n",
       "\n",
       "    .dataframe thead th {\n",
       "        text-align: right;\n",
       "    }\n",
       "</style>\n",
       "<table border=\"1\" class=\"dataframe\">\n",
       "  <thead>\n",
       "    <tr style=\"text-align: right;\">\n",
       "      <th></th>\n",
       "      <th>questions</th>\n",
       "      <th>answer</th>\n",
       "      <th>answer_</th>\n",
       "    </tr>\n",
       "  </thead>\n",
       "  <tbody>\n",
       "    <tr>\n",
       "      <th>0</th>\n",
       "      <td>Between the TechCrunch report on Sam Bankman-F...</td>\n",
       "      <td>yes</td>\n",
       "      <td>0</td>\n",
       "    </tr>\n",
       "    <tr>\n",
       "      <th>1</th>\n",
       "      <td>Between the report from The Verge on Apple's d...</td>\n",
       "      <td>no</td>\n",
       "      <td>1</td>\n",
       "    </tr>\n",
       "    <tr>\n",
       "      <th>2</th>\n",
       "      <td>Between the Polygon article published on Septe...</td>\n",
       "      <td>yes</td>\n",
       "      <td>0</td>\n",
       "    </tr>\n",
       "    <tr>\n",
       "      <th>3</th>\n",
       "      <td>Did the reporting on player actions in sports ...</td>\n",
       "      <td>no</td>\n",
       "      <td>1</td>\n",
       "    </tr>\n",
       "    <tr>\n",
       "      <th>4</th>\n",
       "      <td>Does the Sporting News article claim that Caes...</td>\n",
       "      <td>yes</td>\n",
       "      <td>0</td>\n",
       "    </tr>\n",
       "    <tr>\n",
       "      <th>...</th>\n",
       "      <td>...</td>\n",
       "      <td>...</td>\n",
       "      <td>...</td>\n",
       "    </tr>\n",
       "    <tr>\n",
       "      <th>1976</th>\n",
       "      <td>Did Engadget fail to report a discount on the ...</td>\n",
       "      <td>no</td>\n",
       "      <td>1</td>\n",
       "    </tr>\n",
       "    <tr>\n",
       "      <th>1977</th>\n",
       "      <td>Between the TechCrunch article on December 7, ...</td>\n",
       "      <td>yes</td>\n",
       "      <td>0</td>\n",
       "    </tr>\n",
       "    <tr>\n",
       "      <th>1978</th>\n",
       "      <td>Did the FOX News - Entertainment article attri...</td>\n",
       "      <td>yes</td>\n",
       "      <td>0</td>\n",
       "    </tr>\n",
       "    <tr>\n",
       "      <th>1979</th>\n",
       "      <td>Which company, covered by The Verge for exclus...</td>\n",
       "      <td>valve</td>\n",
       "      <td>3</td>\n",
       "    </tr>\n",
       "    <tr>\n",
       "      <th>1980</th>\n",
       "      <td>Does the article from The Independent - Travel...</td>\n",
       "      <td>yes</td>\n",
       "      <td>0</td>\n",
       "    </tr>\n",
       "  </tbody>\n",
       "</table>\n",
       "<p>1981 rows × 3 columns</p>\n",
       "</div>"
      ],
      "text/plain": [
       "                                              questions answer  answer_\n",
       "0     Between the TechCrunch report on Sam Bankman-F...    yes        0\n",
       "1     Between the report from The Verge on Apple's d...     no        1\n",
       "2     Between the Polygon article published on Septe...    yes        0\n",
       "3     Did the reporting on player actions in sports ...     no        1\n",
       "4     Does the Sporting News article claim that Caes...    yes        0\n",
       "...                                                 ...    ...      ...\n",
       "1976  Did Engadget fail to report a discount on the ...     no        1\n",
       "1977  Between the TechCrunch article on December 7, ...    yes        0\n",
       "1978  Did the FOX News - Entertainment article attri...    yes        0\n",
       "1979  Which company, covered by The Verge for exclus...  valve        3\n",
       "1980  Does the article from The Independent - Travel...    yes        0\n",
       "\n",
       "[1981 rows x 3 columns]"
      ]
     },
     "execution_count": 19,
     "metadata": {},
     "output_type": "execute_result"
    }
   ],
   "source": [
    "train_df['answer_'] = train_df['answer'].apply(lambda x: ['yes', 'no', 'insufficient information'].index(x) if x in ['yes', 'no', 'insufficient information'] else 3)\n",
    "train_df"
   ]
  },
  {
   "cell_type": "code",
   "execution_count": 39,
   "metadata": {},
   "outputs": [],
   "source": [
    "params = {\n",
    "    'iterations': 10000,\n",
    "    'depth': 8,\n",
    "    'learning_rate': 0.01,\n",
    "    'l2_leaf_reg': 4,\n",
    "    'subsample': 0.9,\n",
    "    # 'colsample_bylevel': 0.8,\n",
    "    'loss_function': 'MultiClass',\n",
    "    'eval_metric': 'Accuracy',\n",
    "    'bootstrap_type': 'Bernoulli',\n",
    "    'task_type': 'GPU',\n",
    "    'boosting_type': 'Plain',\n",
    "}\n",
    "model = cb.CatBoostClassifier(**params)"
   ]
  },
  {
   "cell_type": "code",
   "execution_count": 40,
   "metadata": {},
   "outputs": [
    {
     "name": "stdout",
     "output_type": "stream",
     "text": [
      "0:\tlearn: 0.8263889\ttest: 0.7984887\tbest: 0.7984887 (0)\ttotal: 8.33ms\tremaining: 1m 23s\n",
      "100:\tlearn: 0.8377525\ttest: 0.8110831\tbest: 0.8161209 (65)\ttotal: 725ms\tremaining: 1m 11s\n",
      "200:\tlearn: 0.8459596\ttest: 0.8110831\tbest: 0.8161209 (65)\ttotal: 1.44s\tremaining: 1m 10s\n",
      "bestTest = 0.8161209068\n",
      "bestIteration = 65\n",
      "Shrink model to first 66 iterations.\n"
     ]
    },
    {
     "data": {
      "text/plain": [
       "<catboost.core.CatBoostClassifier at 0x75f55424de90>"
      ]
     },
     "execution_count": 40,
     "metadata": {},
     "output_type": "execute_result"
    }
   ],
   "source": [
    "train_X, test_X, train_y, test_y = train_test_split(train_df[['questions']], train_df['answer_'],\n",
    "                                                    test_size=0.2, shuffle=True, random_state=42)\n",
    "\n",
    "train_dataset = cb.Pool(data=train_X,\n",
    "                        label=train_y,\n",
    "                        text_features=['questions'])\n",
    "\n",
    "eval_dataset = cb.Pool(data=test_X,\n",
    "                       label=test_y,\n",
    "                       text_features=['questions'])\n",
    "\n",
    "model.fit(\n",
    "    train_dataset,\n",
    "    eval_set=eval_dataset,\n",
    "    early_stopping_rounds=200,\n",
    "    verbose=100,\n",
    ")"
   ]
  },
  {
   "cell_type": "code",
   "execution_count": 47,
   "metadata": {},
   "outputs": [
    {
     "data": {
      "application/vnd.microsoft.datawrangler.viewer.v0+json": {
       "columns": [
        {
         "name": "index",
         "rawType": "int64",
         "type": "integer"
        },
        {
         "name": "ID",
         "rawType": "int64",
         "type": "integer"
        },
        {
         "name": "questions",
         "rawType": "object",
         "type": "string"
        }
       ],
       "conversionMethod": "pd.DataFrame",
       "ref": "6fb8b406-c353-4139-bdcf-ec76a199a4fb",
       "rows": [
        [
         "0",
         "0",
         "After the TechCrunch report on November 18, 2023, suggesting that Sam Altman was being fully truthful with the board, and the Fortune article on the same day stating that Sam Altman and the ex-chairman were shocked and saddened by the board's actions, was the reporting from TechCrunch later on November 18, 2023, about Sam Altman's plans consistent with the earlier reports from TechCrunch and Fortune?"
        ],
        [
         "1",
         "1",
         "Considering the information from an article by The Verge and another by Forbes about Sygic, which letter represents both the first character of the European country where Sygic is headquartered and the last character of the name of Sygic's CEO as mentioned in these articles?"
        ],
        [
         "2",
         "2",
         "Considering the information from an article in The Times of India and another in The Economic Times about Shweta Bachchan Nanda, which fashion brand, associated with her as per The Times of India, launched a new collection that, according to The Economic Times, was inspired by the personal style of a family member whose name begins with the first letter of the English alphabet?"
        ],
        [
         "3",
         "3",
         "Was Owen Teale's career impact discussed in The Sydney Morning Herald before Tate McRae's breakthrough performance on Saturday Night Live was reported by The Age?"
        ],
        [
         "4",
         "4",
         "What company developed the world’s first successful graphical web browser, Mosaic?"
        ],
        [
         "5",
         "5",
         "Did Altman’s visibility in the AI industry increase significantly due to the widespread public attention garnered by ChatGPT, highlighting his role in leading the development of generative AI tools?"
        ],
        [
         "6",
         "6",
         "What is the name of the spacecraft that carried the Mars Perseverance Rover?"
        ],
        [
         "7",
         "7",
         "Was the news about Taylor Swift's relationship with Travis Kelce inconsistent with the later report from The Independent - Life and Style on December 6, 2023?"
        ],
        [
         "8",
         "8",
         "Has the concern about the Philippines' debt-to-GDP ratio expressed by President Ferdinand Marcos, Jr. in Business World on October 8, 2023, remained consistent with the implications of rising national debt on private investment discussed in Business World on November 5, 2023?"
        ],
        [
         "9",
         "9",
         "Which social media company did Al Saadi express frustration with, citing issues common among Palestinians?"
        ],
        [
         "10",
         "10",
         "Did the report by Fortune on October 4, 2023, regarding Sam Bankman-Fried's alleged use of Caroline Ellison as a front at Alameda Research, and the subsequent report by TechCrunch involving Sam Bankman-Fried's alleged motives for committing fraud, portray Sam Bankman-Fried's actions inconsistently?"
        ],
        [
         "11",
         "11",
         "After The Age reported on October 22, 2023, that Google manipulates Search to maximize ad revenue, and TechCrunch reported on December 15, 2023, that Google \"siphons off\" news publishers' content and ad revenue through anticompetitive means, was the reporting on Google's alleged anticompetitive behavior consistent between these two news sources?"
        ],
        [
         "12",
         "12",
         "Does the Polygon article suggest that Spider-Man embodies the spirit of Thanksgiving in a way that aligns with the portrayal of Thanksgiving as a time for gratitude and togetherness described in The Independent - Life and Style article?"
        ],
        [
         "13",
         "13",
         "Does Manchester United perform well under Champions League pressure?"
        ],
        [
         "14",
         "14",
         "Does the Fortune article suggest that Sam Bankman-Fried's actions were the primary cause of FTX's success being built on lies, while the TechCrunch article implies that comments by Changpeng Zhao were a contributing factor to the collapse of FTX?"
        ],
        [
         "15",
         "15",
         "Does the Polygon article claim that Zazie Beetz will reprise her role in the Joker sequel, while the Essentially Sports article discusses Mary Jane's character in Marvel's Spider-Man 2 returning from the first game?"
        ],
        [
         "16",
         "16",
         "Does the TechCrunch article allege that Meta violated a specific law concerning children's online privacy, while The Verge article discusses Ofcom's guidelines for tech firms to comply with a different set of regulations for online safety?"
        ],
        [
         "17",
         "17",
         "Did both the report from The Age after September 26, 2023, mentioning Travis Kelce's activities and the Yardbarker report after December 24, 2023, discussing Travis Kelce's performance expectations, indicate no change in the focus of Travis Kelce's professional commitments?"
        ],
        [
         "18",
         "18",
         "Does the Sporting News article suggest that Terry McLaurin, Puka Nacua, Tutu Atwell, Drake London, Tyler Lockett, and Jaxon Smith-Njigba may underperform in their upcoming games, in contrast to the CBSSports.com article which discusses Najee Harris's past performance in a specific game rather than predictions for future games?"
        ],
        [
         "19",
         "19",
         "What is the name of the powerful telescope launched by NASA in December 2021?"
        ],
        [
         "20",
         "20",
         "Who is the Silicon Valley prodigy mentioned in a 'Fortune' article, who was not attempted to be removed by the co-founders of Anthropic according to 'The Age', and is involved in a situation where 'TechCrunch' suggests there was a lack of full truthfulness with the board?"
        ],
        [
         "21",
         "21",
         "What is the name of the first commercial microprocessor released in 1971?"
        ],
        [
         "22",
         "22",
         "Who is the individual that, after recruiting a colleague from Jane Street to join his trading and development teams, later found himself unable to personally oversee the operations of both his cryptocurrency exchange and research firm due to their expansion, and is now facing allegations of instructing the misuse of billions of dollars of customer funds for debt repayment as well as committing fraud for personal gain, as reported by Fortune, The Verge, and TechCrunch?"
        ],
        [
         "23",
         "23",
         "Does the Polygon article claim that Zazie Beetz will not reprise her role in the Joker sequel, while the Essentially Sports article discusses Mary Jane's character in Marvel's Spider-Man 2 returning from the first game?"
        ],
        [
         "24",
         "24",
         "Does the Sporting News article suggest that the fantasy football experience is primarily about the opportunity for long-term bragging rights, while The Roar | Sports Writers Blog article focuses on Colby McKercher's specific performance metrics at the National Championships?"
        ],
        [
         "25",
         "25",
         "Who is the Silicon Valley prodigy associated with OpenAI, recognized since his early twenties, who has plans for a new venture and was involved in a situation where there was no attempt by Anthropic co-founders to remove him, and who is also central to a prevailing theory suggesting a lack of full truthfulness with the board?"
        ],
        [
         "26",
         "26",
         "Who is the individual under 30, once compared to Warren Buffet and seen as the white horse of crypto by some, but not by TechCrunch, who reportedly intended to use his wealth to save humanity from extinction and told another trader that withdrawing money from a certain account was permissible as long as it didn't exceed the trading revenue of his company, which is the same individual the prosecution alleges committed fraud for wealth, power, and influence, as discussed in articles from The Verge and TechCrunch?"
        ],
        [
         "27",
         "27",
         "Who is the individual whose alleged fraudulent activities led to the success of a crypto exchange, persuaded a former colleague from Jane Street to join his ventures, and is facing charges of fraud and conspiracy according to reports from both Fortune and TechCrunch?"
        ],
        [
         "28",
         "28",
         "Does the Sporting News article suggest a consistent scoring trend for \"Thursday Night Football\" compared to previous games, while The Guardian article describes a specific instance where Lauren James created a scoring opportunity, without implying a general trend change in scoring for the game?"
        ],
        [
         "29",
         "29",
         "Which company, recently reported by TechCrunch, is not only facing scrutiny for potential non-compliance with GDPR due to its advertising subscription model but is also attempting to shift the oversight of teen social media usage to third parties, and has been accused of having a moderation bias that particularly affects Palestinian users?"
        ],
        [
         "30",
         "30",
         "Who was described as the richest person in the world under 30 and aimed to save humanity?"
        ],
        [
         "31",
         "31",
         "Who is the individual that was involved in the creation of FTX, persuaded a former colleague from Jane Street to join his ventures, and is accused of achieving wealth through fraudulent means, a situation that was highlighted after a judge's intervention?"
        ],
        [
         "32",
         "32",
         "Did the Sporting News article on the Pittsburgh Penguins' game report a successful penalty kill, while the Sporting News article on the Ole Miss vs. Georgia game mention a penalty committed by Ole Miss's offensive line on the first play?"
        ],
        [
         "33",
         "33",
         "Is Taylor Swift in a relationship with Kelce?"
        ],
        [
         "34",
         "34",
         "Between the Sporting News report on Caesars Sportsbook's promotional offer in Vermont and the CBSSports.com report on Caesars Sportsbook's new customer offer, was there a discrepancy in the bonus bet amount being offered to new customers if their first bet loses?"
        ],
        [
         "35",
         "35",
         "Did 'The Guardian' report on Eintracht Frankfurt's historic Bundesliga achievement against Bayern Munich before 'The Independent - Sports' mentioned Joelinton's powerful goal for Newcastle?"
        ],
        [
         "36",
         "36",
         "Does the TechCrunch article claim that Google's anticompetitive behavior affects the app distribution and payment processing markets for Android, while The Verge article focuses on the market definition in an antitrust case involving Google, and another TechCrunch article alleges Google's anticompetitive actions impact news publishers' content, readers, and ad revenue?"
        ],
        [
         "37",
         "37",
         "Do the 'Business Line' article's claims about central bankers' response to supply disruptions and the 'Fortune' article's claims about Federal Reserve officials' actions to combat inflation both suggest an increase in interest rates?"
        ],
        [
         "38",
         "38",
         "Does the 'Fortune' article suggest a different perspective on Sam Bankman-Fried's actions compared to the 'TechCrunch' article, with 'Fortune' focusing on the jury's determination of truthfulness and 'TechCrunch' alleging intentional fraud?"
        ],
        [
         "39",
         "39",
         "Which group of athletes may not be available for the playoffs despite team interest?"
        ],
        [
         "40",
         "40",
         "Which social media platform’s audience is particularly effective at discovering and sharing music?"
        ],
        [
         "41",
         "41",
         "Who stated that the Finance department plans to reduce new debt from P1.42 trillion to P1.22 trillion?"
        ],
        [
         "42",
         "42",
         "Does the 'Business Line' article claim that 'Leqembi (lecanemab)' is the only approved drug for Alzheimer's as of July 2023, while 'The Guardian' article discusses the time required to realize 'recent scientific developments in tackling dementia' without specifying any particular drug approval?"
        ],
        [
         "43",
         "43",
         "Does the article from Fortune claim that Sam Bankman-Fried's persuasive abilities led to Adam Yedidia joining Alameda and FTX, while the TechCrunch articles focus on different aspects of Sam Bankman-Fried's reputation and alleged actions, without mentioning his persuasive influence on specific individuals?"
        ],
        [
         "44",
         "44",
         "Based on a report from The New York Times and a separate article from The Wall Street Journal on American Express, which single letter represents the initial of the last name of the executive who has been highlighted for driving innovation in the company's digital payment solutions and also commented on the impact of regulatory changes on the financial industry?"
        ],
        [
         "45",
         "45",
         "Who is the individual associated with FTX that was reported by Fortune to have built success on falsehoods, and by TechCrunch to have both denied legal accusations of fraud and conspiracy, and is alleged by the prosecution to have committed fraud for personal gain?"
        ],
        [
         "46",
         "46",
         "Is the reporting on the Northern Lights visibility in the UK by 'The Independent - Travel' consistent with the observations of the aurora borealis reported by 'Live Science: The Most Interesting Articles' between November 9, 2023, and December 21, 2023?"
        ],
        [
         "47",
         "47",
         "Who was the CEO of FTX who was said to have made critical decisions for the company, according to witness testimony?"
        ],
        [
         "48",
         "48",
         "Considering the information from a Bloomberg article detailing the latest strategic investments of Global Financing Group and a Reuters report on their recent partnership with a tech startup, which letter represents the stock exchange where Global Financing Group's partner startup is planning to go public?"
        ],
        [
         "49",
         "49",
         "What company, known for its significant presence in the e-reader space through its Kindle lineup as mentioned by The Verge, also offers life-changing selling opportunities according to Cnbc | World Business News Leader, and was the focus of a Cyber Monday sale with deals reported by Mashable?"
        ]
       ],
       "shape": {
        "columns": 2,
        "rows": 848
       }
      },
      "text/html": [
       "<div>\n",
       "<style scoped>\n",
       "    .dataframe tbody tr th:only-of-type {\n",
       "        vertical-align: middle;\n",
       "    }\n",
       "\n",
       "    .dataframe tbody tr th {\n",
       "        vertical-align: top;\n",
       "    }\n",
       "\n",
       "    .dataframe thead th {\n",
       "        text-align: right;\n",
       "    }\n",
       "</style>\n",
       "<table border=\"1\" class=\"dataframe\">\n",
       "  <thead>\n",
       "    <tr style=\"text-align: right;\">\n",
       "      <th></th>\n",
       "      <th>ID</th>\n",
       "      <th>questions</th>\n",
       "    </tr>\n",
       "  </thead>\n",
       "  <tbody>\n",
       "    <tr>\n",
       "      <th>0</th>\n",
       "      <td>0</td>\n",
       "      <td>After the TechCrunch report on November 18, 20...</td>\n",
       "    </tr>\n",
       "    <tr>\n",
       "      <th>1</th>\n",
       "      <td>1</td>\n",
       "      <td>Considering the information from an article by...</td>\n",
       "    </tr>\n",
       "    <tr>\n",
       "      <th>2</th>\n",
       "      <td>2</td>\n",
       "      <td>Considering the information from an article in...</td>\n",
       "    </tr>\n",
       "    <tr>\n",
       "      <th>3</th>\n",
       "      <td>3</td>\n",
       "      <td>Was Owen Teale's career impact discussed in Th...</td>\n",
       "    </tr>\n",
       "    <tr>\n",
       "      <th>4</th>\n",
       "      <td>4</td>\n",
       "      <td>What company developed the world’s first succe...</td>\n",
       "    </tr>\n",
       "    <tr>\n",
       "      <th>...</th>\n",
       "      <td>...</td>\n",
       "      <td>...</td>\n",
       "    </tr>\n",
       "    <tr>\n",
       "      <th>843</th>\n",
       "      <td>843</td>\n",
       "      <td>Who was the CEO of Alameda and former girlfrie...</td>\n",
       "    </tr>\n",
       "    <tr>\n",
       "      <th>844</th>\n",
       "      <td>844</td>\n",
       "      <td>Does the article from The Verge suggest that G...</td>\n",
       "    </tr>\n",
       "    <tr>\n",
       "      <th>845</th>\n",
       "      <td>845</td>\n",
       "      <td>Does the Polygon article suggest that 'The Pos...</td>\n",
       "    </tr>\n",
       "    <tr>\n",
       "      <th>846</th>\n",
       "      <td>846</td>\n",
       "      <td>Between the report by FOX News - Health on 'Pe...</td>\n",
       "    </tr>\n",
       "    <tr>\n",
       "      <th>847</th>\n",
       "      <td>847</td>\n",
       "      <td>Did the TechCrunch report on Sam Bankman-Fried...</td>\n",
       "    </tr>\n",
       "  </tbody>\n",
       "</table>\n",
       "<p>848 rows × 2 columns</p>\n",
       "</div>"
      ],
      "text/plain": [
       "      ID                                          questions\n",
       "0      0  After the TechCrunch report on November 18, 20...\n",
       "1      1  Considering the information from an article by...\n",
       "2      2  Considering the information from an article in...\n",
       "3      3  Was Owen Teale's career impact discussed in Th...\n",
       "4      4  What company developed the world’s first succe...\n",
       "..   ...                                                ...\n",
       "843  843  Who was the CEO of Alameda and former girlfrie...\n",
       "844  844  Does the article from The Verge suggest that G...\n",
       "845  845  Does the Polygon article suggest that 'The Pos...\n",
       "846  846  Between the report by FOX News - Health on 'Pe...\n",
       "847  847  Did the TechCrunch report on Sam Bankman-Fried...\n",
       "\n",
       "[848 rows x 2 columns]"
      ]
     },
     "execution_count": 47,
     "metadata": {},
     "output_type": "execute_result"
    }
   ],
   "source": [
    "test_df = pd.read_csv('data/external/test.csv')\n",
    "test_df"
   ]
  },
  {
   "cell_type": "code",
   "execution_count": 48,
   "metadata": {},
   "outputs": [
    {
     "data": {
      "application/vnd.microsoft.datawrangler.viewer.v0+json": {
       "columns": [
        {
         "name": "index",
         "rawType": "int64",
         "type": "integer"
        },
        {
         "name": "ID",
         "rawType": "int64",
         "type": "integer"
        },
        {
         "name": "answer",
         "rawType": "object",
         "type": "string"
        }
       ],
       "conversionMethod": "pd.DataFrame",
       "ref": "e4a5e886-3b28-4bcb-878a-29c880eefd62",
       "rows": [
        [
         "0",
         "0",
         "yes"
        ],
        [
         "1",
         "1",
         "yes"
        ],
        [
         "2",
         "2",
         "yes"
        ],
        [
         "3",
         "3",
         "yes"
        ],
        [
         "4",
         "4",
         "yes"
        ],
        [
         "5",
         "5",
         "yes"
        ],
        [
         "6",
         "6",
         "yes"
        ],
        [
         "7",
         "7",
         "yes"
        ],
        [
         "8",
         "8",
         "yes"
        ],
        [
         "9",
         "9",
         "yes"
        ],
        [
         "10",
         "10",
         "yes"
        ],
        [
         "11",
         "11",
         "yes"
        ],
        [
         "12",
         "12",
         "yes"
        ],
        [
         "13",
         "13",
         "yes"
        ],
        [
         "14",
         "14",
         "yes"
        ],
        [
         "15",
         "15",
         "yes"
        ],
        [
         "16",
         "16",
         "yes"
        ],
        [
         "17",
         "17",
         "yes"
        ],
        [
         "18",
         "18",
         "yes"
        ],
        [
         "19",
         "19",
         "yes"
        ],
        [
         "20",
         "20",
         "yes"
        ],
        [
         "21",
         "21",
         "yes"
        ],
        [
         "22",
         "22",
         "yes"
        ],
        [
         "23",
         "23",
         "yes"
        ],
        [
         "24",
         "24",
         "yes"
        ],
        [
         "25",
         "25",
         "yes"
        ],
        [
         "26",
         "26",
         "yes"
        ],
        [
         "27",
         "27",
         "yes"
        ],
        [
         "28",
         "28",
         "yes"
        ],
        [
         "29",
         "29",
         "yes"
        ],
        [
         "30",
         "30",
         "yes"
        ],
        [
         "31",
         "31",
         "yes"
        ],
        [
         "32",
         "32",
         "yes"
        ],
        [
         "33",
         "33",
         "yes"
        ],
        [
         "34",
         "34",
         "yes"
        ],
        [
         "35",
         "35",
         "yes"
        ],
        [
         "36",
         "36",
         "yes"
        ],
        [
         "37",
         "37",
         "yes"
        ],
        [
         "38",
         "38",
         "yes"
        ],
        [
         "39",
         "39",
         "yes"
        ],
        [
         "40",
         "40",
         "yes"
        ],
        [
         "41",
         "41",
         "yes"
        ],
        [
         "42",
         "42",
         "yes"
        ],
        [
         "43",
         "43",
         "yes"
        ],
        [
         "44",
         "44",
         "yes"
        ],
        [
         "45",
         "45",
         "yes"
        ],
        [
         "46",
         "46",
         "yes"
        ],
        [
         "47",
         "47",
         "yes"
        ],
        [
         "48",
         "48",
         "yes"
        ],
        [
         "49",
         "49",
         "yes"
        ]
       ],
       "shape": {
        "columns": 2,
        "rows": 848
       }
      },
      "text/html": [
       "<div>\n",
       "<style scoped>\n",
       "    .dataframe tbody tr th:only-of-type {\n",
       "        vertical-align: middle;\n",
       "    }\n",
       "\n",
       "    .dataframe tbody tr th {\n",
       "        vertical-align: top;\n",
       "    }\n",
       "\n",
       "    .dataframe thead th {\n",
       "        text-align: right;\n",
       "    }\n",
       "</style>\n",
       "<table border=\"1\" class=\"dataframe\">\n",
       "  <thead>\n",
       "    <tr style=\"text-align: right;\">\n",
       "      <th></th>\n",
       "      <th>ID</th>\n",
       "      <th>answer</th>\n",
       "    </tr>\n",
       "  </thead>\n",
       "  <tbody>\n",
       "    <tr>\n",
       "      <th>0</th>\n",
       "      <td>0</td>\n",
       "      <td>yes</td>\n",
       "    </tr>\n",
       "    <tr>\n",
       "      <th>1</th>\n",
       "      <td>1</td>\n",
       "      <td>yes</td>\n",
       "    </tr>\n",
       "    <tr>\n",
       "      <th>2</th>\n",
       "      <td>2</td>\n",
       "      <td>yes</td>\n",
       "    </tr>\n",
       "    <tr>\n",
       "      <th>3</th>\n",
       "      <td>3</td>\n",
       "      <td>yes</td>\n",
       "    </tr>\n",
       "    <tr>\n",
       "      <th>4</th>\n",
       "      <td>4</td>\n",
       "      <td>yes</td>\n",
       "    </tr>\n",
       "    <tr>\n",
       "      <th>...</th>\n",
       "      <td>...</td>\n",
       "      <td>...</td>\n",
       "    </tr>\n",
       "    <tr>\n",
       "      <th>843</th>\n",
       "      <td>843</td>\n",
       "      <td>yes</td>\n",
       "    </tr>\n",
       "    <tr>\n",
       "      <th>844</th>\n",
       "      <td>844</td>\n",
       "      <td>yes</td>\n",
       "    </tr>\n",
       "    <tr>\n",
       "      <th>845</th>\n",
       "      <td>845</td>\n",
       "      <td>yes</td>\n",
       "    </tr>\n",
       "    <tr>\n",
       "      <th>846</th>\n",
       "      <td>846</td>\n",
       "      <td>yes</td>\n",
       "    </tr>\n",
       "    <tr>\n",
       "      <th>847</th>\n",
       "      <td>847</td>\n",
       "      <td>yes</td>\n",
       "    </tr>\n",
       "  </tbody>\n",
       "</table>\n",
       "<p>848 rows × 2 columns</p>\n",
       "</div>"
      ],
      "text/plain": [
       "      ID answer\n",
       "0      0    yes\n",
       "1      1    yes\n",
       "2      2    yes\n",
       "3      3    yes\n",
       "4      4    yes\n",
       "..   ...    ...\n",
       "843  843    yes\n",
       "844  844    yes\n",
       "845  845    yes\n",
       "846  846    yes\n",
       "847  847    yes\n",
       "\n",
       "[848 rows x 2 columns]"
      ]
     },
     "execution_count": 48,
     "metadata": {},
     "output_type": "execute_result"
    }
   ],
   "source": [
    "samsub_df = pd.read_csv('data/external/sample_submission.csv')\n",
    "samsub_df"
   ]
  },
  {
   "cell_type": "code",
   "execution_count": null,
   "metadata": {},
   "outputs": [],
   "source": []
  }
 ],
 "metadata": {
  "kernelspec": {
   "display_name": ".venv",
   "language": "python",
   "name": "python3"
  },
  "language_info": {
   "codemirror_mode": {
    "name": "ipython",
    "version": 3
   },
   "file_extension": ".py",
   "mimetype": "text/x-python",
   "name": "python",
   "nbconvert_exporter": "python",
   "pygments_lexer": "ipython3",
   "version": "3.11.11"
  }
 },
 "nbformat": 4,
 "nbformat_minor": 2
}
