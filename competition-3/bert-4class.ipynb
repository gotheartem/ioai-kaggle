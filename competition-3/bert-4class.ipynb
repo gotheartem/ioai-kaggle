{
 "cells": [
  {
   "cell_type": "code",
   "execution_count": 1,
   "metadata": {},
   "outputs": [],
   "source": [
    "import gc\n",
    "import pickle\n",
    "import numpy as np\n",
    "import pandas as pd\n",
    "from tqdm import tqdm\n",
    "from copy import deepcopy\n",
    "\n",
    "from sklearn.model_selection import train_test_split\n",
    "from sklearn.metrics import accuracy_score\n",
    "\n",
    "import torch\n",
    "import torch.nn as nn\n",
    "import torch.optim as optim\n",
    "from torch.utils.data import Dataset, DataLoader\n",
    "from transformers import AutoModel, AutoTokenizer"
   ]
  },
  {
   "cell_type": "code",
   "execution_count": 2,
   "metadata": {},
   "outputs": [],
   "source": [
    "import os\n",
    "import torch\n",
    "import random\n",
    "import numpy as np\n",
    "\n",
    "def seed_everything(seed):\n",
    "    global SEED\n",
    "    SEED = seed\n",
    "    random.seed(seed)\n",
    "    os.environ['PYTHONHASHSEED'] = str(seed)\n",
    "    np.random.seed(seed)\n",
    "    torch.manual_seed(seed)\n",
    "    torch.cuda.manual_seed(seed)\n",
    "    torch.cuda.manual_seed_all(seed)\n",
    "    torch.backends.cudnn.deterministic = True\n",
    "    torch.backends.cudnn.benchmark = False\n",
    "\n",
    "seed_everything(42)\n",
    "\n",
    "device = torch.device('cuda' if torch.cuda.is_available() else 'cpu')"
   ]
  },
  {
   "cell_type": "code",
   "execution_count": 3,
   "metadata": {},
   "outputs": [],
   "source": [
    "def train(model, train_dataset, val_dataset=None, epochs=16, batch_size=(64, None), criterion=nn.MSELoss(), lr=(1e-3, 1e-6), weight_decay=0.01, metrics=None, device=None):\n",
    "    torch.cuda.empty_cache()\n",
    "    gc.collect()\n",
    "\n",
    "    if not device:\n",
    "        device = torch.device('cuda' if torch.cuda.is_available() else 'cpu')\n",
    "    model = model.to(device)\n",
    "\n",
    "    train_dataloader = DataLoader(train_dataset, batch_size=batch_size[0], shuffle=True, num_workers=4)\n",
    "    if val_dataset:\n",
    "        val_dataloader = DataLoader(val_dataset, batch_size=batch_size[1], shuffle=False, num_workers=4)\n",
    "    optimizer = optim.AdamW(model.parameters(), lr=lr[0], weight_decay=weight_decay)\n",
    "    scheduler = optim.lr_scheduler.CosineAnnealingLR(optimizer, len(train_dataset) * epochs, lr[1])\n",
    "\n",
    "    if val_dataset:\n",
    "        best_loss = np.inf\n",
    "        best_model = deepcopy(model)\n",
    "    for epoch in range(epochs):\n",
    "        print(f'Epoch {epoch + 1}/{epochs}')\n",
    "        train_losses = []\n",
    "        pb = tqdm(train_dataloader)\n",
    "        if metrics:\n",
    "            trues = []\n",
    "            preds = []\n",
    "        model.train()\n",
    "        for (x, y) in pb:\n",
    "            for i in range(len(x)):\n",
    "                x[i] = x[i].to(device)\n",
    "            y = y.to(device)\n",
    "            optimizer.zero_grad()\n",
    "            pred = model(*x)\n",
    "            train_loss = criterion(pred, y)\n",
    "            train_loss.backward()\n",
    "            optimizer.step()\n",
    "            scheduler.step()\n",
    "            train_losses.append(train_loss.item())\n",
    "            if metrics:\n",
    "                trues += y.tolist()\n",
    "                preds += pred.tolist()\n",
    "            pb.set_description(f'Train      | loss={np.mean(train_losses):.4f}')\n",
    "        if metrics:\n",
    "            metrics_info = ''\n",
    "            for metric_name, metric in metrics.items():\n",
    "                metrics_info += f'{metric_name}={metric(trues, preds):.4f}; '\n",
    "            print('Metrics:', metrics_info[:-2])\n",
    "        if val_dataset:\n",
    "            model.eval()\n",
    "            with torch.no_grad():\n",
    "                val_losses = []\n",
    "                if metrics:\n",
    "                    trues = []\n",
    "                    preds = []\n",
    "                pb = tqdm(val_dataloader)\n",
    "                for (x, y) in pb:\n",
    "                    for i in range(len(x)):\n",
    "                        x[i] = x[i].to(device)\n",
    "                    y = y.to(device)\n",
    "                    pred = model(*x)\n",
    "                    val_loss = criterion(pred, y)\n",
    "                    val_losses.append(val_loss.item())\n",
    "                    if metrics:\n",
    "                        trues += y.tolist()\n",
    "                        preds += pred.tolist()\n",
    "                    pb.set_description(f'Validation | loss={np.mean(val_losses):.4f}')\n",
    "                if metrics:\n",
    "                    metrics_info = ''\n",
    "                    for metric_name, metric in metrics.items():\n",
    "                        metrics_info += f'{metric_name}={metric(trues, preds):.4f}; '\n",
    "                    print('Metrics:', metrics_info[:-2])\n",
    "                if np.mean(val_losses) < best_loss:\n",
    "                    best_loss = np.mean(val_losses)\n",
    "                    best_model = deepcopy(model)\n",
    "        print()\n",
    "    \n",
    "    torch.cuda.empty_cache()\n",
    "    gc.collect()\n",
    "\n",
    "    if val_dataset:\n",
    "        return best_model"
   ]
  },
  {
   "cell_type": "code",
   "execution_count": 4,
   "metadata": {},
   "outputs": [
    {
     "data": {
      "application/vnd.microsoft.datawrangler.viewer.v0+json": {
       "columns": [
        {
         "name": "index",
         "rawType": "int64",
         "type": "integer"
        },
        {
         "name": "questions",
         "rawType": "object",
         "type": "string"
        },
        {
         "name": "answer",
         "rawType": "object",
         "type": "string"
        },
        {
         "name": "answer_",
         "rawType": "int64",
         "type": "integer"
        }
       ],
       "conversionMethod": "pd.DataFrame",
       "ref": "94a2239f-70bd-4bc5-99c6-6ea855d613dd",
       "rows": [
        [
         "0",
         "Between the TechCrunch report on Sam Bankman-Fried published on October 2, 2023, and the TechCrunch report on Sam Bankman-Fried published on October 7, 2023, was there consistency in the portrayal of Sam Bankman-Fried's alleged actions?",
         "yes",
         "0"
        ],
        [
         "1",
         "Between the report from The Verge on Apple's defense of its Google Search deal published on September 26, 2023, and the class action antitrust suit against Google reported by TechCrunch, was there no change in the portrayal of Google's business practices related to competition and market dominance?",
         "no",
         "1"
        ],
        [
         "2",
         "Between the Polygon article published on September 28, 2023, discussing \"Hellraiser (film)\" and the FOX News - Lifestyle article published on October 30, 2023, mentioning \"The Exorcist (book and movie),\" is there consistency in reporting the adaptation sequence of the original works into films?",
         "yes",
         "0"
        ],
        [
         "3",
         "Did the reporting on player actions in sports by Sporting News change between the article featuring Jones from the USC vs. Notre Dame game published on October 14, 2023, and the article discussing Cristian Romero's tackle in the Tottenham vs Chelsea game published on November 6, 2023?",
         "no",
         "1"
        ],
        [
         "4",
         "Does the Sporting News article claim that Caesars Sportsbook offers a cash-out option for early bet settlement, while the CBSSports.com and the second Sporting News article both focus on Caesars Sportsbook providing a welcome bonus offer for new customers?",
         "yes",
         "0"
        ],
        [
         "5",
         "Which company, covered by TechCrunch for not switching to a browser competitor during iPhone setup, by Engadget for focusing on Macs and new chipsets at an event, and twice by The Verge for defending a search deal in court and for enforcing uniform terms on developers, OEMs, and carriers through its store and payment system?",
         "apple",
         "3"
        ],
        [
         "6",
         "Does \"The Independent - Life and Style\" article on Jada Pinkett Smith and Will Smith's marriage suggest a different level of commitment to avoiding divorce compared to the stance on divorce expressed in a separate \"The Independent - Life and Style\" article discussing Will Smith and Jada Pinkett Smith's marriage?",
         "no",
         "1"
        ],
        [
         "7",
         "Considering the information from a Times of India article on the growth of tech startups in Bangalore and a Deccan Herald report on the city's traffic management initiatives, which single letter represents both the first character of the startup that recently received significant funding to expand its AI-driven services and the initial of the new traffic signal system implemented at a major Bangalore intersection?",
         "insufficient information",
         "2"
        ],
        [
         "8",
         "Does the FOX News - Health article attribute the positive impact on well-being and hope to the Caring Contacts program, while the FOX News - Lifestyle article suggests that Marketing practices overshadow the message of hope?",
         "yes",
         "0"
        ],
        [
         "9",
         "Between the Engadget report on the Valve Steam Deck OLED published on November 9, 2023, at 18:00:32, and the Engadget review of the Valve Steam Deck OLED published on November 9, 2023, at 18:00:38, was the reporting on the release date of the new Steam Deck OLED consistent?",
         "yes",
         "0"
        ],
        [
         "10",
         "Was there inconsistency in the promotional offers reported by Sporting News on September 26, 2023, regarding the Caesars Sportsbook promo for new sign-ups in Vermont, and by CBSSports.com on October 13, 2023, about the Caesars Sportsbook offer for new customers?",
         "no",
         "1"
        ],
        [
         "11",
         "Did TechCrunch's subsequent report on a class action antitrust suit against Google on December 1, 2023, indicate a consistent portrayal of Google's business practices by the news source?",
         "no",
         "1"
        ],
        [
         "12",
         "Was the policy on price matching for customers at HP inconsistent according to The Verge before Polygon reported on the ineligibility for price matching on purchases?",
         "no",
         "1"
        ],
        [
         "13",
         "Does the 'Sporting News' article identify Scott McTominay as Manchester United's top scorer for the season, while the 'TalkSport' article recognizes Erling Haaland as the joint-leading scorer from the Champions League group stages?",
         "yes",
         "0"
        ],
        [
         "14",
         "Which company, recently reported by TechCrunch, has been involved in an antitrust court case providing extensive evidence against claims of hiding discovery items, has received early impressions for a product compared to OpenAI's GPT-3.5, and is accused by news publishers of harming their revenues through anticompetitive practices?",
         "google",
         "3"
        ],
        [
         "15",
         "What U.S. Supreme Court case in 1973 legalized abortion nationwide?",
         "roe v wade",
         "3"
        ],
        [
         "16",
         "What company, according to TechCrunch, claims to have developed a generative AI model with superior architecture while also spending billions to secure its position as the default search engine and is accused of harming news publishers’ revenues through anticompetitive practices?",
         "google",
         "3"
        ],
        [
         "17",
         "Does the TechCrunch article suggest a different type of investigation involving Influenceable compared to the Sporting News article's mention of the University of Michigan's involvement in an investigation related to document provision?",
         "no",
         "1"
        ],
        [
         "18",
         "Does 'The Verge' article suggest that Sam Bankman-Fried set withdrawal permissions based on FTX's trading revenue, while 'Fortune' and 'TechCrunch' articles focus on his personal actions and influence, such as persuading Adam Yedidia to join his companies and committing fraud for personal gain, without mentioning specific operational policies at FTX?",
         "yes",
         "0"
        ],
        [
         "19",
         "Does the Sporting News article suggest that Brock Purdy's performance against the Cowboys was more successful in terms of touchdowns thrown compared to the CBSSports.com article's assessment of his performance under pressure?",
         "yes",
         "0"
        ],
        [
         "20",
         "Does the TalkSport article suggest that Manchester United's defensive performance in the Champions League group stages is better than in previous years, as indicated by a new record for goals conceded, while The Guardian article implies that Manchester United's overall performance under pressure in the Champions League, especially in Istanbul, has been consistently poor?",
         "no",
         "1"
        ],
        [
         "21",
         "What entity is likely to win a legal case regarding phones and app stores according to an article from The Verge, and is also accused by a news publisher in a class action antitrust suit reported by TechCrunch for harming their business through anticompetitive practices?",
         "google",
         "3"
        ],
        [
         "22",
         "Do the articles from The Roar | Sports Writers Blog discussing The All Blacks' actions in the Rugby World Cup final and their previous encounters with Argentina both present The All Blacks as having faced challenges in their gameplay, or do they portray different situations regarding The All Blacks' performance?",
         "yes",
         "0"
        ],
        [
         "23",
         "Was there inconsistency in the reporting of the release date or immediate availability of the Steam Deck OLED from Valve between the Engadget report on the Steam Deck OLED published on November 9, 2023, at 18:00:32, and the Engadget review of the Steam Deck OLED published shortly after on November 9, 2023, at 18:00:38?",
         "no",
         "1"
        ],
        [
         "24",
         "Did 'Sport Grill' report on Tessa Wullaert scoring a decisive penalty before 'The Roar | Sports Writers Blog' reported on Cole Palmer scoring a penalty to secure a draw for Chelsea?",
         "yes",
         "0"
        ],
        [
         "25",
         "Who is the individual under 30, formerly associated with FTX and Alameda Research, who was described by 'Fortune' as using a front for secret access to customer funds, by 'The Verge' as overwhelmed by the growth of his company to manage it alongside another, and by 'TechCrunch' as both the richest person in his age group with altruistic spending intentions and as someone accused of committing fraud for personal gain?",
         "sam bankman-fried",
         "3"
        ],
        [
         "26",
         "What institution, recently mentioned in articles from both 'Fortune' and 'The Sydney Morning Herald,' has been both forced to aggressively hike interest rates in response to inflation and booming home prices, and whose future decisions on whether to continue this trend or halt it are anticipated by investors based on incoming economic data?",
         "federal reserve",
         "3"
        ],
        [
         "27",
         "Before The New York Times reported on Norway's football team's lack of competitiveness in major football tournaments on November 17, 2023, did the Sporting News describe Manchester United's historical performance against Chelsea as worse with seven wins and only one defeat in their first 12 encounters from 1905 to 1913?",
         "no",
         "1"
        ],
        [
         "28",
         "Who is the individual that, according to a 'Cnbc | World Business News Leader' article, planned to establish a board with experts for a cryptocurrency exchange without investor directors, was reported by 'The Verge' to have used customer funds to buy out a competing firm, and is alleged by the prosecution in a 'TechCrunch' article to have committed fraud for personal gain?",
         "sam bankman-fried",
         "3"
        ],
        [
         "29",
         "Who is the individual facing a jury's assessment of contrasting legal narratives in Fortune, is reported by the same source to have recruited a former Jane Street trader to his ventures, and is accused by the prosecution of committing fraud for personal gain according to TechCrunch?",
         "sam bankman-fried",
         "3"
        ],
        [
         "30",
         "Do the 'Business Line' article's claims about central bankers' response to supply disruptions and the 'Fortune' article's claims about Federal Reserve officials' actions to combat inflation both suggest a decrease in interest rates?",
         "no",
         "1"
        ],
        [
         "31",
         "Does TechCrunch describe Sam Bankman-Fried's actions in handling customer funds similarly to the way it portrays his pursuit of wealth, power, and influence, with both descriptions implying misconduct, or are the portrayals different?",
         "similar",
         "3"
        ],
        [
         "32",
         "Who is the individual under 30, previously associated with FTX and Alameda Research, who faced allegations of fraud and is reported by both TechCrunch and The Verge to have had significant influence and wealth, yet struggled with the management of his rapidly growing companies?",
         "sam bankman-fried",
         "3"
        ],
        [
         "33",
         "Considering the information from a BBC article detailing the government's new environmental policy in Delhi and a Times of India report on the recent traffic congestion reforms, which single character from the Delhi government is at the intersection of implementing both the environmental and traffic policies?",
         "insufficient information",
         "2"
        ],
        [
         "34",
         "Did the Federal Reserve change its stance on basing its interest rate decisions on incoming economic data after The Sydney Morning Herald reported on it before October 1, 2023, and did their influence on global financial markets differ from what The Sydney Morning Herald highlighted in a subsequent report?",
         "no",
         "1"
        ],
        [
         "35",
         "Which company, reported by both The Verge and TechCrunch, has been involved in legal scrutiny for its financial practices to maintain default search engine status on various platforms and has faced antitrust allegations concerning its impact on news publishers' revenues?",
         "google",
         "3"
        ],
        [
         "36",
         "Does the Fortune article claim that Sam Bankman-Fried used Caroline Ellison as a front for secret access to customer funds at Alameda Research, while the TechCrunch article alleges that Caroline Ellison took $14 billion from customers to repay debts under Sam Bankman-Fried's instruction, or do both articles assert the same involvement of Sam Bankman-Fried in the misuse of customer funds?",
         "yes",
         "0"
        ],
        [
         "37",
         "Do the articles from The Verge and TechCrunch both suggest that interactive activities, such as dressing up for parents of children interested in Pokémon and conversing with Alexa, are methods to engage with children, or do they propose different engagement strategies?",
         "yes",
         "0"
        ],
        [
         "38",
         "Considering the information from an article in The Economic Times about the recent infrastructure developments in Koramangala and another from The Hindu reporting on the new traffic management system implemented in the same area, which letter of the alphabet is the starting character of the name of the company that has been awarded the contract for both projects?",
         "insufficient information",
         "2"
        ],
        [
         "39",
         "Who is the individual associated with FTX and Alameda Research that allegedly used customer funds to secure personal gains and simultaneously expressed to Paradigm a desire to establish an expert board for FTX while admitting challenges in managing the rapid expansion of both companies, as reported by Cnbc | World Business News Leader, The Verge, and TechCrunch?",
         "sam bankman-fried",
         "3"
        ],
        [
         "40",
         "Does the 'FOX News - Lifestyle' article featuring Pastor Jesse Bradley suggest that faith in God holds a different value for America's future compared to the value of God depicted in the 'Polygon' article discussing 'Preacher (comic book and TV adaptation)'?",
         "yes",
         "0"
        ],
        [
         "41",
         "What company, according to TechCrunch articles, not only released a \"lite\" version of its AI model instead of the full version but also spent billions in 2021 to secure its position as the default search engine on various platforms and has faced a class action antitrust suit for allegedly harming news publishers' revenue and content?",
         "google",
         "3"
        ],
        [
         "42",
         "Which company, defended by Apple for being the default search engine on platforms like Samsung and Mozilla according to The Verge, is also the creator of Gemini, a generative AI model claimed by TechCrunch to potentially meet or exceed GPT-4's performance, and is accused in a class action antitrust suit reported by TechCrunch of harming news publishers' bottom lines by siphoning off their content, readers, and ad revenue?",
         "google",
         "3"
        ],
        [
         "43",
         "Do the articles from Sporting News discussing NBA Rookie of the Year odds and MLB betting rules both indicate that Sportsbooks and a Sportsbook, respectively, adjust their practices based on external factors?",
         "yes",
         "0"
        ],
        [
         "44",
         "Does the article from The Age suggest that the economic conditions of people have worsened, impacting the middle class and their shopping habits, in contrast to Engadget's focus on providing Engadget readers with updates on Black Friday deals without discussing the economic conditions?",
         "yes",
         "0"
        ],
        [
         "45",
         "Does the TechCrunch article suggest that Google's actions towards news publishers are anticompetitive, while The Age article implies that users are accepting of potential misconduct by Google, and another TechCrunch article reports on Google's hardware event, indicating different contexts of Google's activities in each source?",
         "yes",
         "0"
        ],
        [
         "46",
         "Between the article from Polygon published on September 26, 2023, highlighting individuals using online platforms for marketing, and the piece from Music Business Worldwide on December 7, 2023, discussing digital marketing strategies in the music industry, have the reported applications of digital marketing strategies by individuals and companies remained consistent or inconsistent?",
         "consistent",
         "3"
        ],
        [
         "47",
         "Did the article from Music Business Worldwide about \"Iñigo Quintero's Si No Estás\" failing to reach the top of Spotify's Global Top 50 and the article from Music Business Worldwide discussing Capitol Music Group's status as the top-performing label both indicate a leading position in their respective music industry categories?",
         "no",
         "1"
        ],
        [
         "48",
         "Does the 'Sporting News' article claim that Newcastle United defeated Manchester United in the Carabao Cup, aligning with 'The Guardian' article's claim that Newcastle will face Chelsea in the quarter-finals, indicating both sources confirm Newcastle's progression in the tournament?",
         "yes",
         "0"
        ],
        [
         "49",
         "Between the report by The Verge on Apple's defense of its Google Search deal published on September 26, 2023, and the report by TechCrunch on the class action antitrust suit against Google published on December 15, 2023, was there a change in the portrayal of Google's business practices with respect to their impact on other companies?",
         "yes",
         "0"
        ]
       ],
       "shape": {
        "columns": 3,
        "rows": 1981
       }
      },
      "text/html": [
       "<div>\n",
       "<style scoped>\n",
       "    .dataframe tbody tr th:only-of-type {\n",
       "        vertical-align: middle;\n",
       "    }\n",
       "\n",
       "    .dataframe tbody tr th {\n",
       "        vertical-align: top;\n",
       "    }\n",
       "\n",
       "    .dataframe thead th {\n",
       "        text-align: right;\n",
       "    }\n",
       "</style>\n",
       "<table border=\"1\" class=\"dataframe\">\n",
       "  <thead>\n",
       "    <tr style=\"text-align: right;\">\n",
       "      <th></th>\n",
       "      <th>questions</th>\n",
       "      <th>answer</th>\n",
       "      <th>answer_</th>\n",
       "    </tr>\n",
       "  </thead>\n",
       "  <tbody>\n",
       "    <tr>\n",
       "      <th>0</th>\n",
       "      <td>Between the TechCrunch report on Sam Bankman-F...</td>\n",
       "      <td>yes</td>\n",
       "      <td>0</td>\n",
       "    </tr>\n",
       "    <tr>\n",
       "      <th>1</th>\n",
       "      <td>Between the report from The Verge on Apple's d...</td>\n",
       "      <td>no</td>\n",
       "      <td>1</td>\n",
       "    </tr>\n",
       "    <tr>\n",
       "      <th>2</th>\n",
       "      <td>Between the Polygon article published on Septe...</td>\n",
       "      <td>yes</td>\n",
       "      <td>0</td>\n",
       "    </tr>\n",
       "    <tr>\n",
       "      <th>3</th>\n",
       "      <td>Did the reporting on player actions in sports ...</td>\n",
       "      <td>no</td>\n",
       "      <td>1</td>\n",
       "    </tr>\n",
       "    <tr>\n",
       "      <th>4</th>\n",
       "      <td>Does the Sporting News article claim that Caes...</td>\n",
       "      <td>yes</td>\n",
       "      <td>0</td>\n",
       "    </tr>\n",
       "    <tr>\n",
       "      <th>...</th>\n",
       "      <td>...</td>\n",
       "      <td>...</td>\n",
       "      <td>...</td>\n",
       "    </tr>\n",
       "    <tr>\n",
       "      <th>1976</th>\n",
       "      <td>Did Engadget fail to report a discount on the ...</td>\n",
       "      <td>no</td>\n",
       "      <td>1</td>\n",
       "    </tr>\n",
       "    <tr>\n",
       "      <th>1977</th>\n",
       "      <td>Between the TechCrunch article on December 7, ...</td>\n",
       "      <td>yes</td>\n",
       "      <td>0</td>\n",
       "    </tr>\n",
       "    <tr>\n",
       "      <th>1978</th>\n",
       "      <td>Did the FOX News - Entertainment article attri...</td>\n",
       "      <td>yes</td>\n",
       "      <td>0</td>\n",
       "    </tr>\n",
       "    <tr>\n",
       "      <th>1979</th>\n",
       "      <td>Which company, covered by The Verge for exclus...</td>\n",
       "      <td>valve</td>\n",
       "      <td>3</td>\n",
       "    </tr>\n",
       "    <tr>\n",
       "      <th>1980</th>\n",
       "      <td>Does the article from The Independent - Travel...</td>\n",
       "      <td>yes</td>\n",
       "      <td>0</td>\n",
       "    </tr>\n",
       "  </tbody>\n",
       "</table>\n",
       "<p>1981 rows × 3 columns</p>\n",
       "</div>"
      ],
      "text/plain": [
       "                                              questions answer  answer_\n",
       "0     Between the TechCrunch report on Sam Bankman-F...    yes        0\n",
       "1     Between the report from The Verge on Apple's d...     no        1\n",
       "2     Between the Polygon article published on Septe...    yes        0\n",
       "3     Did the reporting on player actions in sports ...     no        1\n",
       "4     Does the Sporting News article claim that Caes...    yes        0\n",
       "...                                                 ...    ...      ...\n",
       "1976  Did Engadget fail to report a discount on the ...     no        1\n",
       "1977  Between the TechCrunch article on December 7, ...    yes        0\n",
       "1978  Did the FOX News - Entertainment article attri...    yes        0\n",
       "1979  Which company, covered by The Verge for exclus...  valve        3\n",
       "1980  Does the article from The Independent - Travel...    yes        0\n",
       "\n",
       "[1981 rows x 3 columns]"
      ]
     },
     "execution_count": 4,
     "metadata": {},
     "output_type": "execute_result"
    }
   ],
   "source": [
    "train_df = pd.read_csv('data/external/train.csv')\n",
    "\n",
    "classes = ['yes', 'no', 'insufficient information']\n",
    "train_df['answer_'] = train_df['answer'].apply(\n",
    "    lambda x: classes.index(x) if x in classes else len(classes)\n",
    ")\n",
    "\n",
    "train_df"
   ]
  },
  {
   "cell_type": "code",
   "execution_count": 5,
   "metadata": {},
   "outputs": [],
   "source": [
    "class TextClassificationDataset(Dataset):\n",
    "    def __init__(self, texts, targets, tokenizer, max_length=256):\n",
    "        self.texts = list(texts)\n",
    "        if targets is not None:\n",
    "            self.targets = list(targets)\n",
    "        else:\n",
    "            self.targets = None\n",
    "        self.tokenizer = tokenizer\n",
    "        self.max_length = max_length\n",
    "\n",
    "    def __len__(self):\n",
    "        return len(self.texts)\n",
    "\n",
    "    def __getitem__(self, idx):\n",
    "        encoding = self.tokenizer(\n",
    "            self.texts[idx], \n",
    "            padding=\"max_length\",\n",
    "            truncation=True, \n",
    "            max_length=self.max_length,\n",
    "            return_tensors=\"pt\"\n",
    "        )\n",
    "\n",
    "        input_ids = encoding[\"input_ids\"].squeeze(0)\n",
    "        attention_mask = encoding[\"attention_mask\"].squeeze(0)\n",
    "\n",
    "        if self.targets is not None:\n",
    "            target = torch.tensor(self.targets[idx], dtype=torch.int64)\n",
    "        else:\n",
    "            target = torch.nan\n",
    "\n",
    "        return [[input_ids, attention_mask], target]"
   ]
  },
  {
   "cell_type": "code",
   "execution_count": 6,
   "metadata": {},
   "outputs": [],
   "source": [
    "class BERTModelEncoder(nn.Module):\n",
    "    def __init__(self, backbone_model):\n",
    "        super().__init__()\n",
    "        self.bert = AutoModel.from_pretrained(backbone_model)\n",
    "        self.dropout = nn.Dropout(0.3)\n",
    "        self.regressor = nn.Linear(self.bert.config.hidden_size, 4)\n",
    "    \n",
    "    def embed(self, input_ids, attention_mask):\n",
    "        x = self.bert(input_ids=input_ids, attention_mask=attention_mask)\n",
    "        x = x.pooler_output\n",
    "        return x\n",
    "\n",
    "    def forward(self, input_ids, attention_mask):\n",
    "        x = self.bert(input_ids=input_ids, attention_mask=attention_mask)\n",
    "        x = x.pooler_output\n",
    "        x = self.dropout(x)\n",
    "        x = self.regressor(x)\n",
    "        return x"
   ]
  },
  {
   "cell_type": "code",
   "execution_count": 7,
   "metadata": {},
   "outputs": [],
   "source": [
    "def acc(y_true, y_pred):\n",
    "    y_pred = np.array(y_pred)\n",
    "    y_pred = np.argmax(y_pred, axis=-1)\n",
    "    return accuracy_score(y_true, y_pred)"
   ]
  },
  {
   "cell_type": "code",
   "execution_count": 8,
   "metadata": {},
   "outputs": [],
   "source": [
    "backbone_model = 'google-bert/bert-large-cased'\n",
    "\n",
    "tokenizer = AutoTokenizer.from_pretrained(backbone_model)\n",
    "model = BERTModelEncoder(backbone_model).to(device)"
   ]
  },
  {
   "cell_type": "code",
   "execution_count": 9,
   "metadata": {},
   "outputs": [],
   "source": [
    "df_texts = train_df[['questions', 'answer_']].copy().dropna()\n",
    "\n",
    "train_texts, val_texts, train_targets, val_targets = \\\n",
    "    train_test_split(df_texts['questions'], df_texts['answer_'].values,\n",
    "                     test_size=0.1, shuffle=True, random_state=SEED)\n",
    "\n",
    "train_dataset = TextClassificationDataset(train_texts, train_targets, tokenizer)\n",
    "val_dataset = TextClassificationDataset(val_texts, val_targets, tokenizer)"
   ]
  },
  {
   "cell_type": "code",
   "execution_count": 10,
   "metadata": {},
   "outputs": [
    {
     "name": "stdout",
     "output_type": "stream",
     "text": [
      "Epoch 1/24\n"
     ]
    },
    {
     "name": "stderr",
     "output_type": "stream",
     "text": [
      "Train      | loss=0.6534: 100%|██████████| 223/223 [01:19<00:00,  2.81it/s]\n"
     ]
    },
    {
     "name": "stdout",
     "output_type": "stream",
     "text": [
      "Metrics: acc=0.7031\n"
     ]
    },
    {
     "name": "stderr",
     "output_type": "stream",
     "text": [
      "Validation | loss=0.4483: 100%|██████████| 25/25 [00:02<00:00,  9.34it/s]\n"
     ]
    },
    {
     "name": "stdout",
     "output_type": "stream",
     "text": [
      "Metrics: acc=0.8040\n",
      "\n",
      "Epoch 2/24\n"
     ]
    },
    {
     "name": "stderr",
     "output_type": "stream",
     "text": [
      "Train      | loss=0.4047: 100%|██████████| 223/223 [01:20<00:00,  2.78it/s]\n"
     ]
    },
    {
     "name": "stdout",
     "output_type": "stream",
     "text": [
      "Metrics: acc=0.8199\n"
     ]
    },
    {
     "name": "stderr",
     "output_type": "stream",
     "text": [
      "Validation | loss=0.3853: 100%|██████████| 25/25 [00:02<00:00,  9.33it/s]\n"
     ]
    },
    {
     "name": "stdout",
     "output_type": "stream",
     "text": [
      "Metrics: acc=0.8392\n",
      "\n",
      "Epoch 3/24\n"
     ]
    },
    {
     "name": "stderr",
     "output_type": "stream",
     "text": [
      "Train      | loss=0.2962: 100%|██████████| 223/223 [01:20<00:00,  2.78it/s]\n"
     ]
    },
    {
     "name": "stdout",
     "output_type": "stream",
     "text": [
      "Metrics: acc=0.8743\n"
     ]
    },
    {
     "name": "stderr",
     "output_type": "stream",
     "text": [
      "Validation | loss=0.3676: 100%|██████████| 25/25 [00:02<00:00,  9.34it/s]\n"
     ]
    },
    {
     "name": "stdout",
     "output_type": "stream",
     "text": [
      "Metrics: acc=0.8442\n",
      "\n",
      "Epoch 4/24\n"
     ]
    },
    {
     "name": "stderr",
     "output_type": "stream",
     "text": [
      "Train      | loss=0.2752: 100%|██████████| 223/223 [01:19<00:00,  2.80it/s]\n"
     ]
    },
    {
     "name": "stdout",
     "output_type": "stream",
     "text": [
      "Metrics: acc=0.8911\n"
     ]
    },
    {
     "name": "stderr",
     "output_type": "stream",
     "text": [
      "Validation | loss=0.3779: 100%|██████████| 25/25 [00:02<00:00,  9.50it/s]\n"
     ]
    },
    {
     "name": "stdout",
     "output_type": "stream",
     "text": [
      "Metrics: acc=0.8593\n",
      "\n",
      "Epoch 5/24\n"
     ]
    },
    {
     "name": "stderr",
     "output_type": "stream",
     "text": [
      "Train      | loss=0.2163: 100%|██████████| 223/223 [01:18<00:00,  2.83it/s]\n"
     ]
    },
    {
     "name": "stdout",
     "output_type": "stream",
     "text": [
      "Metrics: acc=0.9181\n"
     ]
    },
    {
     "name": "stderr",
     "output_type": "stream",
     "text": [
      "Validation | loss=0.4025: 100%|██████████| 25/25 [00:02<00:00,  9.63it/s]\n"
     ]
    },
    {
     "name": "stdout",
     "output_type": "stream",
     "text": [
      "Metrics: acc=0.8492\n",
      "\n",
      "Epoch 6/24\n"
     ]
    },
    {
     "name": "stderr",
     "output_type": "stream",
     "text": [
      "Train      | loss=0.1718: 100%|██████████| 223/223 [01:15<00:00,  2.94it/s]\n"
     ]
    },
    {
     "name": "stdout",
     "output_type": "stream",
     "text": [
      "Metrics: acc=0.9315\n"
     ]
    },
    {
     "name": "stderr",
     "output_type": "stream",
     "text": [
      "Validation | loss=0.4400: 100%|██████████| 25/25 [00:02<00:00,  9.59it/s]\n"
     ]
    },
    {
     "name": "stdout",
     "output_type": "stream",
     "text": [
      "Metrics: acc=0.8593\n",
      "\n",
      "Epoch 7/24\n"
     ]
    },
    {
     "name": "stderr",
     "output_type": "stream",
     "text": [
      "Train      | loss=0.1258: 100%|██████████| 223/223 [01:18<00:00,  2.84it/s]\n"
     ]
    },
    {
     "name": "stdout",
     "output_type": "stream",
     "text": [
      "Metrics: acc=0.9495\n"
     ]
    },
    {
     "name": "stderr",
     "output_type": "stream",
     "text": [
      "Validation | loss=0.4401: 100%|██████████| 25/25 [00:02<00:00,  9.48it/s]\n"
     ]
    },
    {
     "name": "stdout",
     "output_type": "stream",
     "text": [
      "Metrics: acc=0.8945\n",
      "\n",
      "Epoch 8/24\n"
     ]
    },
    {
     "name": "stderr",
     "output_type": "stream",
     "text": [
      "Train      | loss=0.0984: 100%|██████████| 223/223 [01:20<00:00,  2.76it/s]\n"
     ]
    },
    {
     "name": "stdout",
     "output_type": "stream",
     "text": [
      "Metrics: acc=0.9686\n"
     ]
    },
    {
     "name": "stderr",
     "output_type": "stream",
     "text": [
      "Validation | loss=0.5826: 100%|██████████| 25/25 [00:02<00:00,  9.33it/s]\n"
     ]
    },
    {
     "name": "stdout",
     "output_type": "stream",
     "text": [
      "Metrics: acc=0.8593\n",
      "\n",
      "Epoch 9/24\n"
     ]
    },
    {
     "name": "stderr",
     "output_type": "stream",
     "text": [
      "Train      | loss=0.0787: 100%|██████████| 223/223 [01:21<00:00,  2.74it/s]\n"
     ]
    },
    {
     "name": "stdout",
     "output_type": "stream",
     "text": [
      "Metrics: acc=0.9714\n"
     ]
    },
    {
     "name": "stderr",
     "output_type": "stream",
     "text": [
      "Validation | loss=0.5268: 100%|██████████| 25/25 [00:02<00:00,  9.34it/s]\n"
     ]
    },
    {
     "name": "stdout",
     "output_type": "stream",
     "text": [
      "Metrics: acc=0.8794\n",
      "\n",
      "Epoch 10/24\n"
     ]
    },
    {
     "name": "stderr",
     "output_type": "stream",
     "text": [
      "Train      | loss=0.0668: 100%|██████████| 223/223 [01:20<00:00,  2.76it/s]\n"
     ]
    },
    {
     "name": "stdout",
     "output_type": "stream",
     "text": [
      "Metrics: acc=0.9776\n"
     ]
    },
    {
     "name": "stderr",
     "output_type": "stream",
     "text": [
      "Validation | loss=0.4627: 100%|██████████| 25/25 [00:02<00:00,  9.27it/s]\n"
     ]
    },
    {
     "name": "stdout",
     "output_type": "stream",
     "text": [
      "Metrics: acc=0.8643\n",
      "\n",
      "Epoch 11/24\n"
     ]
    },
    {
     "name": "stderr",
     "output_type": "stream",
     "text": [
      "Train      | loss=0.0704: 100%|██████████| 223/223 [01:21<00:00,  2.75it/s]\n"
     ]
    },
    {
     "name": "stdout",
     "output_type": "stream",
     "text": [
      "Metrics: acc=0.9747\n"
     ]
    },
    {
     "name": "stderr",
     "output_type": "stream",
     "text": [
      "Validation | loss=0.5853: 100%|██████████| 25/25 [00:02<00:00,  9.27it/s]\n"
     ]
    },
    {
     "name": "stdout",
     "output_type": "stream",
     "text": [
      "Metrics: acc=0.8442\n",
      "\n",
      "Epoch 12/24\n"
     ]
    },
    {
     "name": "stderr",
     "output_type": "stream",
     "text": [
      "Train      | loss=0.1572: 100%|██████████| 223/223 [01:20<00:00,  2.76it/s]\n"
     ]
    },
    {
     "name": "stdout",
     "output_type": "stream",
     "text": [
      "Metrics: acc=0.9540\n"
     ]
    },
    {
     "name": "stderr",
     "output_type": "stream",
     "text": [
      "Validation | loss=0.4664: 100%|██████████| 25/25 [00:02<00:00,  9.14it/s]\n"
     ]
    },
    {
     "name": "stdout",
     "output_type": "stream",
     "text": [
      "Metrics: acc=0.8593\n",
      "\n",
      "Epoch 13/24\n"
     ]
    },
    {
     "name": "stderr",
     "output_type": "stream",
     "text": [
      "Train      | loss=0.2270: 100%|██████████| 223/223 [01:21<00:00,  2.75it/s]\n"
     ]
    },
    {
     "name": "stdout",
     "output_type": "stream",
     "text": [
      "Metrics: acc=0.9355\n"
     ]
    },
    {
     "name": "stderr",
     "output_type": "stream",
     "text": [
      "Validation | loss=0.6465: 100%|██████████| 25/25 [00:02<00:00,  9.23it/s]\n"
     ]
    },
    {
     "name": "stdout",
     "output_type": "stream",
     "text": [
      "Metrics: acc=0.8191\n",
      "\n",
      "Epoch 14/24\n"
     ]
    },
    {
     "name": "stderr",
     "output_type": "stream",
     "text": [
      "Train      | loss=0.1587: 100%|██████████| 223/223 [01:21<00:00,  2.74it/s]\n"
     ]
    },
    {
     "name": "stdout",
     "output_type": "stream",
     "text": [
      "Metrics: acc=0.9551\n"
     ]
    },
    {
     "name": "stderr",
     "output_type": "stream",
     "text": [
      "Validation | loss=0.5681: 100%|██████████| 25/25 [00:02<00:00,  9.31it/s]\n"
     ]
    },
    {
     "name": "stdout",
     "output_type": "stream",
     "text": [
      "Metrics: acc=0.8794\n",
      "\n",
      "Epoch 15/24\n"
     ]
    },
    {
     "name": "stderr",
     "output_type": "stream",
     "text": [
      "Train      | loss=0.0749: 100%|██████████| 223/223 [01:18<00:00,  2.84it/s]\n"
     ]
    },
    {
     "name": "stdout",
     "output_type": "stream",
     "text": [
      "Metrics: acc=0.9764\n"
     ]
    },
    {
     "name": "stderr",
     "output_type": "stream",
     "text": [
      "Validation | loss=0.5208: 100%|██████████| 25/25 [00:02<00:00,  9.67it/s]\n"
     ]
    },
    {
     "name": "stdout",
     "output_type": "stream",
     "text": [
      "Metrics: acc=0.8543\n",
      "\n",
      "Epoch 16/24\n"
     ]
    },
    {
     "name": "stderr",
     "output_type": "stream",
     "text": [
      "Train      | loss=0.0841: 100%|██████████| 223/223 [01:19<00:00,  2.82it/s]\n"
     ]
    },
    {
     "name": "stdout",
     "output_type": "stream",
     "text": [
      "Metrics: acc=0.9781\n"
     ]
    },
    {
     "name": "stderr",
     "output_type": "stream",
     "text": [
      "Validation | loss=0.4847: 100%|██████████| 25/25 [00:02<00:00,  9.49it/s]\n"
     ]
    },
    {
     "name": "stdout",
     "output_type": "stream",
     "text": [
      "Metrics: acc=0.8593\n",
      "\n",
      "Epoch 17/24\n"
     ]
    },
    {
     "name": "stderr",
     "output_type": "stream",
     "text": [
      "Train      | loss=0.0400: 100%|██████████| 223/223 [01:19<00:00,  2.80it/s]\n"
     ]
    },
    {
     "name": "stdout",
     "output_type": "stream",
     "text": [
      "Metrics: acc=0.9848\n"
     ]
    },
    {
     "name": "stderr",
     "output_type": "stream",
     "text": [
      "Validation | loss=0.7824: 100%|██████████| 25/25 [00:02<00:00,  9.78it/s]\n"
     ]
    },
    {
     "name": "stdout",
     "output_type": "stream",
     "text": [
      "Metrics: acc=0.8593\n",
      "\n",
      "Epoch 18/24\n"
     ]
    },
    {
     "name": "stderr",
     "output_type": "stream",
     "text": [
      "Train      | loss=0.0271: 100%|██████████| 223/223 [01:19<00:00,  2.82it/s]\n"
     ]
    },
    {
     "name": "stdout",
     "output_type": "stream",
     "text": [
      "Metrics: acc=0.9910\n"
     ]
    },
    {
     "name": "stderr",
     "output_type": "stream",
     "text": [
      "Validation | loss=0.7414: 100%|██████████| 25/25 [00:02<00:00,  9.46it/s]\n"
     ]
    },
    {
     "name": "stdout",
     "output_type": "stream",
     "text": [
      "Metrics: acc=0.8543\n",
      "\n",
      "Epoch 19/24\n"
     ]
    },
    {
     "name": "stderr",
     "output_type": "stream",
     "text": [
      "Train      | loss=0.0124: 100%|██████████| 223/223 [01:20<00:00,  2.77it/s]\n"
     ]
    },
    {
     "name": "stdout",
     "output_type": "stream",
     "text": [
      "Metrics: acc=0.9938\n"
     ]
    },
    {
     "name": "stderr",
     "output_type": "stream",
     "text": [
      "Validation | loss=0.8206: 100%|██████████| 25/25 [00:02<00:00,  9.28it/s]\n"
     ]
    },
    {
     "name": "stdout",
     "output_type": "stream",
     "text": [
      "Metrics: acc=0.8643\n",
      "\n",
      "Epoch 20/24\n"
     ]
    },
    {
     "name": "stderr",
     "output_type": "stream",
     "text": [
      "Train      | loss=0.0264: 100%|██████████| 223/223 [01:20<00:00,  2.77it/s]\n"
     ]
    },
    {
     "name": "stdout",
     "output_type": "stream",
     "text": [
      "Metrics: acc=0.9910\n"
     ]
    },
    {
     "name": "stderr",
     "output_type": "stream",
     "text": [
      "Validation | loss=0.8853: 100%|██████████| 25/25 [00:02<00:00,  9.11it/s]\n"
     ]
    },
    {
     "name": "stdout",
     "output_type": "stream",
     "text": [
      "Metrics: acc=0.8693\n",
      "\n",
      "Epoch 21/24\n"
     ]
    },
    {
     "name": "stderr",
     "output_type": "stream",
     "text": [
      "Train      | loss=0.0565: 100%|██████████| 223/223 [01:20<00:00,  2.77it/s]\n"
     ]
    },
    {
     "name": "stdout",
     "output_type": "stream",
     "text": [
      "Metrics: acc=0.9848\n"
     ]
    },
    {
     "name": "stderr",
     "output_type": "stream",
     "text": [
      "Validation | loss=0.6856: 100%|██████████| 25/25 [00:02<00:00,  9.35it/s]\n"
     ]
    },
    {
     "name": "stdout",
     "output_type": "stream",
     "text": [
      "Metrics: acc=0.8693\n",
      "\n",
      "Epoch 22/24\n"
     ]
    },
    {
     "name": "stderr",
     "output_type": "stream",
     "text": [
      "Train      | loss=0.0733: 100%|██████████| 223/223 [01:19<00:00,  2.79it/s]\n"
     ]
    },
    {
     "name": "stdout",
     "output_type": "stream",
     "text": [
      "Metrics: acc=0.9804\n"
     ]
    },
    {
     "name": "stderr",
     "output_type": "stream",
     "text": [
      "Validation | loss=0.6706: 100%|██████████| 25/25 [00:02<00:00,  9.15it/s]\n"
     ]
    },
    {
     "name": "stdout",
     "output_type": "stream",
     "text": [
      "Metrics: acc=0.8191\n",
      "\n",
      "Epoch 23/24\n"
     ]
    },
    {
     "name": "stderr",
     "output_type": "stream",
     "text": [
      "Train      | loss=0.9489: 100%|██████████| 223/223 [01:20<00:00,  2.78it/s]\n"
     ]
    },
    {
     "name": "stdout",
     "output_type": "stream",
     "text": [
      "Metrics: acc=0.5584\n"
     ]
    },
    {
     "name": "stderr",
     "output_type": "stream",
     "text": [
      "Validation | loss=1.3238: 100%|██████████| 25/25 [00:02<00:00,  9.65it/s]\n"
     ]
    },
    {
     "name": "stdout",
     "output_type": "stream",
     "text": [
      "Metrics: acc=0.2915\n",
      "\n",
      "Epoch 24/24\n"
     ]
    },
    {
     "name": "stderr",
     "output_type": "stream",
     "text": [
      "Train      | loss=1.3656: 100%|██████████| 223/223 [01:17<00:00,  2.86it/s]\n"
     ]
    },
    {
     "name": "stdout",
     "output_type": "stream",
     "text": [
      "Metrics: acc=0.3401\n"
     ]
    },
    {
     "name": "stderr",
     "output_type": "stream",
     "text": [
      "Validation | loss=1.3253: 100%|██████████| 25/25 [00:02<00:00,  9.67it/s]\n"
     ]
    },
    {
     "name": "stdout",
     "output_type": "stream",
     "text": [
      "Metrics: acc=0.3668\n",
      "\n"
     ]
    }
   ],
   "source": [
    "best_model = train(\n",
    "    model=model,\n",
    "    train_dataset=train_dataset,\n",
    "    val_dataset=val_dataset,\n",
    "    epochs=24,\n",
    "    batch_size=(8, 8),\n",
    "    criterion=nn.CrossEntropyLoss(),\n",
    "    lr=(3e-5, 1e-6),\n",
    "    weight_decay=0.01,\n",
    "    metrics={'acc': acc},\n",
    "    device=device\n",
    ")\n",
    "\n",
    "torch.save(best_model.state_dict(), 'data/working/bme_model.pth')\n",
    "best_model.bert.save_pretrained('data/working/base_bert_model')\n",
    "with open('data/working/tokenizer.pkl', 'wb') as f:\n",
    "    pickle.dump(tokenizer, f)"
   ]
  },
  {
   "cell_type": "code",
   "execution_count": 11,
   "metadata": {},
   "outputs": [
    {
     "data": {
      "application/vnd.microsoft.datawrangler.viewer.v0+json": {
       "columns": [
        {
         "name": "index",
         "rawType": "int64",
         "type": "integer"
        },
        {
         "name": "ID",
         "rawType": "int64",
         "type": "integer"
        },
        {
         "name": "questions",
         "rawType": "object",
         "type": "string"
        }
       ],
       "conversionMethod": "pd.DataFrame",
       "ref": "2c1fc853-a095-4a6c-a6aa-b196bf7df6b7",
       "rows": [
        [
         "0",
         "0",
         "After the TechCrunch report on November 18, 2023, suggesting that Sam Altman was being fully truthful with the board, and the Fortune article on the same day stating that Sam Altman and the ex-chairman were shocked and saddened by the board's actions, was the reporting from TechCrunch later on November 18, 2023, about Sam Altman's plans consistent with the earlier reports from TechCrunch and Fortune?"
        ],
        [
         "1",
         "1",
         "Considering the information from an article by The Verge and another by Forbes about Sygic, which letter represents both the first character of the European country where Sygic is headquartered and the last character of the name of Sygic's CEO as mentioned in these articles?"
        ],
        [
         "2",
         "2",
         "Considering the information from an article in The Times of India and another in The Economic Times about Shweta Bachchan Nanda, which fashion brand, associated with her as per The Times of India, launched a new collection that, according to The Economic Times, was inspired by the personal style of a family member whose name begins with the first letter of the English alphabet?"
        ],
        [
         "3",
         "3",
         "Was Owen Teale's career impact discussed in The Sydney Morning Herald before Tate McRae's breakthrough performance on Saturday Night Live was reported by The Age?"
        ],
        [
         "4",
         "4",
         "What company developed the world’s first successful graphical web browser, Mosaic?"
        ],
        [
         "5",
         "5",
         "Did Altman’s visibility in the AI industry increase significantly due to the widespread public attention garnered by ChatGPT, highlighting his role in leading the development of generative AI tools?"
        ],
        [
         "6",
         "6",
         "What is the name of the spacecraft that carried the Mars Perseverance Rover?"
        ],
        [
         "7",
         "7",
         "Was the news about Taylor Swift's relationship with Travis Kelce inconsistent with the later report from The Independent - Life and Style on December 6, 2023?"
        ],
        [
         "8",
         "8",
         "Has the concern about the Philippines' debt-to-GDP ratio expressed by President Ferdinand Marcos, Jr. in Business World on October 8, 2023, remained consistent with the implications of rising national debt on private investment discussed in Business World on November 5, 2023?"
        ],
        [
         "9",
         "9",
         "Which social media company did Al Saadi express frustration with, citing issues common among Palestinians?"
        ],
        [
         "10",
         "10",
         "Did the report by Fortune on October 4, 2023, regarding Sam Bankman-Fried's alleged use of Caroline Ellison as a front at Alameda Research, and the subsequent report by TechCrunch involving Sam Bankman-Fried's alleged motives for committing fraud, portray Sam Bankman-Fried's actions inconsistently?"
        ],
        [
         "11",
         "11",
         "After The Age reported on October 22, 2023, that Google manipulates Search to maximize ad revenue, and TechCrunch reported on December 15, 2023, that Google \"siphons off\" news publishers' content and ad revenue through anticompetitive means, was the reporting on Google's alleged anticompetitive behavior consistent between these two news sources?"
        ],
        [
         "12",
         "12",
         "Does the Polygon article suggest that Spider-Man embodies the spirit of Thanksgiving in a way that aligns with the portrayal of Thanksgiving as a time for gratitude and togetherness described in The Independent - Life and Style article?"
        ],
        [
         "13",
         "13",
         "Does Manchester United perform well under Champions League pressure?"
        ],
        [
         "14",
         "14",
         "Does the Fortune article suggest that Sam Bankman-Fried's actions were the primary cause of FTX's success being built on lies, while the TechCrunch article implies that comments by Changpeng Zhao were a contributing factor to the collapse of FTX?"
        ],
        [
         "15",
         "15",
         "Does the Polygon article claim that Zazie Beetz will reprise her role in the Joker sequel, while the Essentially Sports article discusses Mary Jane's character in Marvel's Spider-Man 2 returning from the first game?"
        ],
        [
         "16",
         "16",
         "Does the TechCrunch article allege that Meta violated a specific law concerning children's online privacy, while The Verge article discusses Ofcom's guidelines for tech firms to comply with a different set of regulations for online safety?"
        ],
        [
         "17",
         "17",
         "Did both the report from The Age after September 26, 2023, mentioning Travis Kelce's activities and the Yardbarker report after December 24, 2023, discussing Travis Kelce's performance expectations, indicate no change in the focus of Travis Kelce's professional commitments?"
        ],
        [
         "18",
         "18",
         "Does the Sporting News article suggest that Terry McLaurin, Puka Nacua, Tutu Atwell, Drake London, Tyler Lockett, and Jaxon Smith-Njigba may underperform in their upcoming games, in contrast to the CBSSports.com article which discusses Najee Harris's past performance in a specific game rather than predictions for future games?"
        ],
        [
         "19",
         "19",
         "What is the name of the powerful telescope launched by NASA in December 2021?"
        ],
        [
         "20",
         "20",
         "Who is the Silicon Valley prodigy mentioned in a 'Fortune' article, who was not attempted to be removed by the co-founders of Anthropic according to 'The Age', and is involved in a situation where 'TechCrunch' suggests there was a lack of full truthfulness with the board?"
        ],
        [
         "21",
         "21",
         "What is the name of the first commercial microprocessor released in 1971?"
        ],
        [
         "22",
         "22",
         "Who is the individual that, after recruiting a colleague from Jane Street to join his trading and development teams, later found himself unable to personally oversee the operations of both his cryptocurrency exchange and research firm due to their expansion, and is now facing allegations of instructing the misuse of billions of dollars of customer funds for debt repayment as well as committing fraud for personal gain, as reported by Fortune, The Verge, and TechCrunch?"
        ],
        [
         "23",
         "23",
         "Does the Polygon article claim that Zazie Beetz will not reprise her role in the Joker sequel, while the Essentially Sports article discusses Mary Jane's character in Marvel's Spider-Man 2 returning from the first game?"
        ],
        [
         "24",
         "24",
         "Does the Sporting News article suggest that the fantasy football experience is primarily about the opportunity for long-term bragging rights, while The Roar | Sports Writers Blog article focuses on Colby McKercher's specific performance metrics at the National Championships?"
        ],
        [
         "25",
         "25",
         "Who is the Silicon Valley prodigy associated with OpenAI, recognized since his early twenties, who has plans for a new venture and was involved in a situation where there was no attempt by Anthropic co-founders to remove him, and who is also central to a prevailing theory suggesting a lack of full truthfulness with the board?"
        ],
        [
         "26",
         "26",
         "Who is the individual under 30, once compared to Warren Buffet and seen as the white horse of crypto by some, but not by TechCrunch, who reportedly intended to use his wealth to save humanity from extinction and told another trader that withdrawing money from a certain account was permissible as long as it didn't exceed the trading revenue of his company, which is the same individual the prosecution alleges committed fraud for wealth, power, and influence, as discussed in articles from The Verge and TechCrunch?"
        ],
        [
         "27",
         "27",
         "Who is the individual whose alleged fraudulent activities led to the success of a crypto exchange, persuaded a former colleague from Jane Street to join his ventures, and is facing charges of fraud and conspiracy according to reports from both Fortune and TechCrunch?"
        ],
        [
         "28",
         "28",
         "Does the Sporting News article suggest a consistent scoring trend for \"Thursday Night Football\" compared to previous games, while The Guardian article describes a specific instance where Lauren James created a scoring opportunity, without implying a general trend change in scoring for the game?"
        ],
        [
         "29",
         "29",
         "Which company, recently reported by TechCrunch, is not only facing scrutiny for potential non-compliance with GDPR due to its advertising subscription model but is also attempting to shift the oversight of teen social media usage to third parties, and has been accused of having a moderation bias that particularly affects Palestinian users?"
        ],
        [
         "30",
         "30",
         "Who was described as the richest person in the world under 30 and aimed to save humanity?"
        ],
        [
         "31",
         "31",
         "Who is the individual that was involved in the creation of FTX, persuaded a former colleague from Jane Street to join his ventures, and is accused of achieving wealth through fraudulent means, a situation that was highlighted after a judge's intervention?"
        ],
        [
         "32",
         "32",
         "Did the Sporting News article on the Pittsburgh Penguins' game report a successful penalty kill, while the Sporting News article on the Ole Miss vs. Georgia game mention a penalty committed by Ole Miss's offensive line on the first play?"
        ],
        [
         "33",
         "33",
         "Is Taylor Swift in a relationship with Kelce?"
        ],
        [
         "34",
         "34",
         "Between the Sporting News report on Caesars Sportsbook's promotional offer in Vermont and the CBSSports.com report on Caesars Sportsbook's new customer offer, was there a discrepancy in the bonus bet amount being offered to new customers if their first bet loses?"
        ],
        [
         "35",
         "35",
         "Did 'The Guardian' report on Eintracht Frankfurt's historic Bundesliga achievement against Bayern Munich before 'The Independent - Sports' mentioned Joelinton's powerful goal for Newcastle?"
        ],
        [
         "36",
         "36",
         "Does the TechCrunch article claim that Google's anticompetitive behavior affects the app distribution and payment processing markets for Android, while The Verge article focuses on the market definition in an antitrust case involving Google, and another TechCrunch article alleges Google's anticompetitive actions impact news publishers' content, readers, and ad revenue?"
        ],
        [
         "37",
         "37",
         "Do the 'Business Line' article's claims about central bankers' response to supply disruptions and the 'Fortune' article's claims about Federal Reserve officials' actions to combat inflation both suggest an increase in interest rates?"
        ],
        [
         "38",
         "38",
         "Does the 'Fortune' article suggest a different perspective on Sam Bankman-Fried's actions compared to the 'TechCrunch' article, with 'Fortune' focusing on the jury's determination of truthfulness and 'TechCrunch' alleging intentional fraud?"
        ],
        [
         "39",
         "39",
         "Which group of athletes may not be available for the playoffs despite team interest?"
        ],
        [
         "40",
         "40",
         "Which social media platform’s audience is particularly effective at discovering and sharing music?"
        ],
        [
         "41",
         "41",
         "Who stated that the Finance department plans to reduce new debt from P1.42 trillion to P1.22 trillion?"
        ],
        [
         "42",
         "42",
         "Does the 'Business Line' article claim that 'Leqembi (lecanemab)' is the only approved drug for Alzheimer's as of July 2023, while 'The Guardian' article discusses the time required to realize 'recent scientific developments in tackling dementia' without specifying any particular drug approval?"
        ],
        [
         "43",
         "43",
         "Does the article from Fortune claim that Sam Bankman-Fried's persuasive abilities led to Adam Yedidia joining Alameda and FTX, while the TechCrunch articles focus on different aspects of Sam Bankman-Fried's reputation and alleged actions, without mentioning his persuasive influence on specific individuals?"
        ],
        [
         "44",
         "44",
         "Based on a report from The New York Times and a separate article from The Wall Street Journal on American Express, which single letter represents the initial of the last name of the executive who has been highlighted for driving innovation in the company's digital payment solutions and also commented on the impact of regulatory changes on the financial industry?"
        ],
        [
         "45",
         "45",
         "Who is the individual associated with FTX that was reported by Fortune to have built success on falsehoods, and by TechCrunch to have both denied legal accusations of fraud and conspiracy, and is alleged by the prosecution to have committed fraud for personal gain?"
        ],
        [
         "46",
         "46",
         "Is the reporting on the Northern Lights visibility in the UK by 'The Independent - Travel' consistent with the observations of the aurora borealis reported by 'Live Science: The Most Interesting Articles' between November 9, 2023, and December 21, 2023?"
        ],
        [
         "47",
         "47",
         "Who was the CEO of FTX who was said to have made critical decisions for the company, according to witness testimony?"
        ],
        [
         "48",
         "48",
         "Considering the information from a Bloomberg article detailing the latest strategic investments of Global Financing Group and a Reuters report on their recent partnership with a tech startup, which letter represents the stock exchange where Global Financing Group's partner startup is planning to go public?"
        ],
        [
         "49",
         "49",
         "What company, known for its significant presence in the e-reader space through its Kindle lineup as mentioned by The Verge, also offers life-changing selling opportunities according to Cnbc | World Business News Leader, and was the focus of a Cyber Monday sale with deals reported by Mashable?"
        ]
       ],
       "shape": {
        "columns": 2,
        "rows": 848
       }
      },
      "text/html": [
       "<div>\n",
       "<style scoped>\n",
       "    .dataframe tbody tr th:only-of-type {\n",
       "        vertical-align: middle;\n",
       "    }\n",
       "\n",
       "    .dataframe tbody tr th {\n",
       "        vertical-align: top;\n",
       "    }\n",
       "\n",
       "    .dataframe thead th {\n",
       "        text-align: right;\n",
       "    }\n",
       "</style>\n",
       "<table border=\"1\" class=\"dataframe\">\n",
       "  <thead>\n",
       "    <tr style=\"text-align: right;\">\n",
       "      <th></th>\n",
       "      <th>ID</th>\n",
       "      <th>questions</th>\n",
       "    </tr>\n",
       "  </thead>\n",
       "  <tbody>\n",
       "    <tr>\n",
       "      <th>0</th>\n",
       "      <td>0</td>\n",
       "      <td>After the TechCrunch report on November 18, 20...</td>\n",
       "    </tr>\n",
       "    <tr>\n",
       "      <th>1</th>\n",
       "      <td>1</td>\n",
       "      <td>Considering the information from an article by...</td>\n",
       "    </tr>\n",
       "    <tr>\n",
       "      <th>2</th>\n",
       "      <td>2</td>\n",
       "      <td>Considering the information from an article in...</td>\n",
       "    </tr>\n",
       "    <tr>\n",
       "      <th>3</th>\n",
       "      <td>3</td>\n",
       "      <td>Was Owen Teale's career impact discussed in Th...</td>\n",
       "    </tr>\n",
       "    <tr>\n",
       "      <th>4</th>\n",
       "      <td>4</td>\n",
       "      <td>What company developed the world’s first succe...</td>\n",
       "    </tr>\n",
       "    <tr>\n",
       "      <th>...</th>\n",
       "      <td>...</td>\n",
       "      <td>...</td>\n",
       "    </tr>\n",
       "    <tr>\n",
       "      <th>843</th>\n",
       "      <td>843</td>\n",
       "      <td>Who was the CEO of Alameda and former girlfrie...</td>\n",
       "    </tr>\n",
       "    <tr>\n",
       "      <th>844</th>\n",
       "      <td>844</td>\n",
       "      <td>Does the article from The Verge suggest that G...</td>\n",
       "    </tr>\n",
       "    <tr>\n",
       "      <th>845</th>\n",
       "      <td>845</td>\n",
       "      <td>Does the Polygon article suggest that 'The Pos...</td>\n",
       "    </tr>\n",
       "    <tr>\n",
       "      <th>846</th>\n",
       "      <td>846</td>\n",
       "      <td>Between the report by FOX News - Health on 'Pe...</td>\n",
       "    </tr>\n",
       "    <tr>\n",
       "      <th>847</th>\n",
       "      <td>847</td>\n",
       "      <td>Did the TechCrunch report on Sam Bankman-Fried...</td>\n",
       "    </tr>\n",
       "  </tbody>\n",
       "</table>\n",
       "<p>848 rows × 2 columns</p>\n",
       "</div>"
      ],
      "text/plain": [
       "      ID                                          questions\n",
       "0      0  After the TechCrunch report on November 18, 20...\n",
       "1      1  Considering the information from an article by...\n",
       "2      2  Considering the information from an article in...\n",
       "3      3  Was Owen Teale's career impact discussed in Th...\n",
       "4      4  What company developed the world’s first succe...\n",
       "..   ...                                                ...\n",
       "843  843  Who was the CEO of Alameda and former girlfrie...\n",
       "844  844  Does the article from The Verge suggest that G...\n",
       "845  845  Does the Polygon article suggest that 'The Pos...\n",
       "846  846  Between the report by FOX News - Health on 'Pe...\n",
       "847  847  Did the TechCrunch report on Sam Bankman-Fried...\n",
       "\n",
       "[848 rows x 2 columns]"
      ]
     },
     "execution_count": 11,
     "metadata": {},
     "output_type": "execute_result"
    }
   ],
   "source": [
    "test_df = pd.read_csv('data/external/test.csv')\n",
    "test_df"
   ]
  },
  {
   "cell_type": "code",
   "execution_count": 12,
   "metadata": {},
   "outputs": [],
   "source": [
    "test_dataset = TextClassificationDataset(test_df['questions'], None, tokenizer)\n",
    "test_dataloader = DataLoader(test_dataset, batch_size=8, shuffle=False)"
   ]
  },
  {
   "cell_type": "code",
   "execution_count": 14,
   "metadata": {},
   "outputs": [
    {
     "name": "stderr",
     "output_type": "stream",
     "text": [
      "Processing BERT...: 100%|██████████| 106/106 [00:11<00:00,  9.59it/s]\n"
     ]
    },
    {
     "data": {
      "text/plain": [
       "array([0, 2, 2, 0, 3, 1, 3, 1, 0, 3, 1, 0, 0, 0, 0, 0, 1, 1, 0, 3, 3, 3,\n",
       "       3, 1, 0, 3, 3, 3, 0, 3, 3, 3, 0, 0, 0, 0, 0, 0, 0, 3, 3, 3, 0, 0,\n",
       "       2, 3, 0, 3, 2, 3, 1, 0, 2, 0, 0, 1, 3, 3, 1, 0, 0, 0, 3, 3, 3, 3,\n",
       "       3, 3, 0, 0, 0, 3, 0, 3, 3, 2, 0, 3, 1, 3, 2, 1, 1, 1, 3, 0, 0, 0,\n",
       "       3, 1, 1, 2, 3, 1, 0, 0, 3, 0, 0, 0, 0, 3, 2, 1, 3, 0, 3, 2, 3, 3,\n",
       "       3, 2, 0, 0, 1, 1, 1, 2, 1, 1, 3, 3, 0, 3, 2, 1, 0, 0, 0, 3, 3, 3,\n",
       "       1, 3, 2, 3, 3, 3, 3, 0, 3, 3, 3, 0, 0, 0, 1, 3, 0, 1, 3, 3, 0, 3,\n",
       "       3, 3, 3, 1, 3, 0, 2, 3, 3, 3, 1, 0, 3, 3, 0, 3, 3, 3, 1, 1, 3, 0,\n",
       "       3, 0, 1, 3, 1, 3, 1, 0, 1, 3, 3, 1, 0, 3, 2, 3, 1, 1, 0, 0, 3, 3,\n",
       "       0, 0, 3, 0, 3, 0, 0, 1, 0, 1, 3, 2, 1, 3, 0, 1, 0, 0, 3, 3, 3, 2,\n",
       "       3, 3, 0, 3, 3, 3, 3, 0, 3, 0, 0, 3, 2, 3, 0, 1, 3, 3, 0, 3, 3, 3,\n",
       "       3, 3, 0, 3, 3, 0, 3, 1, 1, 2, 3, 3, 0, 2, 3, 0, 1, 3, 1, 3, 3, 0,\n",
       "       3, 0, 0, 1, 2, 0, 1, 0, 3, 0, 2, 0, 3, 1, 0, 2, 0, 0, 3, 3, 3, 0,\n",
       "       0, 1, 3, 3, 3, 0, 3, 3, 3, 3, 0, 1, 1, 0, 2, 1, 3, 3, 0, 0, 0, 3,\n",
       "       0, 3, 0, 2, 1, 0, 1, 2, 3, 1, 1, 0, 3, 1, 2, 0, 2, 0, 3, 2, 3, 0,\n",
       "       3, 3, 3, 2, 3, 3, 3, 3, 0, 3, 0, 1, 2, 0, 1, 2, 0, 3, 0, 0, 0, 3,\n",
       "       1, 1, 0, 1, 3, 3, 0, 1, 3, 1, 3, 3, 3, 0, 3, 0, 3, 0, 2, 0, 0, 0,\n",
       "       3, 0, 3, 0, 3, 0, 3, 1, 2, 1, 3, 1, 2, 1, 1, 1, 1, 3, 3, 3, 3, 2,\n",
       "       3, 0, 2, 0, 0, 0, 3, 0, 3, 0, 3, 1, 0, 1, 0, 3, 3, 0, 1, 0, 0, 1,\n",
       "       0, 3, 3, 3, 3, 1, 3, 3, 3, 2, 3, 2, 0, 0, 0, 1, 3, 3, 3, 1, 0, 0,\n",
       "       0, 0, 3, 0, 2, 1, 1, 0, 0, 3, 3, 1, 3, 3, 0, 3, 3, 3, 3, 2, 3, 1,\n",
       "       0, 3, 2, 3, 3, 3, 3, 2, 1, 1, 3, 1, 0, 3, 2, 1, 3, 0, 0, 2, 3, 2,\n",
       "       2, 3, 0, 0, 1, 3, 3, 0, 3, 0, 3, 0, 3, 1, 0, 0, 0, 3, 0, 3, 1, 3,\n",
       "       1, 3, 1, 3, 3, 2, 3, 3, 3, 1, 0, 0, 0, 3, 2, 0, 3, 1, 0, 3, 3, 0,\n",
       "       3, 1, 0, 0, 3, 3, 3, 1, 3, 1, 0, 0, 3, 3, 1, 3, 1, 0, 3, 3, 3, 1,\n",
       "       3, 3, 0, 3, 0, 1, 0, 3, 0, 3, 1, 3, 3, 3, 1, 1, 3, 3, 3, 0, 3, 0,\n",
       "       1, 3, 0, 3, 3, 1, 3, 0, 2, 2, 3, 2, 3, 3, 3, 2, 0, 3, 1, 3, 0, 0,\n",
       "       2, 0, 3, 3, 3, 3, 0, 2, 3, 3, 1, 3, 2, 3, 1, 0, 3, 1, 3, 0, 0, 0,\n",
       "       2, 3, 3, 1, 3, 0, 3, 2, 2, 3, 3, 0, 2, 1, 3, 3, 0, 3, 3, 1, 0, 2,\n",
       "       0, 0, 0, 3, 3, 3, 0, 0, 3, 3, 3, 3, 3, 0, 0, 1, 0, 1, 0, 3, 3, 3,\n",
       "       3, 3, 1, 3, 0, 3, 3, 1, 0, 0, 0, 3, 3, 3, 0, 1, 0, 0, 0, 0, 3, 3,\n",
       "       3, 3, 3, 3, 1, 3, 3, 3, 0, 1, 0, 0, 3, 2, 1, 1, 3, 3, 3, 3, 0, 3,\n",
       "       3, 0, 3, 1, 3, 3, 3, 2, 3, 1, 0, 3, 0, 3, 2, 0, 1, 1, 3, 3, 3, 0,\n",
       "       3, 0, 0, 3, 3, 3, 1, 3, 0, 3, 3, 3, 1, 2, 3, 3, 1, 0, 3, 0, 0, 0,\n",
       "       3, 3, 0, 0, 0, 3, 3, 0, 1, 3, 3, 1, 3, 3, 2, 3, 3, 0, 3, 2, 1, 3,\n",
       "       1, 3, 1, 3, 1, 3, 1, 2, 3, 3, 3, 0, 0, 0, 2, 3, 0, 0, 0, 1, 0, 3,\n",
       "       3, 3, 3, 3, 1, 3, 3, 0, 3, 0, 3, 0, 3, 0, 0, 1, 1, 3, 1, 3, 0, 2,\n",
       "       0, 3, 1, 2, 3, 3, 3, 1, 3, 3, 3, 2, 3, 3, 3, 3, 0, 0, 2, 3, 0, 1,\n",
       "       1, 1, 0, 3, 0, 1, 0, 3, 0, 1, 3, 1])"
      ]
     },
     "execution_count": 14,
     "metadata": {},
     "output_type": "execute_result"
    }
   ],
   "source": [
    "preds = []\n",
    "model.eval()\n",
    "with torch.no_grad():\n",
    "    for (x, y) in tqdm(test_dataloader, desc='Processing BERT...'):\n",
    "        for i in range(len(x)):\n",
    "            x[i] = x[i].to(device)\n",
    "        ans = best_model(*x)\n",
    "        preds += ans.tolist()\n",
    "preds = np.array(preds)\n",
    "preds = np.argmax(preds, axis=-1)\n",
    "preds"
   ]
  },
  {
   "cell_type": "code",
   "execution_count": 15,
   "metadata": {},
   "outputs": [
    {
     "data": {
      "application/vnd.microsoft.datawrangler.viewer.v0+json": {
       "columns": [
        {
         "name": "index",
         "rawType": "int64",
         "type": "integer"
        },
        {
         "name": "ID",
         "rawType": "int64",
         "type": "integer"
        },
        {
         "name": "questions",
         "rawType": "object",
         "type": "string"
        },
        {
         "name": "answer_",
         "rawType": "int64",
         "type": "integer"
        },
        {
         "name": "answer",
         "rawType": "object",
         "type": "string"
        }
       ],
       "conversionMethod": "pd.DataFrame",
       "ref": "9a7652ae-01a0-4f5e-b0fc-839f61b0e369",
       "rows": [
        [
         "0",
         "0",
         "After the TechCrunch report on November 18, 2023, suggesting that Sam Altman was being fully truthful with the board, and the Fortune article on the same day stating that Sam Altman and the ex-chairman were shocked and saddened by the board's actions, was the reporting from TechCrunch later on November 18, 2023, about Sam Altman's plans consistent with the earlier reports from TechCrunch and Fortune?",
         "0",
         "yes"
        ],
        [
         "1",
         "1",
         "Considering the information from an article by The Verge and another by Forbes about Sygic, which letter represents both the first character of the European country where Sygic is headquartered and the last character of the name of Sygic's CEO as mentioned in these articles?",
         "2",
         "insufficient information"
        ],
        [
         "2",
         "2",
         "Considering the information from an article in The Times of India and another in The Economic Times about Shweta Bachchan Nanda, which fashion brand, associated with her as per The Times of India, launched a new collection that, according to The Economic Times, was inspired by the personal style of a family member whose name begins with the first letter of the English alphabet?",
         "2",
         "insufficient information"
        ],
        [
         "3",
         "3",
         "Was Owen Teale's career impact discussed in The Sydney Morning Herald before Tate McRae's breakthrough performance on Saturday Night Live was reported by The Age?",
         "0",
         "yes"
        ],
        [
         "4",
         "4",
         "What company developed the world’s first successful graphical web browser, Mosaic?",
         "3",
         "sam bankman-fried"
        ],
        [
         "5",
         "5",
         "Did Altman’s visibility in the AI industry increase significantly due to the widespread public attention garnered by ChatGPT, highlighting his role in leading the development of generative AI tools?",
         "1",
         "no"
        ],
        [
         "6",
         "6",
         "What is the name of the spacecraft that carried the Mars Perseverance Rover?",
         "3",
         "sam bankman-fried"
        ],
        [
         "7",
         "7",
         "Was the news about Taylor Swift's relationship with Travis Kelce inconsistent with the later report from The Independent - Life and Style on December 6, 2023?",
         "1",
         "no"
        ],
        [
         "8",
         "8",
         "Has the concern about the Philippines' debt-to-GDP ratio expressed by President Ferdinand Marcos, Jr. in Business World on October 8, 2023, remained consistent with the implications of rising national debt on private investment discussed in Business World on November 5, 2023?",
         "0",
         "yes"
        ],
        [
         "9",
         "9",
         "Which social media company did Al Saadi express frustration with, citing issues common among Palestinians?",
         "3",
         "sam bankman-fried"
        ],
        [
         "10",
         "10",
         "Did the report by Fortune on October 4, 2023, regarding Sam Bankman-Fried's alleged use of Caroline Ellison as a front at Alameda Research, and the subsequent report by TechCrunch involving Sam Bankman-Fried's alleged motives for committing fraud, portray Sam Bankman-Fried's actions inconsistently?",
         "1",
         "no"
        ],
        [
         "11",
         "11",
         "After The Age reported on October 22, 2023, that Google manipulates Search to maximize ad revenue, and TechCrunch reported on December 15, 2023, that Google \"siphons off\" news publishers' content and ad revenue through anticompetitive means, was the reporting on Google's alleged anticompetitive behavior consistent between these two news sources?",
         "0",
         "yes"
        ],
        [
         "12",
         "12",
         "Does the Polygon article suggest that Spider-Man embodies the spirit of Thanksgiving in a way that aligns with the portrayal of Thanksgiving as a time for gratitude and togetherness described in The Independent - Life and Style article?",
         "0",
         "yes"
        ],
        [
         "13",
         "13",
         "Does Manchester United perform well under Champions League pressure?",
         "0",
         "yes"
        ],
        [
         "14",
         "14",
         "Does the Fortune article suggest that Sam Bankman-Fried's actions were the primary cause of FTX's success being built on lies, while the TechCrunch article implies that comments by Changpeng Zhao were a contributing factor to the collapse of FTX?",
         "0",
         "yes"
        ],
        [
         "15",
         "15",
         "Does the Polygon article claim that Zazie Beetz will reprise her role in the Joker sequel, while the Essentially Sports article discusses Mary Jane's character in Marvel's Spider-Man 2 returning from the first game?",
         "0",
         "yes"
        ],
        [
         "16",
         "16",
         "Does the TechCrunch article allege that Meta violated a specific law concerning children's online privacy, while The Verge article discusses Ofcom's guidelines for tech firms to comply with a different set of regulations for online safety?",
         "1",
         "no"
        ],
        [
         "17",
         "17",
         "Did both the report from The Age after September 26, 2023, mentioning Travis Kelce's activities and the Yardbarker report after December 24, 2023, discussing Travis Kelce's performance expectations, indicate no change in the focus of Travis Kelce's professional commitments?",
         "1",
         "no"
        ],
        [
         "18",
         "18",
         "Does the Sporting News article suggest that Terry McLaurin, Puka Nacua, Tutu Atwell, Drake London, Tyler Lockett, and Jaxon Smith-Njigba may underperform in their upcoming games, in contrast to the CBSSports.com article which discusses Najee Harris's past performance in a specific game rather than predictions for future games?",
         "0",
         "yes"
        ],
        [
         "19",
         "19",
         "What is the name of the powerful telescope launched by NASA in December 2021?",
         "3",
         "sam bankman-fried"
        ],
        [
         "20",
         "20",
         "Who is the Silicon Valley prodigy mentioned in a 'Fortune' article, who was not attempted to be removed by the co-founders of Anthropic according to 'The Age', and is involved in a situation where 'TechCrunch' suggests there was a lack of full truthfulness with the board?",
         "3",
         "sam bankman-fried"
        ],
        [
         "21",
         "21",
         "What is the name of the first commercial microprocessor released in 1971?",
         "3",
         "sam bankman-fried"
        ],
        [
         "22",
         "22",
         "Who is the individual that, after recruiting a colleague from Jane Street to join his trading and development teams, later found himself unable to personally oversee the operations of both his cryptocurrency exchange and research firm due to their expansion, and is now facing allegations of instructing the misuse of billions of dollars of customer funds for debt repayment as well as committing fraud for personal gain, as reported by Fortune, The Verge, and TechCrunch?",
         "3",
         "sam bankman-fried"
        ],
        [
         "23",
         "23",
         "Does the Polygon article claim that Zazie Beetz will not reprise her role in the Joker sequel, while the Essentially Sports article discusses Mary Jane's character in Marvel's Spider-Man 2 returning from the first game?",
         "1",
         "no"
        ],
        [
         "24",
         "24",
         "Does the Sporting News article suggest that the fantasy football experience is primarily about the opportunity for long-term bragging rights, while The Roar | Sports Writers Blog article focuses on Colby McKercher's specific performance metrics at the National Championships?",
         "0",
         "yes"
        ],
        [
         "25",
         "25",
         "Who is the Silicon Valley prodigy associated with OpenAI, recognized since his early twenties, who has plans for a new venture and was involved in a situation where there was no attempt by Anthropic co-founders to remove him, and who is also central to a prevailing theory suggesting a lack of full truthfulness with the board?",
         "3",
         "sam bankman-fried"
        ],
        [
         "26",
         "26",
         "Who is the individual under 30, once compared to Warren Buffet and seen as the white horse of crypto by some, but not by TechCrunch, who reportedly intended to use his wealth to save humanity from extinction and told another trader that withdrawing money from a certain account was permissible as long as it didn't exceed the trading revenue of his company, which is the same individual the prosecution alleges committed fraud for wealth, power, and influence, as discussed in articles from The Verge and TechCrunch?",
         "3",
         "sam bankman-fried"
        ],
        [
         "27",
         "27",
         "Who is the individual whose alleged fraudulent activities led to the success of a crypto exchange, persuaded a former colleague from Jane Street to join his ventures, and is facing charges of fraud and conspiracy according to reports from both Fortune and TechCrunch?",
         "3",
         "sam bankman-fried"
        ],
        [
         "28",
         "28",
         "Does the Sporting News article suggest a consistent scoring trend for \"Thursday Night Football\" compared to previous games, while The Guardian article describes a specific instance where Lauren James created a scoring opportunity, without implying a general trend change in scoring for the game?",
         "0",
         "yes"
        ],
        [
         "29",
         "29",
         "Which company, recently reported by TechCrunch, is not only facing scrutiny for potential non-compliance with GDPR due to its advertising subscription model but is also attempting to shift the oversight of teen social media usage to third parties, and has been accused of having a moderation bias that particularly affects Palestinian users?",
         "3",
         "sam bankman-fried"
        ],
        [
         "30",
         "30",
         "Who was described as the richest person in the world under 30 and aimed to save humanity?",
         "3",
         "sam bankman-fried"
        ],
        [
         "31",
         "31",
         "Who is the individual that was involved in the creation of FTX, persuaded a former colleague from Jane Street to join his ventures, and is accused of achieving wealth through fraudulent means, a situation that was highlighted after a judge's intervention?",
         "3",
         "sam bankman-fried"
        ],
        [
         "32",
         "32",
         "Did the Sporting News article on the Pittsburgh Penguins' game report a successful penalty kill, while the Sporting News article on the Ole Miss vs. Georgia game mention a penalty committed by Ole Miss's offensive line on the first play?",
         "0",
         "yes"
        ],
        [
         "33",
         "33",
         "Is Taylor Swift in a relationship with Kelce?",
         "0",
         "yes"
        ],
        [
         "34",
         "34",
         "Between the Sporting News report on Caesars Sportsbook's promotional offer in Vermont and the CBSSports.com report on Caesars Sportsbook's new customer offer, was there a discrepancy in the bonus bet amount being offered to new customers if their first bet loses?",
         "0",
         "yes"
        ],
        [
         "35",
         "35",
         "Did 'The Guardian' report on Eintracht Frankfurt's historic Bundesliga achievement against Bayern Munich before 'The Independent - Sports' mentioned Joelinton's powerful goal for Newcastle?",
         "0",
         "yes"
        ],
        [
         "36",
         "36",
         "Does the TechCrunch article claim that Google's anticompetitive behavior affects the app distribution and payment processing markets for Android, while The Verge article focuses on the market definition in an antitrust case involving Google, and another TechCrunch article alleges Google's anticompetitive actions impact news publishers' content, readers, and ad revenue?",
         "0",
         "yes"
        ],
        [
         "37",
         "37",
         "Do the 'Business Line' article's claims about central bankers' response to supply disruptions and the 'Fortune' article's claims about Federal Reserve officials' actions to combat inflation both suggest an increase in interest rates?",
         "0",
         "yes"
        ],
        [
         "38",
         "38",
         "Does the 'Fortune' article suggest a different perspective on Sam Bankman-Fried's actions compared to the 'TechCrunch' article, with 'Fortune' focusing on the jury's determination of truthfulness and 'TechCrunch' alleging intentional fraud?",
         "0",
         "yes"
        ],
        [
         "39",
         "39",
         "Which group of athletes may not be available for the playoffs despite team interest?",
         "3",
         "sam bankman-fried"
        ],
        [
         "40",
         "40",
         "Which social media platform’s audience is particularly effective at discovering and sharing music?",
         "3",
         "sam bankman-fried"
        ],
        [
         "41",
         "41",
         "Who stated that the Finance department plans to reduce new debt from P1.42 trillion to P1.22 trillion?",
         "3",
         "sam bankman-fried"
        ],
        [
         "42",
         "42",
         "Does the 'Business Line' article claim that 'Leqembi (lecanemab)' is the only approved drug for Alzheimer's as of July 2023, while 'The Guardian' article discusses the time required to realize 'recent scientific developments in tackling dementia' without specifying any particular drug approval?",
         "0",
         "yes"
        ],
        [
         "43",
         "43",
         "Does the article from Fortune claim that Sam Bankman-Fried's persuasive abilities led to Adam Yedidia joining Alameda and FTX, while the TechCrunch articles focus on different aspects of Sam Bankman-Fried's reputation and alleged actions, without mentioning his persuasive influence on specific individuals?",
         "0",
         "yes"
        ],
        [
         "44",
         "44",
         "Based on a report from The New York Times and a separate article from The Wall Street Journal on American Express, which single letter represents the initial of the last name of the executive who has been highlighted for driving innovation in the company's digital payment solutions and also commented on the impact of regulatory changes on the financial industry?",
         "2",
         "insufficient information"
        ],
        [
         "45",
         "45",
         "Who is the individual associated with FTX that was reported by Fortune to have built success on falsehoods, and by TechCrunch to have both denied legal accusations of fraud and conspiracy, and is alleged by the prosecution to have committed fraud for personal gain?",
         "3",
         "sam bankman-fried"
        ],
        [
         "46",
         "46",
         "Is the reporting on the Northern Lights visibility in the UK by 'The Independent - Travel' consistent with the observations of the aurora borealis reported by 'Live Science: The Most Interesting Articles' between November 9, 2023, and December 21, 2023?",
         "0",
         "yes"
        ],
        [
         "47",
         "47",
         "Who was the CEO of FTX who was said to have made critical decisions for the company, according to witness testimony?",
         "3",
         "sam bankman-fried"
        ],
        [
         "48",
         "48",
         "Considering the information from a Bloomberg article detailing the latest strategic investments of Global Financing Group and a Reuters report on their recent partnership with a tech startup, which letter represents the stock exchange where Global Financing Group's partner startup is planning to go public?",
         "2",
         "insufficient information"
        ],
        [
         "49",
         "49",
         "What company, known for its significant presence in the e-reader space through its Kindle lineup as mentioned by The Verge, also offers life-changing selling opportunities according to Cnbc | World Business News Leader, and was the focus of a Cyber Monday sale with deals reported by Mashable?",
         "3",
         "sam bankman-fried"
        ]
       ],
       "shape": {
        "columns": 4,
        "rows": 848
       }
      },
      "text/html": [
       "<div>\n",
       "<style scoped>\n",
       "    .dataframe tbody tr th:only-of-type {\n",
       "        vertical-align: middle;\n",
       "    }\n",
       "\n",
       "    .dataframe tbody tr th {\n",
       "        vertical-align: top;\n",
       "    }\n",
       "\n",
       "    .dataframe thead th {\n",
       "        text-align: right;\n",
       "    }\n",
       "</style>\n",
       "<table border=\"1\" class=\"dataframe\">\n",
       "  <thead>\n",
       "    <tr style=\"text-align: right;\">\n",
       "      <th></th>\n",
       "      <th>ID</th>\n",
       "      <th>questions</th>\n",
       "      <th>answer_</th>\n",
       "      <th>answer</th>\n",
       "    </tr>\n",
       "  </thead>\n",
       "  <tbody>\n",
       "    <tr>\n",
       "      <th>0</th>\n",
       "      <td>0</td>\n",
       "      <td>After the TechCrunch report on November 18, 20...</td>\n",
       "      <td>0</td>\n",
       "      <td>yes</td>\n",
       "    </tr>\n",
       "    <tr>\n",
       "      <th>1</th>\n",
       "      <td>1</td>\n",
       "      <td>Considering the information from an article by...</td>\n",
       "      <td>2</td>\n",
       "      <td>insufficient information</td>\n",
       "    </tr>\n",
       "    <tr>\n",
       "      <th>2</th>\n",
       "      <td>2</td>\n",
       "      <td>Considering the information from an article in...</td>\n",
       "      <td>2</td>\n",
       "      <td>insufficient information</td>\n",
       "    </tr>\n",
       "    <tr>\n",
       "      <th>3</th>\n",
       "      <td>3</td>\n",
       "      <td>Was Owen Teale's career impact discussed in Th...</td>\n",
       "      <td>0</td>\n",
       "      <td>yes</td>\n",
       "    </tr>\n",
       "    <tr>\n",
       "      <th>4</th>\n",
       "      <td>4</td>\n",
       "      <td>What company developed the world’s first succe...</td>\n",
       "      <td>3</td>\n",
       "      <td>sam bankman-fried</td>\n",
       "    </tr>\n",
       "    <tr>\n",
       "      <th>...</th>\n",
       "      <td>...</td>\n",
       "      <td>...</td>\n",
       "      <td>...</td>\n",
       "      <td>...</td>\n",
       "    </tr>\n",
       "    <tr>\n",
       "      <th>843</th>\n",
       "      <td>843</td>\n",
       "      <td>Who was the CEO of Alameda and former girlfrie...</td>\n",
       "      <td>3</td>\n",
       "      <td>sam bankman-fried</td>\n",
       "    </tr>\n",
       "    <tr>\n",
       "      <th>844</th>\n",
       "      <td>844</td>\n",
       "      <td>Does the article from The Verge suggest that G...</td>\n",
       "      <td>0</td>\n",
       "      <td>yes</td>\n",
       "    </tr>\n",
       "    <tr>\n",
       "      <th>845</th>\n",
       "      <td>845</td>\n",
       "      <td>Does the Polygon article suggest that 'The Pos...</td>\n",
       "      <td>1</td>\n",
       "      <td>no</td>\n",
       "    </tr>\n",
       "    <tr>\n",
       "      <th>846</th>\n",
       "      <td>846</td>\n",
       "      <td>Between the report by FOX News - Health on 'Pe...</td>\n",
       "      <td>3</td>\n",
       "      <td>sam bankman-fried</td>\n",
       "    </tr>\n",
       "    <tr>\n",
       "      <th>847</th>\n",
       "      <td>847</td>\n",
       "      <td>Did the TechCrunch report on Sam Bankman-Fried...</td>\n",
       "      <td>1</td>\n",
       "      <td>no</td>\n",
       "    </tr>\n",
       "  </tbody>\n",
       "</table>\n",
       "<p>848 rows × 4 columns</p>\n",
       "</div>"
      ],
      "text/plain": [
       "      ID                                          questions  answer_  \\\n",
       "0      0  After the TechCrunch report on November 18, 20...        0   \n",
       "1      1  Considering the information from an article by...        2   \n",
       "2      2  Considering the information from an article in...        2   \n",
       "3      3  Was Owen Teale's career impact discussed in Th...        0   \n",
       "4      4  What company developed the world’s first succe...        3   \n",
       "..   ...                                                ...      ...   \n",
       "843  843  Who was the CEO of Alameda and former girlfrie...        3   \n",
       "844  844  Does the article from The Verge suggest that G...        0   \n",
       "845  845  Does the Polygon article suggest that 'The Pos...        1   \n",
       "846  846  Between the report by FOX News - Health on 'Pe...        3   \n",
       "847  847  Did the TechCrunch report on Sam Bankman-Fried...        1   \n",
       "\n",
       "                       answer  \n",
       "0                         yes  \n",
       "1    insufficient information  \n",
       "2    insufficient information  \n",
       "3                         yes  \n",
       "4           sam bankman-fried  \n",
       "..                        ...  \n",
       "843         sam bankman-fried  \n",
       "844                       yes  \n",
       "845                        no  \n",
       "846         sam bankman-fried  \n",
       "847                        no  \n",
       "\n",
       "[848 rows x 4 columns]"
      ]
     },
     "execution_count": 15,
     "metadata": {},
     "output_type": "execute_result"
    }
   ],
   "source": [
    "test_df['answer_'] = preds\n",
    "test_df['answer'] = test_df['answer_'].apply(\n",
    "    lambda x: classes[x] if x < len(classes) else 'sam bankman-fried'\n",
    ")\n",
    "test_df"
   ]
  },
  {
   "cell_type": "code",
   "execution_count": 18,
   "metadata": {},
   "outputs": [],
   "source": [
    "test_df[['ID', 'answer']].to_csv('data/submissions/submission.csv', index=False)"
   ]
  },
  {
   "cell_type": "code",
   "execution_count": null,
   "metadata": {},
   "outputs": [],
   "source": []
  }
 ],
 "metadata": {
  "kernelspec": {
   "display_name": ".venv",
   "language": "python",
   "name": "python3"
  },
  "language_info": {
   "codemirror_mode": {
    "name": "ipython",
    "version": 3
   },
   "file_extension": ".py",
   "mimetype": "text/x-python",
   "name": "python",
   "nbconvert_exporter": "python",
   "pygments_lexer": "ipython3",
   "version": "3.11.11"
  }
 },
 "nbformat": 4,
 "nbformat_minor": 2
}
