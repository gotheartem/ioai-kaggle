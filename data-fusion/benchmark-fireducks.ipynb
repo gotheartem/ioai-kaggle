{
 "cells": [
  {
   "cell_type": "code",
   "execution_count": 1,
   "metadata": {},
   "outputs": [],
   "source": [
    "import time\n",
    "import tqdm\n",
    "import numpy as np\n",
    "import pandas as pd\n",
    "import fireducks.pandas as fpd"
   ]
  },
  {
   "cell_type": "code",
   "execution_count": 2,
   "metadata": {},
   "outputs": [],
   "source": [
    "d = {'a': np.linspace(0, 1000, 1000000)}"
   ]
  },
  {
   "cell_type": "code",
   "execution_count": 3,
   "metadata": {},
   "outputs": [
    {
     "name": "stderr",
     "output_type": "stream",
     "text": [
      "100%|██████████| 1000/1000 [00:00<00:00, 1421.87it/s]"
     ]
    },
    {
     "name": "stdout",
     "output_type": "stream",
     "text": [
      "Pandas DataFrame creation stats:\n",
      "Mean: 0.6982ms\n",
      "5%:   0.5596ms\n",
      "95%:  0.9269ms\n",
      "Std:  0.1425ms\n"
     ]
    },
    {
     "name": "stderr",
     "output_type": "stream",
     "text": [
      "\n"
     ]
    }
   ],
   "source": [
    "times = []\n",
    "for i in tqdm.tqdm(range(1000)):\n",
    "    t0 = time.time()\n",
    "    df = pd.DataFrame(d)\n",
    "    t1 = time.time()\n",
    "    times.append((t1 - t0) * 1000)\n",
    "times = pd.Series(times)\n",
    "print('Pandas DataFrame creation stats:')\n",
    "print(f'Mean: {times.mean():.4f}ms')\n",
    "print(f'5%:   {times.quantile(0.05):.4f}ms')\n",
    "print(f'95%:  {times.quantile(0.95):.4f}ms')\n",
    "print(f'Std:  {times.std():.4f}ms')"
   ]
  },
  {
   "cell_type": "code",
   "execution_count": 4,
   "metadata": {},
   "outputs": [
    {
     "name": "stderr",
     "output_type": "stream",
     "text": [
      "100%|██████████| 1000/1000 [00:02<00:00, 400.02it/s]"
     ]
    },
    {
     "name": "stdout",
     "output_type": "stream",
     "text": [
      "FireDucks DataFrame creation stats:\n",
      "Mean: 2.4863ms\n",
      "5%:   1.6951ms\n",
      "95%:  3.7628ms\n",
      "Std:  1.0644ms\n"
     ]
    },
    {
     "name": "stderr",
     "output_type": "stream",
     "text": [
      "\n"
     ]
    }
   ],
   "source": [
    "times = []\n",
    "for i in tqdm.tqdm(range(1000)):\n",
    "    t0 = time.time()\n",
    "    fdf = fpd.DataFrame(d)\n",
    "    t1 = time.time()\n",
    "    times.append((t1 - t0) * 1000)\n",
    "times = pd.Series(times)\n",
    "print('FireDucks DataFrame creation stats:')\n",
    "print(f'Mean: {times.mean():.4f}ms')\n",
    "print(f'5%:   {times.quantile(0.05):.4f}ms')\n",
    "print(f'95%:  {times.quantile(0.95):.4f}ms')\n",
    "print(f'Std:  {times.std():.4f}ms')"
   ]
  },
  {
   "cell_type": "code",
   "execution_count": 5,
   "metadata": {},
   "outputs": [
    {
     "name": "stderr",
     "output_type": "stream",
     "text": [
      "100%|██████████| 1000/1000 [00:01<00:00, 936.51it/s]"
     ]
    },
    {
     "name": "stdout",
     "output_type": "stream",
     "text": [
      "Pandas shifting stats:\n",
      "Mean: 1.0607ms\n",
      "5%:   0.9294ms\n",
      "95%:  1.2353ms\n",
      "Std:  0.2485ms\n"
     ]
    },
    {
     "name": "stderr",
     "output_type": "stream",
     "text": [
      "\n"
     ]
    }
   ],
   "source": [
    "times = []\n",
    "for i in tqdm.tqdm(range(1000)):\n",
    "    t0 = time.time()\n",
    "    df['b'] = df['a'].shift(1)\n",
    "    t1 = time.time()\n",
    "    times.append((t1 - t0) * 1000)\n",
    "times = pd.Series(times)\n",
    "print('Pandas shifting stats:')\n",
    "print(f'Mean: {times.mean():.4f}ms')\n",
    "print(f'5%:   {times.quantile(0.05):.4f}ms')\n",
    "print(f'95%:  {times.quantile(0.95):.4f}ms')\n",
    "print(f'Std:  {times.std():.4f}ms')"
   ]
  },
  {
   "cell_type": "code",
   "execution_count": 6,
   "metadata": {},
   "outputs": [
    {
     "name": "stderr",
     "output_type": "stream",
     "text": [
      "100%|██████████| 1000/1000 [00:01<00:00, 748.93it/s]"
     ]
    },
    {
     "name": "stdout",
     "output_type": "stream",
     "text": [
      "FireDucks shifting stats:\n",
      "Mean: 1.3304ms\n",
      "5%:   0.4922ms\n",
      "95%:  2.2243ms\n",
      "Std:  1.1808ms\n"
     ]
    },
    {
     "name": "stderr",
     "output_type": "stream",
     "text": [
      "\n"
     ]
    }
   ],
   "source": [
    "times = []\n",
    "for i in tqdm.tqdm(range(1000)):\n",
    "    t0 = time.time()\n",
    "    fdf['b'] = fdf['a'].shift(1)\n",
    "    t1 = time.time()\n",
    "    times.append((t1 - t0) * 1000)\n",
    "times = pd.Series(times)\n",
    "print('FireDucks shifting stats:')\n",
    "print(f'Mean: {times.mean():.4f}ms')\n",
    "print(f'5%:   {times.quantile(0.05):.4f}ms')\n",
    "print(f'95%:  {times.quantile(0.95):.4f}ms')\n",
    "print(f'Std:  {times.std():.4f}ms')"
   ]
  },
  {
   "cell_type": "code",
   "execution_count": 7,
   "metadata": {},
   "outputs": [
    {
     "name": "stderr",
     "output_type": "stream",
     "text": [
      "100%|██████████| 1000/1000 [00:11<00:00, 85.04it/s]"
     ]
    },
    {
     "name": "stdout",
     "output_type": "stream",
     "text": [
      "Pandas aggregation (mean) in rw stats:\n",
      "Mean: 11.7027ms\n",
      "5%:   10.9564ms\n",
      "95%:  12.6807ms\n",
      "Std:  0.7860ms\n"
     ]
    },
    {
     "name": "stderr",
     "output_type": "stream",
     "text": [
      "\n"
     ]
    }
   ],
   "source": [
    "times = []\n",
    "for i in tqdm.tqdm(range(1000)):\n",
    "    t0 = time.time()\n",
    "    df['b'] = df['a'].rolling(100).mean()\n",
    "    t1 = time.time()\n",
    "    times.append((t1 - t0) * 1000)\n",
    "times = pd.Series(times)\n",
    "print('Pandas aggregation (mean) in rw stats:')\n",
    "print(f'Mean: {times.mean():.4f}ms')\n",
    "print(f'5%:   {times.quantile(0.05):.4f}ms')\n",
    "print(f'95%:  {times.quantile(0.95):.4f}ms')\n",
    "print(f'Std:  {times.std():.4f}ms')"
   ]
  },
  {
   "cell_type": "code",
   "execution_count": 8,
   "metadata": {},
   "outputs": [
    {
     "name": "stderr",
     "output_type": "stream",
     "text": [
      "100%|██████████| 1000/1000 [00:03<00:00, 267.34it/s]"
     ]
    },
    {
     "name": "stdout",
     "output_type": "stream",
     "text": [
      "FireDucks aggregation (mean) in rw stats:\n",
      "Mean: 3.7234ms\n",
      "5%:   2.5150ms\n",
      "95%:  4.8681ms\n",
      "Std:  0.7571ms\n"
     ]
    },
    {
     "name": "stderr",
     "output_type": "stream",
     "text": [
      "\n"
     ]
    }
   ],
   "source": [
    "times = []\n",
    "for i in tqdm.tqdm(range(1000)):\n",
    "    t0 = time.time()\n",
    "    fdf['b'] = fdf['a'].rolling(100).mean()\n",
    "    t1 = time.time()\n",
    "    times.append((t1 - t0) * 1000)\n",
    "times = pd.Series(times)\n",
    "print('FireDucks aggregation (mean) in rw stats:')\n",
    "print(f'Mean: {times.mean():.4f}ms')\n",
    "print(f'5%:   {times.quantile(0.05):.4f}ms')\n",
    "print(f'95%:  {times.quantile(0.95):.4f}ms')\n",
    "print(f'Std:  {times.std():.4f}ms')"
   ]
  },
  {
   "cell_type": "code",
   "execution_count": 9,
   "metadata": {},
   "outputs": [
    {
     "name": "stderr",
     "output_type": "stream",
     "text": [
      "100%|██████████| 1000/1000 [00:11<00:00, 88.45it/s]"
     ]
    },
    {
     "name": "stdout",
     "output_type": "stream",
     "text": [
      "Pandas aggregation (max) in rw stats:\n",
      "Mean: 11.2532ms\n",
      "5%:   10.6221ms\n",
      "95%:  11.9415ms\n",
      "Std:  0.5963ms\n"
     ]
    },
    {
     "name": "stderr",
     "output_type": "stream",
     "text": [
      "\n"
     ]
    }
   ],
   "source": [
    "times = []\n",
    "for i in tqdm.tqdm(range(1000)):\n",
    "    t0 = time.time()\n",
    "    df['b'] = df['a'].rolling(100).max()\n",
    "    t1 = time.time()\n",
    "    times.append((t1 - t0) * 1000)\n",
    "times = pd.Series(times)\n",
    "print('Pandas aggregation (max) in rw stats:')\n",
    "print(f'Mean: {times.mean():.4f}ms')\n",
    "print(f'5%:   {times.quantile(0.05):.4f}ms')\n",
    "print(f'95%:  {times.quantile(0.95):.4f}ms')\n",
    "print(f'Std:  {times.std():.4f}ms')"
   ]
  },
  {
   "cell_type": "code",
   "execution_count": 10,
   "metadata": {},
   "outputs": [
    {
     "name": "stderr",
     "output_type": "stream",
     "text": [
      "100%|██████████| 1000/1000 [00:06<00:00, 155.47it/s]"
     ]
    },
    {
     "name": "stdout",
     "output_type": "stream",
     "text": [
      "FireDucks aggregation (max) in rw stats:\n",
      "Mean: 6.4024ms\n",
      "5%:   5.1305ms\n",
      "95%:  7.4944ms\n",
      "Std:  1.5627ms\n"
     ]
    },
    {
     "name": "stderr",
     "output_type": "stream",
     "text": [
      "\n"
     ]
    }
   ],
   "source": [
    "times = []\n",
    "for i in tqdm.tqdm(range(1000)):\n",
    "    t0 = time.time()\n",
    "    fdf['b'] = fdf['a'].rolling(100).max()\n",
    "    t1 = time.time()\n",
    "    times.append((t1 - t0) * 1000)\n",
    "times = pd.Series(times)\n",
    "print('FireDucks aggregation (max) in rw stats:')\n",
    "print(f'Mean: {times.mean():.4f}ms')\n",
    "print(f'5%:   {times.quantile(0.05):.4f}ms')\n",
    "print(f'95%:  {times.quantile(0.95):.4f}ms')\n",
    "print(f'Std:  {times.std():.4f}ms')"
   ]
  },
  {
   "cell_type": "code",
   "execution_count": 12,
   "metadata": {},
   "outputs": [
    {
     "name": "stderr",
     "output_type": "stream",
     "text": [
      "100%|██████████| 100/100 [00:25<00:00,  3.90it/s]"
     ]
    },
    {
     "name": "stdout",
     "output_type": "stream",
     "text": [
      "Pandas aggregation (median) in rw stats:\n",
      "Mean: 255.9605ms\n",
      "5%:   251.0729ms\n",
      "95%:  261.0982ms\n",
      "Std:  3.2852ms\n"
     ]
    },
    {
     "name": "stderr",
     "output_type": "stream",
     "text": [
      "\n"
     ]
    }
   ],
   "source": [
    "times = []\n",
    "for i in tqdm.tqdm(range(100)):\n",
    "    t0 = time.time()\n",
    "    df['b'] = df['a'].rolling(100).median()\n",
    "    t1 = time.time()\n",
    "    times.append((t1 - t0) * 1000)\n",
    "times = pd.Series(times)\n",
    "print('Pandas aggregation (median) in rw stats:')\n",
    "print(f'Mean: {times.mean():.4f}ms')\n",
    "print(f'5%:   {times.quantile(0.05):.4f}ms')\n",
    "print(f'95%:  {times.quantile(0.95):.4f}ms')\n",
    "print(f'Std:  {times.std():.4f}ms')"
   ]
  },
  {
   "cell_type": "code",
   "execution_count": 13,
   "metadata": {},
   "outputs": [
    {
     "name": "stderr",
     "output_type": "stream",
     "text": [
      "100%|██████████| 100/100 [00:00<00:00, 123.51it/s]"
     ]
    },
    {
     "name": "stdout",
     "output_type": "stream",
     "text": [
      "FireDucks aggregation (median) in rw stats:\n",
      "Mean: 8.0589ms\n",
      "5%:   7.2884ms\n",
      "95%:  9.1744ms\n",
      "Std:  0.9258ms\n"
     ]
    },
    {
     "name": "stderr",
     "output_type": "stream",
     "text": [
      "\n"
     ]
    }
   ],
   "source": [
    "times = []\n",
    "for i in tqdm.tqdm(range(100)):\n",
    "    t0 = time.time()\n",
    "    fdf['b'] = fdf['a'].rolling(100).median()\n",
    "    t1 = time.time()\n",
    "    times.append((t1 - t0) * 1000)\n",
    "times = pd.Series(times)\n",
    "print('FireDucks aggregation (median) in rw stats:')\n",
    "print(f'Mean: {times.mean():.4f}ms')\n",
    "print(f'5%:   {times.quantile(0.05):.4f}ms')\n",
    "print(f'95%:  {times.quantile(0.95):.4f}ms')\n",
    "print(f'Std:  {times.std():.4f}ms')"
   ]
  },
  {
   "cell_type": "code",
   "execution_count": null,
   "metadata": {},
   "outputs": [],
   "source": []
  }
 ],
 "metadata": {
  "kernelspec": {
   "display_name": ".venv",
   "language": "python",
   "name": "python3"
  },
  "language_info": {
   "codemirror_mode": {
    "name": "ipython",
    "version": 3
   },
   "file_extension": ".py",
   "mimetype": "text/x-python",
   "name": "python",
   "nbconvert_exporter": "python",
   "pygments_lexer": "ipython3",
   "version": "3.11.11"
  }
 },
 "nbformat": 4,
 "nbformat_minor": 2
}
