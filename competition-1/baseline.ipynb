{
 "cells": [
  {
   "cell_type": "code",
   "execution_count": 1,
   "metadata": {},
   "outputs": [],
   "source": [
    "import pandas as pd\n",
    "import numpy as np\n",
    "\n",
    "train = pd.read_csv('data/raw/train.csv')\n",
    "sample_submission = pd.read_csv('data/raw/sample_submission.csv')\n",
    "sample_submission['Company_ID'] = sample_submission['Id'].apply(lambda x:x.split('_')[0]).astype('int')\n",
    "sample_submission['Product_ID'] = sample_submission['Id'].apply(lambda x:x.split('_')[1]).astype('int')\n",
    "\n",
    "predict = train[train['Date'] >= '2023-12-01'].groupby(['Company_ID', 'Product_ID'])['Target'].sum().reset_index()\n",
    "submission = sample_submission.merge(predict, on = ['Company_ID', 'Product_ID'], how = 'left')\n",
    "submission['Target_y'] = submission['Target_y'].fillna(0)\n",
    "\n",
    "submission = submission[['Id', 'Target_y']]\n",
    "submission.columns = ['Id', 'Target']\n",
    "submission.to_csv('data/submissions/baseline.csv', index = None)"
   ]
  }
 ],
 "metadata": {
  "kernelspec": {
   "display_name": ".venv",
   "language": "python",
   "name": "python3"
  },
  "language_info": {
   "codemirror_mode": {
    "name": "ipython",
    "version": 3
   },
   "file_extension": ".py",
   "mimetype": "text/x-python",
   "name": "python",
   "nbconvert_exporter": "python",
   "pygments_lexer": "ipython3",
   "version": "3.11.11"
  }
 },
 "nbformat": 4,
 "nbformat_minor": 2
}
