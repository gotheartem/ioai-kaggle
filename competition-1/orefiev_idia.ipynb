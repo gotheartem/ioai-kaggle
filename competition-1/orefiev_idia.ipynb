{
 "cells": [
  {
   "metadata": {},
   "cell_type": "markdown",
   "source": "# Eblan Version",
   "id": "b7afd570fff9d146"
  },
  {
   "cell_type": "code",
   "id": "initial_id",
   "metadata": {
    "collapsed": true,
    "ExecuteTime": {
     "end_time": "2025-01-31T19:06:09.657168Z",
     "start_time": "2025-01-31T19:06:09.651874Z"
    }
   },
   "source": [
    "import pandas as pd\n",
    "import numpy as np\n",
    "from autogluon.core.metrics import mean_absolute_error\n",
    "from catboost import CatBoostRegressor\n",
    "from sklearn.metrics import mean_squared_error\n",
    "import matplotlib.pyplot as plt\n",
    "import seaborn as sns\n",
    "from torchmetrics.functional import mean_absolute_error"
   ],
   "outputs": [],
   "execution_count": 15
  },
  {
   "metadata": {
    "ExecuteTime": {
     "end_time": "2025-01-31T19:06:09.876706Z",
     "start_time": "2025-01-31T19:06:09.874015Z"
    }
   },
   "cell_type": "code",
   "source": [
    "import warnings\n",
    "warnings.filterwarnings('ignore')"
   ],
   "id": "f8738a70a6b91c6f",
   "outputs": [],
   "execution_count": 16
  },
  {
   "metadata": {
    "ExecuteTime": {
     "end_time": "2025-01-31T19:07:29.188403Z",
     "start_time": "2025-01-31T19:07:22.031546Z"
    }
   },
   "cell_type": "code",
   "source": [
    "# Читаем данные\n",
    "train = pd.read_csv('data/raw/train.csv')\n",
    "sample_submission = pd.read_csv('data/raw/sample_submission.csv')\n"
   ],
   "id": "ea5fe262ec03d2ee",
   "outputs": [],
   "execution_count": 20
  },
  {
   "metadata": {
    "ExecuteTime": {
     "end_time": "2025-01-31T19:07:30.574769Z",
     "start_time": "2025-01-31T19:07:29.207174Z"
    }
   },
   "cell_type": "code",
   "source": [
    "# Преобразуем дату\n",
    "train['Date'] = pd.to_datetime(train['Date'].apply(lambda x: x[:-2] + '01'), format='%Y-%m-%d')\n",
    "train['YearMonth'] = train['Date'].dt.to_period('M')"
   ],
   "id": "4dc422b880158b4f",
   "outputs": [],
   "execution_count": 21
  },
  {
   "metadata": {
    "ExecuteTime": {
     "end_time": "2025-01-31T19:07:35.320602Z",
     "start_time": "2025-01-31T19:07:34.721544Z"
    }
   },
   "cell_type": "code",
   "source": [
    "# Агрегация по месяцам\n",
    "monthly_data = train.groupby(['Company_ID', 'Product_ID', 'YearMonth'])['Target'].sum().reset_index()\n",
    "\n",
    "# Преобразование YearMonth обратно в строковый формат\n",
    "monthly_data['YearMonth'] = monthly_data['YearMonth'].astype(str)"
   ],
   "id": "31d4752e27fe2c43",
   "outputs": [],
   "execution_count": 22
  },
  {
   "metadata": {
    "ExecuteTime": {
     "end_time": "2025-01-31T19:07:44.622019Z",
     "start_time": "2025-01-31T19:07:44.617758Z"
    }
   },
   "cell_type": "code",
   "source": "monthly_data",
   "id": "14a6a025f0711aa3",
   "outputs": [
    {
     "data": {
      "text/plain": [
       "        Company_ID  Product_ID YearMonth  Target\n",
       "0                0           1   2019-05       2\n",
       "1                0           1   2019-06      13\n",
       "2                0           1   2019-07       1\n",
       "3                0           1   2019-09      30\n",
       "4                0           1   2019-11       1\n",
       "...            ...         ...       ...     ...\n",
       "862331           3       14668   2021-03       1\n",
       "862332           3       14668   2021-04       1\n",
       "862333           3       14668   2021-05       1\n",
       "862334           3       14668   2021-06       1\n",
       "862335           3       14668   2023-05       5\n",
       "\n",
       "[862336 rows x 4 columns]"
      ],
      "text/html": [
       "<div>\n",
       "<style scoped>\n",
       "    .dataframe tbody tr th:only-of-type {\n",
       "        vertical-align: middle;\n",
       "    }\n",
       "\n",
       "    .dataframe tbody tr th {\n",
       "        vertical-align: top;\n",
       "    }\n",
       "\n",
       "    .dataframe thead th {\n",
       "        text-align: right;\n",
       "    }\n",
       "</style>\n",
       "<table border=\"1\" class=\"dataframe\">\n",
       "  <thead>\n",
       "    <tr style=\"text-align: right;\">\n",
       "      <th></th>\n",
       "      <th>Company_ID</th>\n",
       "      <th>Product_ID</th>\n",
       "      <th>YearMonth</th>\n",
       "      <th>Target</th>\n",
       "    </tr>\n",
       "  </thead>\n",
       "  <tbody>\n",
       "    <tr>\n",
       "      <th>0</th>\n",
       "      <td>0</td>\n",
       "      <td>1</td>\n",
       "      <td>2019-05</td>\n",
       "      <td>2</td>\n",
       "    </tr>\n",
       "    <tr>\n",
       "      <th>1</th>\n",
       "      <td>0</td>\n",
       "      <td>1</td>\n",
       "      <td>2019-06</td>\n",
       "      <td>13</td>\n",
       "    </tr>\n",
       "    <tr>\n",
       "      <th>2</th>\n",
       "      <td>0</td>\n",
       "      <td>1</td>\n",
       "      <td>2019-07</td>\n",
       "      <td>1</td>\n",
       "    </tr>\n",
       "    <tr>\n",
       "      <th>3</th>\n",
       "      <td>0</td>\n",
       "      <td>1</td>\n",
       "      <td>2019-09</td>\n",
       "      <td>30</td>\n",
       "    </tr>\n",
       "    <tr>\n",
       "      <th>4</th>\n",
       "      <td>0</td>\n",
       "      <td>1</td>\n",
       "      <td>2019-11</td>\n",
       "      <td>1</td>\n",
       "    </tr>\n",
       "    <tr>\n",
       "      <th>...</th>\n",
       "      <td>...</td>\n",
       "      <td>...</td>\n",
       "      <td>...</td>\n",
       "      <td>...</td>\n",
       "    </tr>\n",
       "    <tr>\n",
       "      <th>862331</th>\n",
       "      <td>3</td>\n",
       "      <td>14668</td>\n",
       "      <td>2021-03</td>\n",
       "      <td>1</td>\n",
       "    </tr>\n",
       "    <tr>\n",
       "      <th>862332</th>\n",
       "      <td>3</td>\n",
       "      <td>14668</td>\n",
       "      <td>2021-04</td>\n",
       "      <td>1</td>\n",
       "    </tr>\n",
       "    <tr>\n",
       "      <th>862333</th>\n",
       "      <td>3</td>\n",
       "      <td>14668</td>\n",
       "      <td>2021-05</td>\n",
       "      <td>1</td>\n",
       "    </tr>\n",
       "    <tr>\n",
       "      <th>862334</th>\n",
       "      <td>3</td>\n",
       "      <td>14668</td>\n",
       "      <td>2021-06</td>\n",
       "      <td>1</td>\n",
       "    </tr>\n",
       "    <tr>\n",
       "      <th>862335</th>\n",
       "      <td>3</td>\n",
       "      <td>14668</td>\n",
       "      <td>2023-05</td>\n",
       "      <td>5</td>\n",
       "    </tr>\n",
       "  </tbody>\n",
       "</table>\n",
       "<p>862336 rows × 4 columns</p>\n",
       "</div>"
      ]
     },
     "execution_count": 24,
     "metadata": {},
     "output_type": "execute_result"
    }
   ],
   "execution_count": 24
  },
  {
   "metadata": {
    "ExecuteTime": {
     "end_time": "2025-01-31T19:08:08.418390Z",
     "start_time": "2025-01-31T19:08:08.195974Z"
    }
   },
   "cell_type": "code",
   "source": [
    "# Сортировка данных\n",
    "monthly_data = monthly_data.sort_values(by=['Company_ID', 'Product_ID', 'YearMonth'])\n",
    "\n",
    "# Создание лаговых признаков (например, за последние 3 месяца)\n",
    "for lag in range(1, 4):\n",
    "    monthly_data[f'lag_{lag}'] = monthly_data.groupby(['Company_ID', 'Product_ID'])['Target'].shift(lag)\n",
    "\n",
    "# Создание признака месяца для учета сезонности\n",
    "monthly_data['Month'] = pd.to_datetime(monthly_data['YearMonth']).dt.month\n",
    "\n",
    "# Заполнение пропусков значений лаговых признаков нулями\n",
    "monthly_data.fillna(0, inplace=True)\n",
    "\n",
    "monthly_data"
   ],
   "id": "668604f94f5c9e8c",
   "outputs": [
    {
     "data": {
      "text/plain": [
       "        Company_ID  Product_ID YearMonth  Target  lag_1  lag_2  lag_3  Month\n",
       "0                0           1   2019-05       2    0.0    0.0    0.0      5\n",
       "1                0           1   2019-06      13    2.0    0.0    0.0      6\n",
       "2                0           1   2019-07       1   13.0    2.0    0.0      7\n",
       "3                0           1   2019-09      30    1.0   13.0    2.0      9\n",
       "4                0           1   2019-11       1   30.0    1.0   13.0     11\n",
       "...            ...         ...       ...     ...    ...    ...    ...    ...\n",
       "862331           3       14668   2021-03       1    1.0    1.0    1.0      3\n",
       "862332           3       14668   2021-04       1    1.0    1.0    1.0      4\n",
       "862333           3       14668   2021-05       1    1.0    1.0    1.0      5\n",
       "862334           3       14668   2021-06       1    1.0    1.0    1.0      6\n",
       "862335           3       14668   2023-05       5    1.0    1.0    1.0      5\n",
       "\n",
       "[862336 rows x 8 columns]"
      ],
      "text/html": [
       "<div>\n",
       "<style scoped>\n",
       "    .dataframe tbody tr th:only-of-type {\n",
       "        vertical-align: middle;\n",
       "    }\n",
       "\n",
       "    .dataframe tbody tr th {\n",
       "        vertical-align: top;\n",
       "    }\n",
       "\n",
       "    .dataframe thead th {\n",
       "        text-align: right;\n",
       "    }\n",
       "</style>\n",
       "<table border=\"1\" class=\"dataframe\">\n",
       "  <thead>\n",
       "    <tr style=\"text-align: right;\">\n",
       "      <th></th>\n",
       "      <th>Company_ID</th>\n",
       "      <th>Product_ID</th>\n",
       "      <th>YearMonth</th>\n",
       "      <th>Target</th>\n",
       "      <th>lag_1</th>\n",
       "      <th>lag_2</th>\n",
       "      <th>lag_3</th>\n",
       "      <th>Month</th>\n",
       "    </tr>\n",
       "  </thead>\n",
       "  <tbody>\n",
       "    <tr>\n",
       "      <th>0</th>\n",
       "      <td>0</td>\n",
       "      <td>1</td>\n",
       "      <td>2019-05</td>\n",
       "      <td>2</td>\n",
       "      <td>0.0</td>\n",
       "      <td>0.0</td>\n",
       "      <td>0.0</td>\n",
       "      <td>5</td>\n",
       "    </tr>\n",
       "    <tr>\n",
       "      <th>1</th>\n",
       "      <td>0</td>\n",
       "      <td>1</td>\n",
       "      <td>2019-06</td>\n",
       "      <td>13</td>\n",
       "      <td>2.0</td>\n",
       "      <td>0.0</td>\n",
       "      <td>0.0</td>\n",
       "      <td>6</td>\n",
       "    </tr>\n",
       "    <tr>\n",
       "      <th>2</th>\n",
       "      <td>0</td>\n",
       "      <td>1</td>\n",
       "      <td>2019-07</td>\n",
       "      <td>1</td>\n",
       "      <td>13.0</td>\n",
       "      <td>2.0</td>\n",
       "      <td>0.0</td>\n",
       "      <td>7</td>\n",
       "    </tr>\n",
       "    <tr>\n",
       "      <th>3</th>\n",
       "      <td>0</td>\n",
       "      <td>1</td>\n",
       "      <td>2019-09</td>\n",
       "      <td>30</td>\n",
       "      <td>1.0</td>\n",
       "      <td>13.0</td>\n",
       "      <td>2.0</td>\n",
       "      <td>9</td>\n",
       "    </tr>\n",
       "    <tr>\n",
       "      <th>4</th>\n",
       "      <td>0</td>\n",
       "      <td>1</td>\n",
       "      <td>2019-11</td>\n",
       "      <td>1</td>\n",
       "      <td>30.0</td>\n",
       "      <td>1.0</td>\n",
       "      <td>13.0</td>\n",
       "      <td>11</td>\n",
       "    </tr>\n",
       "    <tr>\n",
       "      <th>...</th>\n",
       "      <td>...</td>\n",
       "      <td>...</td>\n",
       "      <td>...</td>\n",
       "      <td>...</td>\n",
       "      <td>...</td>\n",
       "      <td>...</td>\n",
       "      <td>...</td>\n",
       "      <td>...</td>\n",
       "    </tr>\n",
       "    <tr>\n",
       "      <th>862331</th>\n",
       "      <td>3</td>\n",
       "      <td>14668</td>\n",
       "      <td>2021-03</td>\n",
       "      <td>1</td>\n",
       "      <td>1.0</td>\n",
       "      <td>1.0</td>\n",
       "      <td>1.0</td>\n",
       "      <td>3</td>\n",
       "    </tr>\n",
       "    <tr>\n",
       "      <th>862332</th>\n",
       "      <td>3</td>\n",
       "      <td>14668</td>\n",
       "      <td>2021-04</td>\n",
       "      <td>1</td>\n",
       "      <td>1.0</td>\n",
       "      <td>1.0</td>\n",
       "      <td>1.0</td>\n",
       "      <td>4</td>\n",
       "    </tr>\n",
       "    <tr>\n",
       "      <th>862333</th>\n",
       "      <td>3</td>\n",
       "      <td>14668</td>\n",
       "      <td>2021-05</td>\n",
       "      <td>1</td>\n",
       "      <td>1.0</td>\n",
       "      <td>1.0</td>\n",
       "      <td>1.0</td>\n",
       "      <td>5</td>\n",
       "    </tr>\n",
       "    <tr>\n",
       "      <th>862334</th>\n",
       "      <td>3</td>\n",
       "      <td>14668</td>\n",
       "      <td>2021-06</td>\n",
       "      <td>1</td>\n",
       "      <td>1.0</td>\n",
       "      <td>1.0</td>\n",
       "      <td>1.0</td>\n",
       "      <td>6</td>\n",
       "    </tr>\n",
       "    <tr>\n",
       "      <th>862335</th>\n",
       "      <td>3</td>\n",
       "      <td>14668</td>\n",
       "      <td>2023-05</td>\n",
       "      <td>5</td>\n",
       "      <td>1.0</td>\n",
       "      <td>1.0</td>\n",
       "      <td>1.0</td>\n",
       "      <td>5</td>\n",
       "    </tr>\n",
       "  </tbody>\n",
       "</table>\n",
       "<p>862336 rows × 8 columns</p>\n",
       "</div>"
      ]
     },
     "execution_count": 25,
     "metadata": {},
     "output_type": "execute_result"
    }
   ],
   "execution_count": 25
  },
  {
   "metadata": {
    "ExecuteTime": {
     "end_time": "2025-01-31T19:08:20.070721Z",
     "start_time": "2025-01-31T19:08:19.979252Z"
    }
   },
   "cell_type": "code",
   "source": [
    "# Сортировка данных для корректного сдвига\n",
    "monthly_data = monthly_data.sort_values(by=['Company_ID', 'Product_ID', 'YearMonth'])\n",
    "\n",
    "# Создание целевой переменной — Target_next_month\n",
    "monthly_data['Target_next_month'] = monthly_data.groupby(['Company_ID', 'Product_ID'])['Target'].shift(-1)\n",
    "\n",
    "# Заполнение пропусков целевой переменной нулями (если нет данных о следующем месяце)\n",
    "monthly_data['Target_next_month'] = monthly_data['Target_next_month'].fillna(0)\n",
    "\n",
    "monthly_data.head()"
   ],
   "id": "d77c489f456c06e1",
   "outputs": [
    {
     "data": {
      "text/plain": [
       "   Company_ID  Product_ID YearMonth  Target  lag_1  lag_2  lag_3  Month  \\\n",
       "0           0           1   2019-05       2    0.0    0.0    0.0      5   \n",
       "1           0           1   2019-06      13    2.0    0.0    0.0      6   \n",
       "2           0           1   2019-07       1   13.0    2.0    0.0      7   \n",
       "3           0           1   2019-09      30    1.0   13.0    2.0      9   \n",
       "4           0           1   2019-11       1   30.0    1.0   13.0     11   \n",
       "\n",
       "   Target_next_month  \n",
       "0               13.0  \n",
       "1                1.0  \n",
       "2               30.0  \n",
       "3                1.0  \n",
       "4                4.0  "
      ],
      "text/html": [
       "<div>\n",
       "<style scoped>\n",
       "    .dataframe tbody tr th:only-of-type {\n",
       "        vertical-align: middle;\n",
       "    }\n",
       "\n",
       "    .dataframe tbody tr th {\n",
       "        vertical-align: top;\n",
       "    }\n",
       "\n",
       "    .dataframe thead th {\n",
       "        text-align: right;\n",
       "    }\n",
       "</style>\n",
       "<table border=\"1\" class=\"dataframe\">\n",
       "  <thead>\n",
       "    <tr style=\"text-align: right;\">\n",
       "      <th></th>\n",
       "      <th>Company_ID</th>\n",
       "      <th>Product_ID</th>\n",
       "      <th>YearMonth</th>\n",
       "      <th>Target</th>\n",
       "      <th>lag_1</th>\n",
       "      <th>lag_2</th>\n",
       "      <th>lag_3</th>\n",
       "      <th>Month</th>\n",
       "      <th>Target_next_month</th>\n",
       "    </tr>\n",
       "  </thead>\n",
       "  <tbody>\n",
       "    <tr>\n",
       "      <th>0</th>\n",
       "      <td>0</td>\n",
       "      <td>1</td>\n",
       "      <td>2019-05</td>\n",
       "      <td>2</td>\n",
       "      <td>0.0</td>\n",
       "      <td>0.0</td>\n",
       "      <td>0.0</td>\n",
       "      <td>5</td>\n",
       "      <td>13.0</td>\n",
       "    </tr>\n",
       "    <tr>\n",
       "      <th>1</th>\n",
       "      <td>0</td>\n",
       "      <td>1</td>\n",
       "      <td>2019-06</td>\n",
       "      <td>13</td>\n",
       "      <td>2.0</td>\n",
       "      <td>0.0</td>\n",
       "      <td>0.0</td>\n",
       "      <td>6</td>\n",
       "      <td>1.0</td>\n",
       "    </tr>\n",
       "    <tr>\n",
       "      <th>2</th>\n",
       "      <td>0</td>\n",
       "      <td>1</td>\n",
       "      <td>2019-07</td>\n",
       "      <td>1</td>\n",
       "      <td>13.0</td>\n",
       "      <td>2.0</td>\n",
       "      <td>0.0</td>\n",
       "      <td>7</td>\n",
       "      <td>30.0</td>\n",
       "    </tr>\n",
       "    <tr>\n",
       "      <th>3</th>\n",
       "      <td>0</td>\n",
       "      <td>1</td>\n",
       "      <td>2019-09</td>\n",
       "      <td>30</td>\n",
       "      <td>1.0</td>\n",
       "      <td>13.0</td>\n",
       "      <td>2.0</td>\n",
       "      <td>9</td>\n",
       "      <td>1.0</td>\n",
       "    </tr>\n",
       "    <tr>\n",
       "      <th>4</th>\n",
       "      <td>0</td>\n",
       "      <td>1</td>\n",
       "      <td>2019-11</td>\n",
       "      <td>1</td>\n",
       "      <td>30.0</td>\n",
       "      <td>1.0</td>\n",
       "      <td>13.0</td>\n",
       "      <td>11</td>\n",
       "      <td>4.0</td>\n",
       "    </tr>\n",
       "  </tbody>\n",
       "</table>\n",
       "</div>"
      ]
     },
     "execution_count": 26,
     "metadata": {},
     "output_type": "execute_result"
    }
   ],
   "execution_count": 26
  },
  {
   "metadata": {
    "ExecuteTime": {
     "end_time": "2025-01-31T19:08:36.059645Z",
     "start_time": "2025-01-31T19:08:35.910352Z"
    }
   },
   "cell_type": "code",
   "source": [
    "# Определение последнего месяца в данных\n",
    "last_month = monthly_data['YearMonth'].max()\n",
    "last_month_dt = pd.to_datetime(last_month)\n",
    "\n",
    "# Определение границы для обучающей и валидационной выборки\n",
    "validation_start = last_month_dt - pd.DateOffset(months=3)\n",
    "\n",
    "# Создание маски для разделения данных\n",
    "train_mask = pd.to_datetime(monthly_data['YearMonth']) < validation_start\n",
    "validation_mask = pd.to_datetime(monthly_data['YearMonth']) >= validation_start\n",
    "\n",
    "# Разделение данных\n",
    "train_df = monthly_data[train_mask]\n",
    "validation_df = monthly_data[validation_mask]\n",
    "\n",
    "print(f'Обучающая выборка: {train_df.shape}')\n",
    "print(f'Валидационная выборка: {validation_df.shape}')"
   ],
   "id": "bd615e8a0fa4dec6",
   "outputs": [
    {
     "name": "stdout",
     "output_type": "stream",
     "text": [
      "Обучающая выборка: (798388, 9)\n",
      "Валидационная выборка: (63948, 9)\n"
     ]
    }
   ],
   "execution_count": 27
  },
  {
   "metadata": {
    "ExecuteTime": {
     "end_time": "2025-01-31T19:14:35.192645Z",
     "start_time": "2025-01-31T19:14:35.183866Z"
    }
   },
   "cell_type": "code",
   "source": [
    "from catboost import CatBoostRegressor\n",
    "from sklearn.metrics import mean_squared_error\n",
    "\n",
    "# Определение признаков и целевой переменной\n",
    "feature_cols = ['lag_1', 'lag_2', 'lag_3', 'Month']\n",
    "target_col = 'Target_next_month'\n",
    "\n",
    "X_train = train_df[feature_cols]\n",
    "y_train = train_df[target_col]\n",
    "\n",
    "X_val = validation_df[feature_cols]\n",
    "y_val = validation_df[target_col]\n",
    "\n",
    "# Создание и обучение модели\n",
    "model = CatBoostRegressor(\n",
    "    n_estimators=1000,\n",
    "    learning_rate=0.05,\n",
    "    num_leaves=31,\n",
    "    loss_function='MAE',\n",
    "    eval_metric='MAE',\n",
    "    random_state=42\n",
    ")\n"
   ],
   "id": "f830d8c14e6b7432",
   "outputs": [],
   "execution_count": 47
  },
  {
   "metadata": {
    "ExecuteTime": {
     "end_time": "2025-01-31T19:14:54.596854Z",
     "start_time": "2025-01-31T19:14:35.596973Z"
    }
   },
   "cell_type": "code",
   "source": [
    "\n",
    "model.fit(\n",
    "    X_train, y_train,\n",
    "    eval_set=[(X_val, y_val)],\n",
    "    early_stopping_rounds=500,\n",
    "    verbose=100\n",
    ")\n"
   ],
   "id": "a9048a5cd78bd275",
   "outputs": [
    {
     "name": "stdout",
     "output_type": "stream",
     "text": [
      "0:\tlearn: 43.2701929\ttest: 36.3055522\tbest: 36.3055522 (0)\ttotal: 51.3ms\tremaining: 51.2s\n",
      "100:\tlearn: 25.2694931\ttest: 31.5800405\tbest: 31.3343742 (48)\ttotal: 3.44s\tremaining: 30.6s\n",
      "200:\tlearn: 24.8974685\ttest: 31.7129370\tbest: 31.3343742 (48)\ttotal: 6.86s\tremaining: 27.3s\n",
      "300:\tlearn: 24.6303408\ttest: 31.7381306\tbest: 31.3343742 (48)\ttotal: 10.3s\tremaining: 23.8s\n",
      "400:\tlearn: 24.3667162\ttest: 31.5485894\tbest: 31.3343742 (48)\ttotal: 13.7s\tremaining: 20.4s\n",
      "500:\tlearn: 24.2758353\ttest: 31.5108589\tbest: 31.3343742 (48)\ttotal: 17.1s\tremaining: 17.1s\n",
      "Stopped by overfitting detector  (500 iterations wait)\n",
      "\n",
      "bestTest = 31.3343742\n",
      "bestIteration = 48\n",
      "\n",
      "Shrink model to first 49 iterations.\n"
     ]
    },
    {
     "data": {
      "text/plain": [
       "<catboost.core.CatBoostRegressor at 0x32824b200>"
      ]
     },
     "execution_count": 48,
     "metadata": {},
     "output_type": "execute_result"
    }
   ],
   "execution_count": 48
  },
  {
   "metadata": {
    "ExecuteTime": {
     "end_time": "2025-01-31T19:14:27.513645Z",
     "start_time": "2025-01-31T19:14:27.509106Z"
    }
   },
   "cell_type": "code",
   "source": [
    "from sklearn.metrics import mean_absolute_error\n",
    "# Прогноз на валидационной выборке\n",
    "y_pred = model.predict(X_val)\n",
    "mae = mean_absolute_error(y_val, y_pred)\n",
    "print(f'MAE на валидационной выборке: {mae}')"
   ],
   "id": "2e939639a977b371",
   "outputs": [
    {
     "name": "stdout",
     "output_type": "stream",
     "text": [
      "MAE на валидационной выборке: 31.33437519683432\n"
     ]
    }
   ],
   "execution_count": 46
  },
  {
   "metadata": {
    "ExecuteTime": {
     "end_time": "2025-01-31T19:12:02.268524Z",
     "start_time": "2025-01-31T19:11:55.738938Z"
    }
   },
   "cell_type": "code",
   "source": [
    "# Определение будущих месяцев\n",
    "future_months = pd.date_range(start=last_month_dt + pd.offsets.MonthBegin(), periods=3, freq='MS').to_period('M').astype(str)\n",
    "\n",
    "# Получение последних доступных данных для создания начальных признаков\n",
    "last_data = monthly_data.groupby(['Company_ID', 'Product_ID']).apply(lambda x: x.sort_values('YearMonth').tail(3)).reset_index(drop=True)\n",
    "\n",
    "# Создание начального набора данных для прогнозирования\n",
    "future_predictions = pd.DataFrame()\n",
    "\n",
    "for month in future_months:\n",
    "    # Подготовка признаков\n",
    "    temp = last_data.copy()\n",
    "    temp['YearMonth'] = month\n",
    "    temp['lag_1'] = temp['Target']\n",
    "    temp['lag_2'] = temp.groupby(['Company_ID', 'Product_ID'])['Target'].shift(1).fillna(0)\n",
    "    temp['lag_3'] = temp.groupby(['Company_ID', 'Product_ID'])['Target'].shift(2).fillna(0)\n",
    "    temp['Month'] = pd.to_datetime(month).month\n",
    "\n",
    "    # Выбор признаков\n",
    "    X_future = temp[feature_cols]\n",
    "\n",
    "    # Прогноз\n",
    "    temp['Target_Pred'] = model.predict(X_future, num_iteration=model.best_iteration_)\n",
    "\n",
    "    # Добавление прогноза в итоговый DataFrame\n",
    "    temp['Target'] = temp['Target_Pred']\n",
    "    future_predictions = pd.concat([future_predictions, temp[['Company_ID', 'Product_ID', 'YearMonth', 'Target_Pred']]], ignore_index=True)\n",
    "\n",
    "    # Обновление last_data для следующего месяца\n",
    "    last_data['Target'] = temp['Target']\n",
    "\n",
    "print(future_predictions.head())"
   ],
   "id": "8614fe643e77fe",
   "outputs": [
    {
     "ename": "TypeError",
     "evalue": "CatBoostRegressor.predict() got an unexpected keyword argument 'num_iteration'",
     "output_type": "error",
     "traceback": [
      "\u001B[0;31m---------------------------------------------------------------------------\u001B[0m",
      "\u001B[0;31mTypeError\u001B[0m                                 Traceback (most recent call last)",
      "Cell \u001B[0;32mIn[42], line 23\u001B[0m\n\u001B[1;32m     20\u001B[0m X_future \u001B[38;5;241m=\u001B[39m temp[feature_cols]\n\u001B[1;32m     22\u001B[0m \u001B[38;5;66;03m# Прогноз\u001B[39;00m\n\u001B[0;32m---> 23\u001B[0m temp[\u001B[38;5;124m'\u001B[39m\u001B[38;5;124mTarget_Pred\u001B[39m\u001B[38;5;124m'\u001B[39m] \u001B[38;5;241m=\u001B[39m model\u001B[38;5;241m.\u001B[39mpredict(X_future, num_iteration\u001B[38;5;241m=\u001B[39mmodel\u001B[38;5;241m.\u001B[39mbest_iteration_)\n\u001B[1;32m     25\u001B[0m \u001B[38;5;66;03m# Добавление прогноза в итоговый DataFrame\u001B[39;00m\n\u001B[1;32m     26\u001B[0m temp[\u001B[38;5;124m'\u001B[39m\u001B[38;5;124mTarget\u001B[39m\u001B[38;5;124m'\u001B[39m] \u001B[38;5;241m=\u001B[39m temp[\u001B[38;5;124m'\u001B[39m\u001B[38;5;124mTarget_Pred\u001B[39m\u001B[38;5;124m'\u001B[39m]\n",
      "\u001B[0;31mTypeError\u001B[0m: CatBoostRegressor.predict() got an unexpected keyword argument 'num_iteration'"
     ]
    }
   ],
   "execution_count": 42
  },
  {
   "metadata": {},
   "cell_type": "code",
   "outputs": [],
   "execution_count": null,
   "source": "",
   "id": "c95f820682fc096d"
  },
  {
   "metadata": {},
   "cell_type": "markdown",
   "source": "# O1 Version",
   "id": "36de6cda496508db"
  },
  {
   "metadata": {
    "ExecuteTime": {
     "end_time": "2025-01-31T20:32:42.896611Z",
     "start_time": "2025-01-31T20:32:36.822032Z"
    }
   },
   "cell_type": "code",
   "source": [
    "import pandas as pd\n",
    "import numpy as np\n",
    "import datetime as dt\n",
    "from catboost import CatBoostRegressor, Pool\n",
    "\n",
    "# =============== 1. Загрузка данных ===============\n",
    "\n",
    "train = pd.read_csv('data/raw/train.csv', parse_dates=['Date'])\n",
    "sample_submission = pd.read_csv('data/raw/sample_submission.csv')\n"
   ],
   "id": "4a5342e7fdee0a17",
   "outputs": [],
   "execution_count": 1
  },
  {
   "metadata": {
    "ExecuteTime": {
     "end_time": "2025-01-31T20:32:43.874408Z",
     "start_time": "2025-01-31T20:32:42.904531Z"
    }
   },
   "cell_type": "code",
   "source": "train['Date'] = pd.to_datetime(train['Date'].apply(lambda x: x[:-2] + '01'), format='%Y-%m-%d')\n",
   "id": "ebef66be22734b35",
   "outputs": [],
   "execution_count": 2
  },
  {
   "metadata": {
    "ExecuteTime": {
     "end_time": "2025-01-31T20:32:45.522709Z",
     "start_time": "2025-01-31T20:32:43.970482Z"
    }
   },
   "cell_type": "code",
   "source": [
    "\n",
    "# Для удобства добавим колонки:\n",
    "# - Month: год-месяц, чтобы группировать данные помесячно\n",
    "train['Month'] = train['Date'].dt.to_period('M')  # или dt.to_period('M')\n",
    "train['Month'] = train['Month'].astype(str)       # Преобразуем в строку формата 'YYYY-MM'\n",
    "\n"
   ],
   "id": "c2c84b507d8bd4ff",
   "outputs": [],
   "execution_count": 3
  },
  {
   "metadata": {
    "ExecuteTime": {
     "end_time": "2025-01-31T20:32:45.955886Z",
     "start_time": "2025-01-31T20:32:45.530163Z"
    }
   },
   "cell_type": "code",
   "source": [
    "# =============== 2. Агрегация данных до уровня (Company_ID, Product_ID, Month) ===============\n",
    "mode = lambda x: np.nan if x.isna().all() else x.mode()\n",
    "\n",
    "monthly_agg = (\n",
    "    train\n",
    "    .groupby(['Company_ID', 'Product_ID', 'Month'], as_index=False)\n",
    "    .agg({\n",
    "        'Target': 'sum',\n",
    "        # Если нужно, здесь же агрегируем numerical и categorical фичи\n",
    "        # 'num_0': 'mean', 'num_02': 'sum', ...\n",
    "        # 'cat_0':mode\n",
    "        # 'cat_0': lambda x: x.mode()[0], # или другое агрегирование\n",
    "    })\n",
    "    .rename(columns={'Target': 'sum_sales'})\n",
    ")"
   ],
   "id": "39a9ff34a4c40f66",
   "outputs": [],
   "execution_count": 4
  },
  {
   "metadata": {
    "ExecuteTime": {
     "end_time": "2025-01-31T20:32:45.968058Z",
     "start_time": "2025-01-31T20:32:45.962549Z"
    }
   },
   "cell_type": "code",
   "source": "monthly_agg",
   "id": "d1521240281d63b8",
   "outputs": [
    {
     "data": {
      "text/plain": [
       "        Company_ID  Product_ID    Month  sum_sales\n",
       "0                0           1  2019-05          2\n",
       "1                0           1  2019-06         13\n",
       "2                0           1  2019-07          1\n",
       "3                0           1  2019-09         30\n",
       "4                0           1  2019-11          1\n",
       "...            ...         ...      ...        ...\n",
       "862331           3       14668  2021-03          1\n",
       "862332           3       14668  2021-04          1\n",
       "862333           3       14668  2021-05          1\n",
       "862334           3       14668  2021-06          1\n",
       "862335           3       14668  2023-05          5\n",
       "\n",
       "[862336 rows x 4 columns]"
      ],
      "text/html": [
       "<div>\n",
       "<style scoped>\n",
       "    .dataframe tbody tr th:only-of-type {\n",
       "        vertical-align: middle;\n",
       "    }\n",
       "\n",
       "    .dataframe tbody tr th {\n",
       "        vertical-align: top;\n",
       "    }\n",
       "\n",
       "    .dataframe thead th {\n",
       "        text-align: right;\n",
       "    }\n",
       "</style>\n",
       "<table border=\"1\" class=\"dataframe\">\n",
       "  <thead>\n",
       "    <tr style=\"text-align: right;\">\n",
       "      <th></th>\n",
       "      <th>Company_ID</th>\n",
       "      <th>Product_ID</th>\n",
       "      <th>Month</th>\n",
       "      <th>sum_sales</th>\n",
       "    </tr>\n",
       "  </thead>\n",
       "  <tbody>\n",
       "    <tr>\n",
       "      <th>0</th>\n",
       "      <td>0</td>\n",
       "      <td>1</td>\n",
       "      <td>2019-05</td>\n",
       "      <td>2</td>\n",
       "    </tr>\n",
       "    <tr>\n",
       "      <th>1</th>\n",
       "      <td>0</td>\n",
       "      <td>1</td>\n",
       "      <td>2019-06</td>\n",
       "      <td>13</td>\n",
       "    </tr>\n",
       "    <tr>\n",
       "      <th>2</th>\n",
       "      <td>0</td>\n",
       "      <td>1</td>\n",
       "      <td>2019-07</td>\n",
       "      <td>1</td>\n",
       "    </tr>\n",
       "    <tr>\n",
       "      <th>3</th>\n",
       "      <td>0</td>\n",
       "      <td>1</td>\n",
       "      <td>2019-09</td>\n",
       "      <td>30</td>\n",
       "    </tr>\n",
       "    <tr>\n",
       "      <th>4</th>\n",
       "      <td>0</td>\n",
       "      <td>1</td>\n",
       "      <td>2019-11</td>\n",
       "      <td>1</td>\n",
       "    </tr>\n",
       "    <tr>\n",
       "      <th>...</th>\n",
       "      <td>...</td>\n",
       "      <td>...</td>\n",
       "      <td>...</td>\n",
       "      <td>...</td>\n",
       "    </tr>\n",
       "    <tr>\n",
       "      <th>862331</th>\n",
       "      <td>3</td>\n",
       "      <td>14668</td>\n",
       "      <td>2021-03</td>\n",
       "      <td>1</td>\n",
       "    </tr>\n",
       "    <tr>\n",
       "      <th>862332</th>\n",
       "      <td>3</td>\n",
       "      <td>14668</td>\n",
       "      <td>2021-04</td>\n",
       "      <td>1</td>\n",
       "    </tr>\n",
       "    <tr>\n",
       "      <th>862333</th>\n",
       "      <td>3</td>\n",
       "      <td>14668</td>\n",
       "      <td>2021-05</td>\n",
       "      <td>1</td>\n",
       "    </tr>\n",
       "    <tr>\n",
       "      <th>862334</th>\n",
       "      <td>3</td>\n",
       "      <td>14668</td>\n",
       "      <td>2021-06</td>\n",
       "      <td>1</td>\n",
       "    </tr>\n",
       "    <tr>\n",
       "      <th>862335</th>\n",
       "      <td>3</td>\n",
       "      <td>14668</td>\n",
       "      <td>2023-05</td>\n",
       "      <td>5</td>\n",
       "    </tr>\n",
       "  </tbody>\n",
       "</table>\n",
       "<p>862336 rows × 4 columns</p>\n",
       "</div>"
      ]
     },
     "execution_count": 5,
     "metadata": {},
     "output_type": "execute_result"
    }
   ],
   "execution_count": 5
  },
  {
   "metadata": {
    "ExecuteTime": {
     "end_time": "2025-01-31T20:33:45.556281Z",
     "start_time": "2025-01-31T20:33:45.400803Z"
    }
   },
   "cell_type": "code",
   "source": [
    "# Если в будущем захотите добавить лаги (sum_sales_{t-1}, sum_sales_{t-2}, ...),\n",
    "# можно использовать groupby + shift. Но нужно аккуратно работать с индексами (датами):\n",
    "monthly_agg.sort_values(by=['Company_ID', 'Product_ID', 'Month'], inplace=True)\n",
    "monthly_agg['Month_date'] = pd.to_datetime(monthly_agg['Month'], format='%Y-%m')\n",
    "\n",
    "# Для каждого (Company, Product) создадим лаг суммарных продаж\n",
    "monthly_agg['prev_sum_sales_0'] = monthly_agg.groupby(['Company_ID','Product_ID'])['sum_sales'].shift(0)\n",
    "monthly_agg['prev_sum_sales_1'] = monthly_agg.groupby(['Company_ID','Product_ID'])['sum_sales'].shift(1)\n",
    "# monthly_agg['prev_sum_sales_2'] = monthly_agg.groupby(['Company_ID','Product_ID'])['sum_sales'].shift(2)\n",
    "# monthly_agg['prev_sum_sales_3'] = monthly_agg.groupby(['Company_ID','Product_ID'])['sum_sales'].shift(3)\n",
    "# monthly_agg['prev_sum_sales_4'] = monthly_agg.groupby(['Company_ID','Product_ID'])['sum_sales'].shift(4)\n",
    "# monthly_agg['prev_sum_sales_5'] = monthly_agg.groupby(['Company_ID','Product_ID'])['sum_sales'].shift(5)\n",
    "# monthly_agg['prev_sum_sales_6'] = monthly_agg.groupby(['Company_ID','Product_ID'])['sum_sales'].shift(6)\n",
    "# monthly_agg['prev_sum_sales_7'] = monthly_agg.groupby(['Company_ID','Product_ID'])['sum_sales'].shift(7)\n",
    "# monthly_agg['prev_sum_sales_8'] = monthly_agg.groupby(['Company_ID','Product_ID'])['sum_sales'].shift(8)\n",
    "# monthly_agg['prev_sum_sales_9'] = monthly_agg.groupby(['Company_ID','Product_ID'])['sum_sales'].shift(9)\n",
    "# monthly_agg['prev_sum_sales_10'] = monthly_agg.groupby(['Company_ID','Product_ID'])['sum_sales'].shift(10)\n",
    "# monthly_agg['prev_sum_sales_11'] = monthly_agg.groupby(['Company_ID','Product_ID'])['sum_sales'].shift(11)\n",
    "# monthly_agg['prev_sum_sales_12'] = monthly_agg.groupby(['Company_ID','Product_ID'])['sum_sales'].shift(12)\n",
    "\n",
    "# Можно добавить 2, 3 и т.д.:\n",
    "# monthly_agg['prev_sum_sales_2'] = monthly_agg.groupby(['Company_ID','Product_ID'])['sum_sales'].shift(2)\n",
    "# ..."
   ],
   "id": "405436c6bb99f103",
   "outputs": [],
   "execution_count": 7
  },
  {
   "metadata": {
    "ExecuteTime": {
     "end_time": "2025-01-31T20:34:08.097613Z",
     "start_time": "2025-01-31T20:34:08.095374Z"
    }
   },
   "cell_type": "code",
   "source": "subset=['prev_sum_sales_0','prev_sum_sales_1']#,'prev_sum_sales_2','prev_sum_sales_3','prev_sum_sales_4','prev_sum_sales_5','prev_sum_sales_6','prev_sum_sales_7','prev_sum_sales_8','prev_sum_sales_9','prev_sum_sales_10','prev_sum_sales_11','prev_sum_sales_12']",
   "id": "afc9eb94a525e126",
   "outputs": [],
   "execution_count": 8
  },
  {
   "metadata": {
    "ExecuteTime": {
     "end_time": "2025-01-31T20:34:08.517941Z",
     "start_time": "2025-01-31T20:34:08.430600Z"
    }
   },
   "cell_type": "code",
   "source": [
    "# =============== 3. Создаём целевую переменную \"продажи в следующем месяце\" ===============\n",
    "\n",
    "# Для каждой строки с месяцем M хотим в таргете иметь sum_sales в M+1\n",
    "monthly_agg['target'] = monthly_agg.groupby(['Company_ID','Product_ID'])['sum_sales'].shift(-1)\n",
    "\n",
    "# Убираем строки, где lag или target недоступны\n",
    "monthly_agg.dropna(subset=subset+['target'], inplace=True)"
   ],
   "id": "98819c1a9e0121a0",
   "outputs": [],
   "execution_count": 9
  },
  {
   "metadata": {
    "ExecuteTime": {
     "end_time": "2025-01-31T20:34:09.081188Z",
     "start_time": "2025-01-31T20:34:08.901815Z"
    }
   },
   "cell_type": "code",
   "source": [
    "# =============== 4. Разделение train/valid (пример time-based CV) ===============\n",
    "\n",
    "# Предположим, мы хотим последние 3 месяца данных использовать как валидацию,\n",
    "# а ещё раньше — как train. Или делаем K-фолдовую валидацию по месяцам.\n",
    "# Для простоты тут сделаем один hold-out (последние N месяцев — valid).\n",
    "\n",
    "# Сортируем по Month_date (по возрастанию времени)\n",
    "monthly_agg.sort_values(by=['Month_date'], inplace=True)\n",
    "\n",
    "# Пример: берём валидацию на последние 3 месяца, которые у нас есть в данных\n",
    "all_months = sorted(monthly_agg['Month_date'].unique())\n",
    "N_valid_months = 3\n",
    "valid_threshold = all_months[-N_valid_months]  # первая из последних 3\n",
    "train_data = monthly_agg[monthly_agg['Month_date'] < valid_threshold]\n",
    "valid_data = monthly_agg[monthly_agg['Month_date'] >= valid_threshold]\n",
    "\n",
    "# Если хотим настоящую k-fold по времени, делаем цикл по разным разрезам.\n",
    "# Ниже — для простоты делаем 1 разрез."
   ],
   "id": "68709e9e055f84ae",
   "outputs": [],
   "execution_count": 10
  },
  {
   "metadata": {
    "ExecuteTime": {
     "end_time": "2025-01-31T20:34:09.658173Z",
     "start_time": "2025-01-31T20:34:09.647588Z"
    }
   },
   "cell_type": "code",
   "source": [
    "# =============== 5. Подготовка признаков для модели ===============\n",
    "\n",
    "# Допустим, в модель пойдут следующие фичи:\n",
    "# - 'prev_sum_sales_1' (предыдущий месяц продаж)\n",
    "# - (в будущем можно добавить ещё лаги)\n",
    "# - Company_ID, Product_ID как категориальные, если это целесообразно\n",
    "# - и другие categorical: cat_01 … cat_14, агрегированные помесячно (не показано в примере)\n",
    "\n",
    "feature_cols = subset\n",
    "cat_cols = ['Company_ID', 'Product_ID']\n",
    "# Если добавили ещё лаги: feature_cols += ['prev_sum_sales_2', 'prev_sum_sales_3', ...]\n",
    "\n",
    "X_train = train_data[feature_cols + cat_cols]\n",
    "y_train = train_data['target']\n",
    "\n",
    "X_valid = valid_data[feature_cols + cat_cols]\n",
    "y_valid = valid_data['target']\n",
    "\n",
    "# Укажем, какие столбцы считать категориальными для CatBoost\n",
    "# (CatBoost умеет работать с ними напрямую, выучивая таргет-кодирование)\n",
    "cat_features_indices = [X_train.columns.get_loc(c) for c in cat_cols]  # индексы категориальных фич\n"
   ],
   "id": "974ccbe368034117",
   "outputs": [],
   "execution_count": 11
  },
  {
   "metadata": {
    "ExecuteTime": {
     "end_time": "2025-01-31T20:34:11.148921Z",
     "start_time": "2025-01-31T20:34:11.142842Z"
    }
   },
   "cell_type": "code",
   "source": "X_train",
   "id": "7b6f2c7d83980a21",
   "outputs": [
    {
     "data": {
      "text/plain": [
       "        prev_sum_sales_0  prev_sum_sales_1  Company_ID  Product_ID\n",
       "411523                 2               3.0           2        5107\n",
       "812254                47              75.0           3       12299\n",
       "502783                 3               2.0           2       11923\n",
       "502839                 9               9.0           2       11925\n",
       "692048                 3              13.0           3        6919\n",
       "...                  ...               ...         ...         ...\n",
       "456089                 1               1.0           2        8492\n",
       "79187                  2               1.0           0        5964\n",
       "377945                 1               1.0           2        2536\n",
       "377466               200              20.0           2        2500\n",
       "775078                19              16.0           3       10693\n",
       "\n",
       "[751617 rows x 4 columns]"
      ],
      "text/html": [
       "<div>\n",
       "<style scoped>\n",
       "    .dataframe tbody tr th:only-of-type {\n",
       "        vertical-align: middle;\n",
       "    }\n",
       "\n",
       "    .dataframe tbody tr th {\n",
       "        vertical-align: top;\n",
       "    }\n",
       "\n",
       "    .dataframe thead th {\n",
       "        text-align: right;\n",
       "    }\n",
       "</style>\n",
       "<table border=\"1\" class=\"dataframe\">\n",
       "  <thead>\n",
       "    <tr style=\"text-align: right;\">\n",
       "      <th></th>\n",
       "      <th>prev_sum_sales_0</th>\n",
       "      <th>prev_sum_sales_1</th>\n",
       "      <th>Company_ID</th>\n",
       "      <th>Product_ID</th>\n",
       "    </tr>\n",
       "  </thead>\n",
       "  <tbody>\n",
       "    <tr>\n",
       "      <th>411523</th>\n",
       "      <td>2</td>\n",
       "      <td>3.0</td>\n",
       "      <td>2</td>\n",
       "      <td>5107</td>\n",
       "    </tr>\n",
       "    <tr>\n",
       "      <th>812254</th>\n",
       "      <td>47</td>\n",
       "      <td>75.0</td>\n",
       "      <td>3</td>\n",
       "      <td>12299</td>\n",
       "    </tr>\n",
       "    <tr>\n",
       "      <th>502783</th>\n",
       "      <td>3</td>\n",
       "      <td>2.0</td>\n",
       "      <td>2</td>\n",
       "      <td>11923</td>\n",
       "    </tr>\n",
       "    <tr>\n",
       "      <th>502839</th>\n",
       "      <td>9</td>\n",
       "      <td>9.0</td>\n",
       "      <td>2</td>\n",
       "      <td>11925</td>\n",
       "    </tr>\n",
       "    <tr>\n",
       "      <th>692048</th>\n",
       "      <td>3</td>\n",
       "      <td>13.0</td>\n",
       "      <td>3</td>\n",
       "      <td>6919</td>\n",
       "    </tr>\n",
       "    <tr>\n",
       "      <th>...</th>\n",
       "      <td>...</td>\n",
       "      <td>...</td>\n",
       "      <td>...</td>\n",
       "      <td>...</td>\n",
       "    </tr>\n",
       "    <tr>\n",
       "      <th>456089</th>\n",
       "      <td>1</td>\n",
       "      <td>1.0</td>\n",
       "      <td>2</td>\n",
       "      <td>8492</td>\n",
       "    </tr>\n",
       "    <tr>\n",
       "      <th>79187</th>\n",
       "      <td>2</td>\n",
       "      <td>1.0</td>\n",
       "      <td>0</td>\n",
       "      <td>5964</td>\n",
       "    </tr>\n",
       "    <tr>\n",
       "      <th>377945</th>\n",
       "      <td>1</td>\n",
       "      <td>1.0</td>\n",
       "      <td>2</td>\n",
       "      <td>2536</td>\n",
       "    </tr>\n",
       "    <tr>\n",
       "      <th>377466</th>\n",
       "      <td>200</td>\n",
       "      <td>20.0</td>\n",
       "      <td>2</td>\n",
       "      <td>2500</td>\n",
       "    </tr>\n",
       "    <tr>\n",
       "      <th>775078</th>\n",
       "      <td>19</td>\n",
       "      <td>16.0</td>\n",
       "      <td>3</td>\n",
       "      <td>10693</td>\n",
       "    </tr>\n",
       "  </tbody>\n",
       "</table>\n",
       "<p>751617 rows × 4 columns</p>\n",
       "</div>"
      ]
     },
     "execution_count": 12,
     "metadata": {},
     "output_type": "execute_result"
    }
   ],
   "execution_count": 12
  },
  {
   "metadata": {
    "ExecuteTime": {
     "end_time": "2025-01-31T20:34:54.943881Z",
     "start_time": "2025-01-31T20:34:12.090960Z"
    }
   },
   "cell_type": "code",
   "source": [
    "# =============== 6. Обучение CatBoost ===============\n",
    "model = CatBoostRegressor(\n",
    "    iterations=1000,\n",
    "    learning_rate=0.03,\n",
    "    depth=6,\n",
    "    random_seed=42,\n",
    "    cat_features=cat_features_indices,\n",
    "    eval_metric='MAE',\n",
    "    verbose=100\n",
    ")\n",
    "\n",
    "model.fit(\n",
    "    X_train,\n",
    "    y_train,\n",
    "    eval_set=(X_valid, y_valid),\n",
    "    early_stopping_rounds=100\n",
    ")\n"
   ],
   "id": "5317a30b84ed9c44",
   "outputs": [
    {
     "name": "stdout",
     "output_type": "stream",
     "text": [
      "0:\tlearn: 67.6988700\ttest: 76.8085787\tbest: 76.8085787 (0)\ttotal: 132ms\tremaining: 2m 11s\n",
      "100:\tlearn: 27.0560873\ttest: 33.9956120\tbest: 33.9956120 (100)\ttotal: 4.99s\tremaining: 44.4s\n",
      "200:\tlearn: 24.4441151\ttest: 31.4419742\tbest: 31.4419742 (200)\ttotal: 8.9s\tremaining: 35.4s\n",
      "300:\tlearn: 23.9749610\ttest: 31.0231205\tbest: 31.0230528 (298)\ttotal: 12.7s\tremaining: 29.6s\n",
      "400:\tlearn: 23.6379484\ttest: 30.7340051\tbest: 30.7340051 (400)\ttotal: 17.2s\tremaining: 25.6s\n",
      "500:\tlearn: 23.3911203\ttest: 30.5464982\tbest: 30.5464982 (500)\ttotal: 21.3s\tremaining: 21.2s\n",
      "600:\tlearn: 23.0963548\ttest: 30.3300862\tbest: 30.3300862 (600)\ttotal: 25.6s\tremaining: 17s\n",
      "700:\tlearn: 22.8902439\ttest: 30.1623270\tbest: 30.1623270 (700)\ttotal: 29.8s\tremaining: 12.7s\n",
      "800:\tlearn: 22.7491334\ttest: 30.0992794\tbest: 30.0967622 (796)\ttotal: 34.1s\tremaining: 8.47s\n",
      "900:\tlearn: 22.6052125\ttest: 30.0299962\tbest: 30.0271117 (895)\ttotal: 38.3s\tremaining: 4.21s\n",
      "999:\tlearn: 22.4916813\ttest: 29.9305512\tbest: 29.9284484 (997)\ttotal: 42.1s\tremaining: 0us\n",
      "\n",
      "bestTest = 29.92844843\n",
      "bestIteration = 997\n",
      "\n",
      "Shrink model to first 998 iterations.\n"
     ]
    },
    {
     "data": {
      "text/plain": [
       "<catboost.core.CatBoostRegressor at 0x38b8cebd0>"
      ]
     },
     "execution_count": 13,
     "metadata": {},
     "output_type": "execute_result"
    }
   ],
   "execution_count": 13
  },
  {
   "metadata": {
    "ExecuteTime": {
     "end_time": "2025-01-31T20:34:59.694607Z",
     "start_time": "2025-01-31T20:34:59.634537Z"
    }
   },
   "cell_type": "code",
   "source": [
    "# Оценим качество:\n",
    "from sklearn.metrics import mean_absolute_error\n",
    "y_pred_valid = model.predict(X_valid)\n",
    "mae_valid = mean_absolute_error(y_valid, y_pred_valid)\n",
    "print(\"MAE на валидации:\", mae_valid)"
   ],
   "id": "53a09a47e8637a0f",
   "outputs": [
    {
     "name": "stdout",
     "output_type": "stream",
     "text": [
      "MAE на валидации: 29.928449430464543\n"
     ]
    }
   ],
   "execution_count": 14
  },
  {
   "metadata": {
    "ExecuteTime": {
     "end_time": "2025-01-31T19:30:43.842537Z",
     "start_time": "2025-01-31T19:30:05.525759Z"
    }
   },
   "cell_type": "code",
   "source": [
    "\n",
    "# =============== 7. Финальное обучение на всём train (при желании) и прогноз ===============\n",
    "\n",
    "# (а) Можно переобучить модель на всём датасете без разделения или оставить так,\n",
    "#     если хотим финально предсказывать.\n",
    "# Тут пример как «добрать» valid в train, если хотим максимизировать данные.\n",
    "full_train = monthly_agg.dropna(subset=feature_cols + ['target'])\n",
    "X_full = full_train[feature_cols + cat_cols]\n",
    "y_full = full_train['target']\n",
    "\n",
    "final_model = CatBoostRegressor(\n",
    "    iterations=1000,\n",
    "    learning_rate=0.03,\n",
    "    depth=6,\n",
    "    random_seed=42,\n",
    "    cat_features=cat_features_indices,\n",
    "    eval_metric='MAE',\n",
    "    verbose=100\n",
    ")\n",
    "\n",
    "final_model.fit(\n",
    "    X_full,\n",
    "    y_full\n",
    ")"
   ],
   "id": "fda8a99252752b88",
   "outputs": [
    {
     "name": "stdout",
     "output_type": "stream",
     "text": [
      "0:\tlearn: 68.4827483\ttotal: 55ms\tremaining: 54.9s\n",
      "100:\tlearn: 29.6775287\ttotal: 4.82s\tremaining: 42.9s\n",
      "200:\tlearn: 27.1074566\ttotal: 8.4s\tremaining: 33.4s\n",
      "300:\tlearn: 26.1120510\ttotal: 12.2s\tremaining: 28.4s\n",
      "400:\tlearn: 25.0063799\ttotal: 16.2s\tremaining: 24.2s\n",
      "500:\tlearn: 24.2986328\ttotal: 20s\tremaining: 19.9s\n",
      "600:\tlearn: 23.9180223\ttotal: 23.6s\tremaining: 15.7s\n",
      "700:\tlearn: 23.7056397\ttotal: 27s\tremaining: 11.5s\n",
      "800:\tlearn: 23.5560506\ttotal: 30.5s\tremaining: 7.58s\n",
      "900:\tlearn: 23.4592937\ttotal: 34.1s\tremaining: 3.75s\n",
      "999:\tlearn: 23.3876396\ttotal: 37.6s\tremaining: 0us\n"
     ]
    },
    {
     "data": {
      "text/plain": [
       "<catboost.core.CatBoostRegressor at 0x34c568b60>"
      ]
     },
     "execution_count": 13,
     "metadata": {},
     "output_type": "execute_result"
    }
   ],
   "execution_count": 13
  },
  {
   "metadata": {
    "ExecuteTime": {
     "end_time": "2025-01-31T19:30:57.518445Z",
     "start_time": "2025-01-31T19:30:56.914225Z"
    }
   },
   "cell_type": "code",
   "source": [
    "\n",
    "\n",
    "\n",
    "\n",
    "\n",
    "\n",
    "\n",
    "# =============== 8. Предикт на нужные 3 месяца вперёд ===============\n",
    "\n",
    "# Предположим, мы хотим предсказать продажи на 2023-12, 2024-01, 2024-02 (пример).\n",
    "# Но у нас в sample_submission.csv уже есть (Id, Target), где Id = Company_Product_Month.\n",
    "\n",
    "# Разберём sample_submission:\n",
    "sample_submission['Company_ID'] = sample_submission['Id'].apply(lambda x: x.split('_')[0]).astype(int)\n",
    "sample_submission['Product_ID'] = sample_submission['Id'].apply(lambda x: x.split('_')[1]).astype(int)\n",
    "sample_submission['Month_str'] = sample_submission['Id'].apply(lambda x: x.split('_')[2])\n",
    "\n",
    "# Подразумевается, что Month_str – это месяц, например, '2023-12', '2024-01', '2024-02'\n",
    "# (как именно в данных – нужно уточнить формат).\n",
    "# Для прогноза нам нужно сформировать фичи (prev_sum_sales_1, prev_sum_sales_2, ...)\n",
    "# на предшествующие месяцы.\n",
    "\n",
    "# В простейшем случае: prev_sum_sales_1 = sum_sales за (Month-1).\n",
    "# Поэтому нам надо соединить sample_submission с monthly_agg, подтянув к каждому\n",
    "# (Company_ID, Product_ID, месяц) знание о сумме покупок в прошлом месяце.\n",
    "\n",
    "# Сначала убедимся, что у monthly_agg есть строки за нужные месяцы (Month_date) = (Month-1)\n",
    "# Допустим, в sample_submission для месяца '2023-12' нужно взять '2023-11' из monthly_agg.\n",
    "\n",
    "# Сконвертируем Month_str в datetime, чтобы вычесть 1 месяц\n",
    "sample_submission['Month_date'] = pd.to_datetime(sample_submission['Month_str'])\n",
    "sample_submission['Month_date_lag1'] = sample_submission['Month_date'] - pd.offsets.MonthBegin(1)\n",
    "\n",
    "# Преобразуем их обратно в формат 'YYYY-MM'\n",
    "sample_submission['Month_str_lag1'] = sample_submission['Month_date_lag1'].dt.to_period('M').astype(str)\n",
    "\n",
    "# Теперь джойним (Company_ID, Product_ID, Month_str_lag1) с monthly_agg,\n",
    "# чтобы найти sum_sales за предыдущий месяц (назовём её prev_sum_sales_1).\n",
    "tmp_agg = monthly_agg[['Company_ID','Product_ID','Month','sum_sales']].copy()\n",
    "tmp_agg.rename(columns={'Month':'Month_str', 'sum_sales':'prev_sum_sales_1'}, inplace=True)\n",
    "\n",
    "prediction_df = pd.merge(\n",
    "    sample_submission,\n",
    "    tmp_agg,\n",
    "    left_on=['Company_ID','Product_ID','Month_str_lag1'],\n",
    "    right_on=['Company_ID','Product_ID','Month_str'],\n",
    "    how='left',\n",
    "    suffixes=('', '_agg')\n",
    ")\n",
    "\n",
    "# Заполним пропуски нулями, если нет данных:\n",
    "prediction_df['prev_sum_sales_1'] = prediction_df['prev_sum_sales_1'].fillna(0)\n",
    "\n",
    "# Формируем нужные признаки для финальной модели:\n",
    "X_pred = prediction_df[['prev_sum_sales_1', 'Company_ID', 'Product_ID']]\n",
    "# учтём порядок столбцов:\n",
    "X_pred = X_pred[feature_cols + cat_cols]\n",
    "\n",
    "# Предсказание:\n",
    "prediction_df['Target'] = final_model.predict(X_pred).clip(0, None)  # clip на всякий случай\n",
    "\n",
    "# Если модель даёт отрицательные прогнозы, их можно обрезать до 0\n",
    "# Но лучше разбираться, почему негативный прогноз появился.\n",
    "\n",
    "# Формируем выход\n",
    "submission = prediction_df[['Id', 'Target']].copy()\n",
    "submission.to_csv('data/submissions/my_catboost_solution.csv', index=False)\n",
    "\n",
    "print(\"Готово! Файл my_catboost_solution.csv сформирован.\")"
   ],
   "id": "ba57b515928822f",
   "outputs": [
    {
     "name": "stdout",
     "output_type": "stream",
     "text": [
      "Готово! Файл my_catboost_solution.csv сформирован.\n"
     ]
    }
   ],
   "execution_count": 14
  },
  {
   "metadata": {},
   "cell_type": "code",
   "outputs": [],
   "execution_count": null,
   "source": "",
   "id": "16b0ab3c40ea3081"
  }
 ],
 "metadata": {
  "kernelspec": {
   "display_name": "Python 3",
   "language": "python",
   "name": "python3"
  },
  "language_info": {
   "codemirror_mode": {
    "name": "ipython",
    "version": 2
   },
   "file_extension": ".py",
   "mimetype": "text/x-python",
   "name": "python",
   "nbconvert_exporter": "python",
   "pygments_lexer": "ipython2",
   "version": "2.7.6"
  }
 },
 "nbformat": 4,
 "nbformat_minor": 5
}
