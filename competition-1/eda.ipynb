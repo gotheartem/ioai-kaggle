{
 "cells": [
  {
   "cell_type": "code",
   "execution_count": 53,
   "metadata": {},
   "outputs": [],
   "source": [
    "import tqdm\n",
    "import pandas as pd\n",
    "import seaborn as sns\n",
    "import matplotlib.pyplot as plt"
   ]
  },
  {
   "cell_type": "code",
   "execution_count": 54,
   "metadata": {},
   "outputs": [
    {
     "data": {
      "text/html": [
       "<div>\n",
       "<style scoped>\n",
       "    .dataframe tbody tr th:only-of-type {\n",
       "        vertical-align: middle;\n",
       "    }\n",
       "\n",
       "    .dataframe tbody tr th {\n",
       "        vertical-align: top;\n",
       "    }\n",
       "\n",
       "    .dataframe thead th {\n",
       "        text-align: right;\n",
       "    }\n",
       "</style>\n",
       "<table border=\"1\" class=\"dataframe\">\n",
       "  <thead>\n",
       "    <tr style=\"text-align: right;\">\n",
       "      <th></th>\n",
       "      <th>Company_ID</th>\n",
       "      <th>Product_ID</th>\n",
       "      <th>Target</th>\n",
       "      <th>Date</th>\n",
       "      <th>cat_0</th>\n",
       "      <th>cat_1</th>\n",
       "      <th>cat_2</th>\n",
       "      <th>cat_3</th>\n",
       "      <th>cat_4</th>\n",
       "      <th>cat_5</th>\n",
       "      <th>...</th>\n",
       "      <th>num_9</th>\n",
       "      <th>num_10</th>\n",
       "      <th>num_11</th>\n",
       "      <th>num_12</th>\n",
       "      <th>num_13</th>\n",
       "      <th>num_14</th>\n",
       "      <th>num_15</th>\n",
       "      <th>num_16</th>\n",
       "      <th>num_17</th>\n",
       "      <th>num_18</th>\n",
       "    </tr>\n",
       "  </thead>\n",
       "  <tbody>\n",
       "    <tr>\n",
       "      <th>0</th>\n",
       "      <td>3</td>\n",
       "      <td>10395</td>\n",
       "      <td>1</td>\n",
       "      <td>2021-09-12</td>\n",
       "      <td>1</td>\n",
       "      <td>3689</td>\n",
       "      <td>2</td>\n",
       "      <td>2</td>\n",
       "      <td>0.0</td>\n",
       "      <td>1</td>\n",
       "      <td>...</td>\n",
       "      <td>NaN</td>\n",
       "      <td>NaN</td>\n",
       "      <td>1.0</td>\n",
       "      <td>1.0</td>\n",
       "      <td>136.800</td>\n",
       "      <td>136.800000</td>\n",
       "      <td>136.80</td>\n",
       "      <td>152.95</td>\n",
       "      <td>136.80</td>\n",
       "      <td>136.80</td>\n",
       "    </tr>\n",
       "    <tr>\n",
       "      <th>1</th>\n",
       "      <td>3</td>\n",
       "      <td>11303</td>\n",
       "      <td>10</td>\n",
       "      <td>2023-02-12</td>\n",
       "      <td>3</td>\n",
       "      <td>1736</td>\n",
       "      <td>2</td>\n",
       "      <td>2</td>\n",
       "      <td>2.0</td>\n",
       "      <td>3</td>\n",
       "      <td>...</td>\n",
       "      <td>0.0</td>\n",
       "      <td>NaN</td>\n",
       "      <td>0.0</td>\n",
       "      <td>0.0</td>\n",
       "      <td>NaN</td>\n",
       "      <td>NaN</td>\n",
       "      <td>NaN</td>\n",
       "      <td>NaN</td>\n",
       "      <td>NaN</td>\n",
       "      <td>NaN</td>\n",
       "    </tr>\n",
       "    <tr>\n",
       "      <th>2</th>\n",
       "      <td>2</td>\n",
       "      <td>2499</td>\n",
       "      <td>2</td>\n",
       "      <td>2020-05-24</td>\n",
       "      <td>1</td>\n",
       "      <td>3572</td>\n",
       "      <td>1</td>\n",
       "      <td>2</td>\n",
       "      <td>0.0</td>\n",
       "      <td>4</td>\n",
       "      <td>...</td>\n",
       "      <td>NaN</td>\n",
       "      <td>2.493151</td>\n",
       "      <td>3.0</td>\n",
       "      <td>2.0</td>\n",
       "      <td>411.939</td>\n",
       "      <td>677.394667</td>\n",
       "      <td>830.28</td>\n",
       "      <td>908.60</td>\n",
       "      <td>830.28</td>\n",
       "      <td>830.28</td>\n",
       "    </tr>\n",
       "    <tr>\n",
       "      <th>3</th>\n",
       "      <td>3</td>\n",
       "      <td>3118</td>\n",
       "      <td>10</td>\n",
       "      <td>2019-07-12</td>\n",
       "      <td>3</td>\n",
       "      <td>1435</td>\n",
       "      <td>2</td>\n",
       "      <td>2</td>\n",
       "      <td>0.0</td>\n",
       "      <td>3</td>\n",
       "      <td>...</td>\n",
       "      <td>NaN</td>\n",
       "      <td>NaN</td>\n",
       "      <td>NaN</td>\n",
       "      <td>NaN</td>\n",
       "      <td>NaN</td>\n",
       "      <td>NaN</td>\n",
       "      <td>NaN</td>\n",
       "      <td>NaN</td>\n",
       "      <td>NaN</td>\n",
       "      <td>NaN</td>\n",
       "    </tr>\n",
       "    <tr>\n",
       "      <th>4</th>\n",
       "      <td>1</td>\n",
       "      <td>13044</td>\n",
       "      <td>6</td>\n",
       "      <td>2019-02-29</td>\n",
       "      <td>1</td>\n",
       "      <td>1263</td>\n",
       "      <td>0</td>\n",
       "      <td>2</td>\n",
       "      <td>0.0</td>\n",
       "      <td>3</td>\n",
       "      <td>...</td>\n",
       "      <td>NaN</td>\n",
       "      <td>NaN</td>\n",
       "      <td>0.0</td>\n",
       "      <td>0.0</td>\n",
       "      <td>NaN</td>\n",
       "      <td>NaN</td>\n",
       "      <td>NaN</td>\n",
       "      <td>NaN</td>\n",
       "      <td>NaN</td>\n",
       "      <td>NaN</td>\n",
       "    </tr>\n",
       "    <tr>\n",
       "      <th>...</th>\n",
       "      <td>...</td>\n",
       "      <td>...</td>\n",
       "      <td>...</td>\n",
       "      <td>...</td>\n",
       "      <td>...</td>\n",
       "      <td>...</td>\n",
       "      <td>...</td>\n",
       "      <td>...</td>\n",
       "      <td>...</td>\n",
       "      <td>...</td>\n",
       "      <td>...</td>\n",
       "      <td>...</td>\n",
       "      <td>...</td>\n",
       "      <td>...</td>\n",
       "      <td>...</td>\n",
       "      <td>...</td>\n",
       "      <td>...</td>\n",
       "      <td>...</td>\n",
       "      <td>...</td>\n",
       "      <td>...</td>\n",
       "      <td>...</td>\n",
       "    </tr>\n",
       "    <tr>\n",
       "      <th>5310945</th>\n",
       "      <td>2</td>\n",
       "      <td>13577</td>\n",
       "      <td>4</td>\n",
       "      <td>2020-03-13</td>\n",
       "      <td>1</td>\n",
       "      <td>7875</td>\n",
       "      <td>1</td>\n",
       "      <td>2</td>\n",
       "      <td>0.0</td>\n",
       "      <td>2</td>\n",
       "      <td>...</td>\n",
       "      <td>NaN</td>\n",
       "      <td>NaN</td>\n",
       "      <td>0.0</td>\n",
       "      <td>0.0</td>\n",
       "      <td>NaN</td>\n",
       "      <td>NaN</td>\n",
       "      <td>NaN</td>\n",
       "      <td>NaN</td>\n",
       "      <td>NaN</td>\n",
       "      <td>NaN</td>\n",
       "    </tr>\n",
       "    <tr>\n",
       "      <th>5310946</th>\n",
       "      <td>2</td>\n",
       "      <td>1105</td>\n",
       "      <td>1</td>\n",
       "      <td>2022-01-05</td>\n",
       "      <td>1</td>\n",
       "      <td>6299</td>\n",
       "      <td>1</td>\n",
       "      <td>2</td>\n",
       "      <td>0.0</td>\n",
       "      <td>2</td>\n",
       "      <td>...</td>\n",
       "      <td>0.0</td>\n",
       "      <td>NaN</td>\n",
       "      <td>3.0</td>\n",
       "      <td>2.0</td>\n",
       "      <td>77.148</td>\n",
       "      <td>111.096000</td>\n",
       "      <td>151.74</td>\n",
       "      <td>104.28</td>\n",
       "      <td>104.40</td>\n",
       "      <td>104.40</td>\n",
       "    </tr>\n",
       "    <tr>\n",
       "      <th>5310947</th>\n",
       "      <td>3</td>\n",
       "      <td>3896</td>\n",
       "      <td>1</td>\n",
       "      <td>2020-09-17</td>\n",
       "      <td>1</td>\n",
       "      <td>3817</td>\n",
       "      <td>2</td>\n",
       "      <td>2</td>\n",
       "      <td>2.0</td>\n",
       "      <td>2</td>\n",
       "      <td>...</td>\n",
       "      <td>NaN</td>\n",
       "      <td>NaN</td>\n",
       "      <td>0.0</td>\n",
       "      <td>0.0</td>\n",
       "      <td>NaN</td>\n",
       "      <td>NaN</td>\n",
       "      <td>NaN</td>\n",
       "      <td>NaN</td>\n",
       "      <td>NaN</td>\n",
       "      <td>NaN</td>\n",
       "    </tr>\n",
       "    <tr>\n",
       "      <th>5310948</th>\n",
       "      <td>1</td>\n",
       "      <td>3097</td>\n",
       "      <td>1</td>\n",
       "      <td>2023-11-01</td>\n",
       "      <td>1</td>\n",
       "      <td>7873</td>\n",
       "      <td>0</td>\n",
       "      <td>2</td>\n",
       "      <td>2.0</td>\n",
       "      <td>3</td>\n",
       "      <td>...</td>\n",
       "      <td>0.0</td>\n",
       "      <td>NaN</td>\n",
       "      <td>0.0</td>\n",
       "      <td>0.0</td>\n",
       "      <td>NaN</td>\n",
       "      <td>NaN</td>\n",
       "      <td>NaN</td>\n",
       "      <td>NaN</td>\n",
       "      <td>NaN</td>\n",
       "      <td>NaN</td>\n",
       "    </tr>\n",
       "    <tr>\n",
       "      <th>5310949</th>\n",
       "      <td>2</td>\n",
       "      <td>5545</td>\n",
       "      <td>4</td>\n",
       "      <td>2022-07-28</td>\n",
       "      <td>1</td>\n",
       "      <td>6014</td>\n",
       "      <td>1</td>\n",
       "      <td>2</td>\n",
       "      <td>0.0</td>\n",
       "      <td>2</td>\n",
       "      <td>...</td>\n",
       "      <td>0.0</td>\n",
       "      <td>NaN</td>\n",
       "      <td>0.0</td>\n",
       "      <td>0.0</td>\n",
       "      <td>NaN</td>\n",
       "      <td>NaN</td>\n",
       "      <td>NaN</td>\n",
       "      <td>NaN</td>\n",
       "      <td>NaN</td>\n",
       "      <td>NaN</td>\n",
       "    </tr>\n",
       "  </tbody>\n",
       "</table>\n",
       "<p>5310950 rows × 38 columns</p>\n",
       "</div>"
      ],
      "text/plain": [
       "         Company_ID  Product_ID  Target        Date  cat_0  cat_1  cat_2  \\\n",
       "0                 3       10395       1  2021-09-12      1   3689      2   \n",
       "1                 3       11303      10  2023-02-12      3   1736      2   \n",
       "2                 2        2499       2  2020-05-24      1   3572      1   \n",
       "3                 3        3118      10  2019-07-12      3   1435      2   \n",
       "4                 1       13044       6  2019-02-29      1   1263      0   \n",
       "...             ...         ...     ...         ...    ...    ...    ...   \n",
       "5310945           2       13577       4  2020-03-13      1   7875      1   \n",
       "5310946           2        1105       1  2022-01-05      1   6299      1   \n",
       "5310947           3        3896       1  2020-09-17      1   3817      2   \n",
       "5310948           1        3097       1  2023-11-01      1   7873      0   \n",
       "5310949           2        5545       4  2022-07-28      1   6014      1   \n",
       "\n",
       "         cat_3  cat_4  cat_5  ...  num_9    num_10  num_11  num_12   num_13  \\\n",
       "0            2    0.0      1  ...    NaN       NaN     1.0     1.0  136.800   \n",
       "1            2    2.0      3  ...    0.0       NaN     0.0     0.0      NaN   \n",
       "2            2    0.0      4  ...    NaN  2.493151     3.0     2.0  411.939   \n",
       "3            2    0.0      3  ...    NaN       NaN     NaN     NaN      NaN   \n",
       "4            2    0.0      3  ...    NaN       NaN     0.0     0.0      NaN   \n",
       "...        ...    ...    ...  ...    ...       ...     ...     ...      ...   \n",
       "5310945      2    0.0      2  ...    NaN       NaN     0.0     0.0      NaN   \n",
       "5310946      2    0.0      2  ...    0.0       NaN     3.0     2.0   77.148   \n",
       "5310947      2    2.0      2  ...    NaN       NaN     0.0     0.0      NaN   \n",
       "5310948      2    2.0      3  ...    0.0       NaN     0.0     0.0      NaN   \n",
       "5310949      2    0.0      2  ...    0.0       NaN     0.0     0.0      NaN   \n",
       "\n",
       "             num_14  num_15  num_16  num_17  num_18  \n",
       "0        136.800000  136.80  152.95  136.80  136.80  \n",
       "1               NaN     NaN     NaN     NaN     NaN  \n",
       "2        677.394667  830.28  908.60  830.28  830.28  \n",
       "3               NaN     NaN     NaN     NaN     NaN  \n",
       "4               NaN     NaN     NaN     NaN     NaN  \n",
       "...             ...     ...     ...     ...     ...  \n",
       "5310945         NaN     NaN     NaN     NaN     NaN  \n",
       "5310946  111.096000  151.74  104.28  104.40  104.40  \n",
       "5310947         NaN     NaN     NaN     NaN     NaN  \n",
       "5310948         NaN     NaN     NaN     NaN     NaN  \n",
       "5310949         NaN     NaN     NaN     NaN     NaN  \n",
       "\n",
       "[5310950 rows x 38 columns]"
      ]
     },
     "execution_count": 54,
     "metadata": {},
     "output_type": "execute_result"
    }
   ],
   "source": [
    "df = pd.read_csv('data/raw/train.csv')\n",
    "df"
   ]
  },
  {
   "cell_type": "code",
   "execution_count": 55,
   "metadata": {},
   "outputs": [
    {
     "data": {
      "text/plain": [
       "Index(['Company_ID', 'Product_ID', 'Target', 'Date', 'cat_0', 'cat_1', 'cat_2',\n",
       "       'cat_3', 'cat_4', 'cat_5', 'cat_6', 'cat_7', 'cat_8', 'cat_9', 'cat_10',\n",
       "       'cat_11', 'cat_12', 'cat_13', 'cat_14', 'num_0', 'num_1', 'num_2',\n",
       "       'num_3', 'num_4', 'num_5', 'num_6', 'num_7', 'num_8', 'num_9', 'num_10',\n",
       "       'num_11', 'num_12', 'num_13', 'num_14', 'num_15', 'num_16', 'num_17',\n",
       "       'num_18'],\n",
       "      dtype='object')"
      ]
     },
     "execution_count": 55,
     "metadata": {},
     "output_type": "execute_result"
    }
   ],
   "source": [
    "df.columns"
   ]
  },
  {
   "cell_type": "code",
   "execution_count": 56,
   "metadata": {},
   "outputs": [
    {
     "data": {
      "text/plain": [
       "array([ True,  True,  True,  True,  True,  True,  True,  True,  True,\n",
       "        True,  True,  True,  True,  True,  True,  True,  True,  True,\n",
       "        True,  True,  True,  True,  True,  True,  True,  True,  True,\n",
       "        True,  True,  True,  True,  True,  True,  True,  True,  True,\n",
       "        True,  True,  True,  True,  True,  True,  True,  True,  True,\n",
       "        True,  True,  True,  True,  True,  True,  True,  True,  True,\n",
       "        True,  True,  True,  True,  True,  True,  True,  True,  True,\n",
       "        True,  True,  True,  True,  True,  True,  True,  True,  True,\n",
       "        True,  True,  True,  True,  True,  True,  True,  True,  True,\n",
       "        True,  True,  True,  True,  True,  True,  True,  True,  True,\n",
       "        True,  True,  True,  True,  True,  True,  True,  True,  True,\n",
       "        True,  True,  True,  True,  True,  True,  True,  True,  True,\n",
       "        True,  True])"
      ]
     },
     "execution_count": 56,
     "metadata": {},
     "output_type": "execute_result"
    }
   ],
   "source": [
    "df[(df['Company_ID'] == 1) & (df['Product_ID'] == 1)].groupby('Date')['Date'].first().index == \\\n",
    "    df[(df['Company_ID'] == 1) & (df['Product_ID'] == 1)].groupby('Date')['Date'].first().index.sort_values()"
   ]
  },
  {
   "cell_type": "markdown",
   "metadata": {},
   "source": [
    "Data is shuffled, but objects with one 'Company_ID' and 'Product_ID' are sorted by date"
   ]
  },
  {
   "cell_type": "code",
   "execution_count": 57,
   "metadata": {},
   "outputs": [
    {
     "data": {
      "text/plain": [
       "0.030131144145586042"
      ]
     },
     "execution_count": 57,
     "metadata": {},
     "output_type": "execute_result"
    }
   ],
   "source": [
    "tmp = df.drop_duplicates()\n",
    "1 - len(tmp) / len(df)"
   ]
  },
  {
   "cell_type": "markdown",
   "metadata": {},
   "source": [
    "We have ~3% duplicates in our data"
   ]
  },
  {
   "cell_type": "code",
   "execution_count": 58,
   "metadata": {},
   "outputs": [
    {
     "data": {
      "text/plain": [
       "Target\n",
       "1.0     74\n",
       "2.0      2\n",
       "3.0      4\n",
       "4.0      2\n",
       "5.0      2\n",
       "6.0      3\n",
       "8.0      5\n",
       "9.0      2\n",
       "10.0    10\n",
       "10.5     1\n",
       "12.0     2\n",
       "15.0     2\n",
       "16.0     1\n",
       "Name: count, dtype: int64"
      ]
     },
     "execution_count": 58,
     "metadata": {},
     "output_type": "execute_result"
    }
   ],
   "source": [
    "df[(df['Company_ID'] == 1) & (df['Product_ID'] == 1)].sort_values(by='Date').groupby('Date')['Target'].median().value_counts().sort_index()"
   ]
  },
  {
   "cell_type": "code",
   "execution_count": 59,
   "metadata": {},
   "outputs": [
    {
     "data": {
      "text/plain": [
       "<Axes: xlabel='Date', ylabel='Target'>"
      ]
     },
     "execution_count": 59,
     "metadata": {},
     "output_type": "execute_result"
    },
    {
     "data": {
      "image/png": "[encoded data removed]",
      "text/plain": [
       "<Figure size 640x480 with 1 Axes>"
      ]
     },
     "metadata": {},
     "output_type": "display_data"
    }
   ],
   "source": [
    "sns.lineplot(df[(df['Company_ID'] == 1) & (df['Product_ID'] == 1)].sort_values(by='Date').groupby('Date')['Target'].mean())"
   ]
  },
  {
   "cell_type": "markdown",
   "metadata": {},
   "source": [
    "Nothing special found"
   ]
  },
  {
   "cell_type": "code",
   "execution_count": 60,
   "metadata": {},
   "outputs": [
    {
     "data": {
      "text/html": [
       "<div>\n",
       "<style scoped>\n",
       "    .dataframe tbody tr th:only-of-type {\n",
       "        vertical-align: middle;\n",
       "    }\n",
       "\n",
       "    .dataframe tbody tr th {\n",
       "        vertical-align: top;\n",
       "    }\n",
       "\n",
       "    .dataframe thead th {\n",
       "        text-align: right;\n",
       "    }\n",
       "</style>\n",
       "<table border=\"1\" class=\"dataframe\">\n",
       "  <thead>\n",
       "    <tr style=\"text-align: right;\">\n",
       "      <th></th>\n",
       "      <th>Id</th>\n",
       "      <th>Target</th>\n",
       "    </tr>\n",
       "  </thead>\n",
       "  <tbody>\n",
       "    <tr>\n",
       "      <th>0</th>\n",
       "      <td>0_1_2024-01</td>\n",
       "      <td>0</td>\n",
       "    </tr>\n",
       "    <tr>\n",
       "      <th>1</th>\n",
       "      <td>0_2_2024-01</td>\n",
       "      <td>0</td>\n",
       "    </tr>\n",
       "    <tr>\n",
       "      <th>2</th>\n",
       "      <td>0_3_2024-01</td>\n",
       "      <td>0</td>\n",
       "    </tr>\n",
       "    <tr>\n",
       "      <th>3</th>\n",
       "      <td>0_5_2024-01</td>\n",
       "      <td>0</td>\n",
       "    </tr>\n",
       "    <tr>\n",
       "      <th>4</th>\n",
       "      <td>0_6_2024-01</td>\n",
       "      <td>0</td>\n",
       "    </tr>\n",
       "    <tr>\n",
       "      <th>...</th>\n",
       "      <td>...</td>\n",
       "      <td>...</td>\n",
       "    </tr>\n",
       "    <tr>\n",
       "      <th>113851</th>\n",
       "      <td>3_14664_2024-03</td>\n",
       "      <td>0</td>\n",
       "    </tr>\n",
       "    <tr>\n",
       "      <th>113852</th>\n",
       "      <td>3_14665_2024-03</td>\n",
       "      <td>0</td>\n",
       "    </tr>\n",
       "    <tr>\n",
       "      <th>113853</th>\n",
       "      <td>3_14666_2024-03</td>\n",
       "      <td>0</td>\n",
       "    </tr>\n",
       "    <tr>\n",
       "      <th>113854</th>\n",
       "      <td>3_14667_2024-03</td>\n",
       "      <td>0</td>\n",
       "    </tr>\n",
       "    <tr>\n",
       "      <th>113855</th>\n",
       "      <td>3_14668_2024-03</td>\n",
       "      <td>0</td>\n",
       "    </tr>\n",
       "  </tbody>\n",
       "</table>\n",
       "<p>113856 rows × 2 columns</p>\n",
       "</div>"
      ],
      "text/plain": [
       "                     Id  Target\n",
       "0           0_1_2024-01       0\n",
       "1           0_2_2024-01       0\n",
       "2           0_3_2024-01       0\n",
       "3           0_5_2024-01       0\n",
       "4           0_6_2024-01       0\n",
       "...                 ...     ...\n",
       "113851  3_14664_2024-03       0\n",
       "113852  3_14665_2024-03       0\n",
       "113853  3_14666_2024-03       0\n",
       "113854  3_14667_2024-03       0\n",
       "113855  3_14668_2024-03       0\n",
       "\n",
       "[113856 rows x 2 columns]"
      ]
     },
     "execution_count": 60,
     "metadata": {},
     "output_type": "execute_result"
    }
   ],
   "source": [
    "test_df = pd.read_csv('data/raw/sample_submission.csv')\n",
    "test_df"
   ]
  },
  {
   "cell_type": "markdown",
   "metadata": {},
   "source": [
    "It seems that 'Id' in test part has the format of '{Company_ID}\\_{Product_ID}\\_{year}-{month}'"
   ]
  },
  {
   "cell_type": "code",
   "execution_count": 61,
   "metadata": {},
   "outputs": [
    {
     "data": {
      "text/html": [
       "<div>\n",
       "<style scoped>\n",
       "    .dataframe tbody tr th:only-of-type {\n",
       "        vertical-align: middle;\n",
       "    }\n",
       "\n",
       "    .dataframe tbody tr th {\n",
       "        vertical-align: top;\n",
       "    }\n",
       "\n",
       "    .dataframe thead th {\n",
       "        text-align: right;\n",
       "    }\n",
       "</style>\n",
       "<table border=\"1\" class=\"dataframe\">\n",
       "  <thead>\n",
       "    <tr style=\"text-align: right;\">\n",
       "      <th></th>\n",
       "      <th>Target</th>\n",
       "      <th>Company_ID</th>\n",
       "      <th>Product_ID</th>\n",
       "      <th>Date</th>\n",
       "    </tr>\n",
       "  </thead>\n",
       "  <tbody>\n",
       "    <tr>\n",
       "      <th>0</th>\n",
       "      <td>0</td>\n",
       "      <td>0</td>\n",
       "      <td>1</td>\n",
       "      <td>2024-01-01</td>\n",
       "    </tr>\n",
       "    <tr>\n",
       "      <th>1</th>\n",
       "      <td>0</td>\n",
       "      <td>0</td>\n",
       "      <td>2</td>\n",
       "      <td>2024-01-01</td>\n",
       "    </tr>\n",
       "    <tr>\n",
       "      <th>2</th>\n",
       "      <td>0</td>\n",
       "      <td>0</td>\n",
       "      <td>3</td>\n",
       "      <td>2024-01-01</td>\n",
       "    </tr>\n",
       "    <tr>\n",
       "      <th>3</th>\n",
       "      <td>0</td>\n",
       "      <td>0</td>\n",
       "      <td>5</td>\n",
       "      <td>2024-01-01</td>\n",
       "    </tr>\n",
       "    <tr>\n",
       "      <th>4</th>\n",
       "      <td>0</td>\n",
       "      <td>0</td>\n",
       "      <td>6</td>\n",
       "      <td>2024-01-01</td>\n",
       "    </tr>\n",
       "    <tr>\n",
       "      <th>...</th>\n",
       "      <td>...</td>\n",
       "      <td>...</td>\n",
       "      <td>...</td>\n",
       "      <td>...</td>\n",
       "    </tr>\n",
       "    <tr>\n",
       "      <th>113851</th>\n",
       "      <td>0</td>\n",
       "      <td>3</td>\n",
       "      <td>14664</td>\n",
       "      <td>2024-03-01</td>\n",
       "    </tr>\n",
       "    <tr>\n",
       "      <th>113852</th>\n",
       "      <td>0</td>\n",
       "      <td>3</td>\n",
       "      <td>14665</td>\n",
       "      <td>2024-03-01</td>\n",
       "    </tr>\n",
       "    <tr>\n",
       "      <th>113853</th>\n",
       "      <td>0</td>\n",
       "      <td>3</td>\n",
       "      <td>14666</td>\n",
       "      <td>2024-03-01</td>\n",
       "    </tr>\n",
       "    <tr>\n",
       "      <th>113854</th>\n",
       "      <td>0</td>\n",
       "      <td>3</td>\n",
       "      <td>14667</td>\n",
       "      <td>2024-03-01</td>\n",
       "    </tr>\n",
       "    <tr>\n",
       "      <th>113855</th>\n",
       "      <td>0</td>\n",
       "      <td>3</td>\n",
       "      <td>14668</td>\n",
       "      <td>2024-03-01</td>\n",
       "    </tr>\n",
       "  </tbody>\n",
       "</table>\n",
       "<p>113856 rows × 4 columns</p>\n",
       "</div>"
      ],
      "text/plain": [
       "        Target  Company_ID  Product_ID       Date\n",
       "0            0           0           1 2024-01-01\n",
       "1            0           0           2 2024-01-01\n",
       "2            0           0           3 2024-01-01\n",
       "3            0           0           5 2024-01-01\n",
       "4            0           0           6 2024-01-01\n",
       "...        ...         ...         ...        ...\n",
       "113851       0           3       14664 2024-03-01\n",
       "113852       0           3       14665 2024-03-01\n",
       "113853       0           3       14666 2024-03-01\n",
       "113854       0           3       14667 2024-03-01\n",
       "113855       0           3       14668 2024-03-01\n",
       "\n",
       "[113856 rows x 4 columns]"
      ]
     },
     "execution_count": 61,
     "metadata": {},
     "output_type": "execute_result"
    }
   ],
   "source": [
    "test_df['Company_ID'] = test_df['Id'].apply(lambda x: x[:x.find('_')]).astype(int)\n",
    "test_df['Product_ID'] = test_df['Id'].apply(lambda x: x[x.find('_') + 1:x.rfind('_')]).astype(int)\n",
    "test_df['Date'] = pd.to_datetime(test_df['Id'].apply(lambda x: x[x.rfind('_') + 1:]))\n",
    "test_df = test_df.drop(columns=['Id'], axis=1)\n",
    "test_df"
   ]
  },
  {
   "cell_type": "code",
   "execution_count": 62,
   "metadata": {},
   "outputs": [
    {
     "data": {
      "text/plain": [
       "count    5.310950e+06\n",
       "mean     7.451920e+00\n",
       "std      4.326484e+01\n",
       "min      1.000000e+00\n",
       "25%      1.000000e+00\n",
       "50%      1.000000e+00\n",
       "75%      4.000000e+00\n",
       "max      6.560000e+03\n",
       "Name: Target, dtype: float64"
      ]
     },
     "execution_count": 62,
     "metadata": {},
     "output_type": "execute_result"
    }
   ],
   "source": [
    "df['Target'].describe()"
   ]
  },
  {
   "cell_type": "code",
   "execution_count": 63,
   "metadata": {},
   "outputs": [
    {
     "data": {
      "text/plain": [
       "0"
      ]
     },
     "execution_count": 63,
     "metadata": {},
     "output_type": "execute_result"
    }
   ],
   "source": [
    "(df['Target'] % 1 != 0).sum()"
   ]
  },
  {
   "cell_type": "code",
   "execution_count": 64,
   "metadata": {},
   "outputs": [
    {
     "data": {
      "image/png": "[encoded data removed]",
      "text/plain": [
       "<Figure size 1000x400 with 2 Axes>"
      ]
     },
     "metadata": {},
     "output_type": "display_data"
    }
   ],
   "source": [
    "fig, ax = plt.subplots(1, 2, figsize=(10, 4), dpi=100)\n",
    "\n",
    "sns.histplot(df['Target'], bins=50, ax=ax[0])\n",
    "\n",
    "sns.histplot(df['Target'], bins=50, ax=ax[1])\n",
    "ax[1].set_yscale('log')"
   ]
  },
  {
   "cell_type": "markdown",
   "metadata": {},
   "source": [
    "The target is a natural number and it has an extremely uneven distribution"
   ]
  },
  {
   "cell_type": "code",
   "execution_count": 65,
   "metadata": {},
   "outputs": [
    {
     "data": {
      "text/plain": [
       "('2019-01-02', '2023-12-30')"
      ]
     },
     "execution_count": 65,
     "metadata": {},
     "output_type": "execute_result"
    }
   ],
   "source": [
    "df['Date'].min(), df['Date'].max()"
   ]
  },
  {
   "cell_type": "markdown",
   "metadata": {},
   "source": [
    "### 'Company_ID'"
   ]
  },
  {
   "cell_type": "code",
   "execution_count": 66,
   "metadata": {},
   "outputs": [
    {
     "data": {
      "text/plain": [
       "<Axes: xlabel='Company_ID', ylabel='Count'>"
      ]
     },
     "execution_count": 66,
     "metadata": {},
     "output_type": "execute_result"
    },
    {
     "data": {
      "image/png": "[encoded data removed]",
      "text/plain": [
       "<Figure size 600x400 with 1 Axes>"
      ]
     },
     "metadata": {},
     "output_type": "display_data"
    }
   ],
   "source": [
    "fig = plt.figure(figsize=(6, 4), dpi=100)\n",
    "sns.histplot(df['Company_ID'])"
   ]
  },
  {
   "cell_type": "markdown",
   "metadata": {},
   "source": [
    "### 'Product_ID'"
   ]
  },
  {
   "cell_type": "code",
   "execution_count": 67,
   "metadata": {},
   "outputs": [
    {
     "data": {
      "image/png": "[encoded data removed]",
      "text/plain": [
       "<Figure size 1000x400 with 2 Axes>"
      ]
     },
     "metadata": {},
     "output_type": "display_data"
    }
   ],
   "source": [
    "fig, ax = plt.subplots(1, 2, figsize=(10, 4), dpi=100)\n",
    "\n",
    "sns.barplot(df['Product_ID'].value_counts().rolling(400, step=400).mean().to_numpy(), ax=ax[0])\n",
    "\n",
    "sns.barplot(df['Product_ID'].value_counts().rolling(400, step=400).mean().to_numpy(), ax=ax[1])\n",
    "ax[1].set_yscale('log')"
   ]
  },
  {
   "cell_type": "markdown",
   "metadata": {},
   "source": [
    "If we sort 'Product_ID' by value counts, its distribution is very similar to exponential"
   ]
  },
  {
   "cell_type": "markdown",
   "metadata": {},
   "source": [
    "## Categorical features 'cat_0', 'cat_1', ..., 'cat_14'"
   ]
  },
  {
   "cell_type": "markdown",
   "metadata": {},
   "source": [
    "### 'cat_0'"
   ]
  },
  {
   "cell_type": "code",
   "execution_count": 68,
   "metadata": {},
   "outputs": [
    {
     "data": {
      "image/png": "[encoded data removed]",
      "text/plain": [
       "<Figure size 1000x400 with 2 Axes>"
      ]
     },
     "metadata": {},
     "output_type": "display_data"
    }
   ],
   "source": [
    "fig, ax = plt.subplots(1, 2, figsize=(10, 4), dpi=100)\n",
    "\n",
    "sns.histplot(df['cat_0'], ax=ax[0])\n",
    "\n",
    "sns.histplot(df['cat_0'], ax=ax[1])\n",
    "ax[1].set_yscale('log')"
   ]
  },
  {
   "cell_type": "code",
   "execution_count": 69,
   "metadata": {},
   "outputs": [
    {
     "name": "stdout",
     "output_type": "stream",
     "text": [
      "8.160676896082341 7.387538881047409\n",
      "6.257532661061561 15.930354123048724\n",
      "11.188626168934844 7.442642479506104\n",
      "33.38970067171702 6.4349164319895555\n"
     ]
    }
   ],
   "source": [
    "print(df[df['cat_0'] == 0]['Target'].mean(), df[df['cat_0'] != 0]['Target'].mean())\n",
    "print(df[df['cat_0'] == 1]['Target'].mean(), df[df['cat_0'] != 1]['Target'].mean())\n",
    "print(df[df['cat_0'] == 2]['Target'].mean(), df[df['cat_0'] != 2]['Target'].mean())\n",
    "print(df[df['cat_0'] == 3]['Target'].mean(), df[df['cat_0'] != 3]['Target'].mean())"
   ]
  },
  {
   "cell_type": "markdown",
   "metadata": {},
   "source": [
    "Seems that 'cat_0' is great categorical feature\n",
    "\n",
    "**TODO: explore 'cat_0' in more detail**"
   ]
  },
  {
   "cell_type": "markdown",
   "metadata": {},
   "source": [
    "### 'cat_1'"
   ]
  },
  {
   "cell_type": "code",
   "execution_count": 70,
   "metadata": {},
   "outputs": [
    {
     "data": {
      "image/png": "[encoded data removed]",
      "text/plain": [
       "<Figure size 1000x400 with 2 Axes>"
      ]
     },
     "metadata": {},
     "output_type": "display_data"
    }
   ],
   "source": [
    "fig, ax = plt.subplots(1, 2, figsize=(10, 4), dpi=100)\n",
    "\n",
    "sns.barplot(df['cat_1'].value_counts().rolling(300, step=300).mean().to_numpy(), ax=ax[0])\n",
    "\n",
    "sns.barplot(df['cat_1'].value_counts().rolling(300, step=300).mean().to_numpy(), ax=ax[1])\n",
    "ax[1].set_yscale('log')"
   ]
  },
  {
   "cell_type": "markdown",
   "metadata": {},
   "source": [
    "If we sort 'cat_1' by value counts, its distribution is very similar to exponential"
   ]
  },
  {
   "cell_type": "code",
   "execution_count": 71,
   "metadata": {},
   "outputs": [
    {
     "data": {
      "text/html": [
       "<div>\n",
       "<style scoped>\n",
       "    .dataframe tbody tr th:only-of-type {\n",
       "        vertical-align: middle;\n",
       "    }\n",
       "\n",
       "    .dataframe tbody tr th {\n",
       "        vertical-align: top;\n",
       "    }\n",
       "\n",
       "    .dataframe thead th {\n",
       "        text-align: right;\n",
       "    }\n",
       "</style>\n",
       "<table border=\"1\" class=\"dataframe\">\n",
       "  <thead>\n",
       "    <tr style=\"text-align: right;\">\n",
       "      <th></th>\n",
       "      <th>mean</th>\n",
       "      <th>count</th>\n",
       "    </tr>\n",
       "    <tr>\n",
       "      <th>cat_1</th>\n",
       "      <th></th>\n",
       "      <th></th>\n",
       "    </tr>\n",
       "  </thead>\n",
       "  <tbody>\n",
       "    <tr>\n",
       "      <th>5085</th>\n",
       "      <td>1.00</td>\n",
       "      <td>9</td>\n",
       "    </tr>\n",
       "    <tr>\n",
       "      <th>5829</th>\n",
       "      <td>1.00</td>\n",
       "      <td>6</td>\n",
       "    </tr>\n",
       "    <tr>\n",
       "      <th>5828</th>\n",
       "      <td>1.00</td>\n",
       "      <td>34</td>\n",
       "    </tr>\n",
       "    <tr>\n",
       "      <th>5827</th>\n",
       "      <td>1.00</td>\n",
       "      <td>2</td>\n",
       "    </tr>\n",
       "    <tr>\n",
       "      <th>5825</th>\n",
       "      <td>1.00</td>\n",
       "      <td>1</td>\n",
       "    </tr>\n",
       "    <tr>\n",
       "      <th>...</th>\n",
       "      <td>...</td>\n",
       "      <td>...</td>\n",
       "    </tr>\n",
       "    <tr>\n",
       "      <th>6797</th>\n",
       "      <td>1460.00</td>\n",
       "      <td>1</td>\n",
       "    </tr>\n",
       "    <tr>\n",
       "      <th>1330</th>\n",
       "      <td>1488.50</td>\n",
       "      <td>230</td>\n",
       "    </tr>\n",
       "    <tr>\n",
       "      <th>2104</th>\n",
       "      <td>1499.36</td>\n",
       "      <td>275</td>\n",
       "    </tr>\n",
       "    <tr>\n",
       "      <th>4558</th>\n",
       "      <td>1755.00</td>\n",
       "      <td>2</td>\n",
       "    </tr>\n",
       "    <tr>\n",
       "      <th>5672</th>\n",
       "      <td>2487.50</td>\n",
       "      <td>16</td>\n",
       "    </tr>\n",
       "  </tbody>\n",
       "</table>\n",
       "<p>9885 rows × 2 columns</p>\n",
       "</div>"
      ],
      "text/plain": [
       "          mean  count\n",
       "cat_1                \n",
       "5085      1.00      9\n",
       "5829      1.00      6\n",
       "5828      1.00     34\n",
       "5827      1.00      2\n",
       "5825      1.00      1\n",
       "...        ...    ...\n",
       "6797   1460.00      1\n",
       "1330   1488.50    230\n",
       "2104   1499.36    275\n",
       "4558   1755.00      2\n",
       "5672   2487.50     16\n",
       "\n",
       "[9885 rows x 2 columns]"
      ]
     },
     "execution_count": 71,
     "metadata": {},
     "output_type": "execute_result"
    }
   ],
   "source": [
    "df.groupby('cat_1')['Target'].agg(['mean', 'count']).sort_values(by='mean')"
   ]
  },
  {
   "cell_type": "markdown",
   "metadata": {},
   "source": [
    "Seems that 'cat_1' is great categorical feature\n",
    "\n",
    "**TODO: explore 'cat_1' in more detail**"
   ]
  },
  {
   "cell_type": "markdown",
   "metadata": {},
   "source": [
    "### 'cat_2'"
   ]
  },
  {
   "cell_type": "code",
   "execution_count": 73,
   "metadata": {},
   "outputs": [
    {
     "data": {
      "text/plain": [
       "<Axes: xlabel='cat_2', ylabel='Count'>"
      ]
     },
     "execution_count": 73,
     "metadata": {},
     "output_type": "execute_result"
    },
    {
     "data": {
      "image/png": "[encoded data removed]",
      "text/plain": [
       "<Figure size 600x400 with 1 Axes>"
      ]
     },
     "metadata": {},
     "output_type": "display_data"
    }
   ],
   "source": [
    "fig = plt.figure(figsize=(6, 4), dpi=100)\n",
    "sns.histplot(df['cat_2'])"
   ]
  },
  {
   "cell_type": "code",
   "execution_count": 75,
   "metadata": {},
   "outputs": [
    {
     "name": "stdout",
     "output_type": "stream",
     "text": [
      "11.941953357639429 5.580178258388493\n",
      "3.2719503744083673 8.985791074617385\n",
      "6.997033577406623 7.8054825389930755\n"
     ]
    }
   ],
   "source": [
    "print(df[df['cat_2'] == 0]['Target'].mean(), df[df['cat_2'] != 0]['Target'].mean())\n",
    "print(df[df['cat_2'] == 1]['Target'].mean(), df[df['cat_2'] != 1]['Target'].mean())\n",
    "print(df[df['cat_2'] == 2]['Target'].mean(), df[df['cat_2'] != 2]['Target'].mean())"
   ]
  },
  {
   "cell_type": "markdown",
   "metadata": {},
   "source": [
    "Seems that 'cat_2' is just a usual categorical feature"
   ]
  },
  {
   "cell_type": "markdown",
   "metadata": {},
   "source": [
    "### 'cat_3'"
   ]
  },
  {
   "cell_type": "code",
   "execution_count": 77,
   "metadata": {},
   "outputs": [
    {
     "data": {
      "image/png": "[encoded data removed]",
      "text/plain": [
       "<Figure size 1000x400 with 2 Axes>"
      ]
     },
     "metadata": {},
     "output_type": "display_data"
    }
   ],
   "source": [
    "fig, ax = plt.subplots(1, 2, figsize=(10, 4), dpi=100)\n",
    "\n",
    "sns.histplot(df['cat_3'], ax=ax[0])\n",
    "\n",
    "sns.histplot(df['cat_3'], ax=ax[1])\n",
    "ax[1].set_yscale('log')"
   ]
  },
  {
   "cell_type": "code",
   "execution_count": 78,
   "metadata": {},
   "outputs": [
    {
     "name": "stdout",
     "output_type": "stream",
     "text": [
      "12.218673218673219 7.449726928922401\n",
      "5.515379508740872 7.453568886507711\n",
      "7.050544059179589 86.10142401542683\n",
      "113.32411897025743 7.0516181891892655\n"
     ]
    }
   ],
   "source": [
    "print(df[df['cat_3'] == 0]['Target'].mean(), df[df['cat_3'] != 0]['Target'].mean())\n",
    "print(df[df['cat_3'] == 1]['Target'].mean(), df[df['cat_3'] != 1]['Target'].mean())\n",
    "print(df[df['cat_3'] == 2]['Target'].mean(), df[df['cat_3'] != 2]['Target'].mean())\n",
    "print(df[df['cat_3'] == 3]['Target'].mean(), df[df['cat_3'] != 3]['Target'].mean())"
   ]
  },
  {
   "cell_type": "markdown",
   "metadata": {},
   "source": [
    "Seems that 'cat_3' is great categorical feature\n",
    "\n",
    "**TODO: explore 'cat_3' in more detail**"
   ]
  },
  {
   "cell_type": "markdown",
   "metadata": {},
   "source": [
    "### 'cat_4'"
   ]
  },
  {
   "cell_type": "code",
   "execution_count": 79,
   "metadata": {},
   "outputs": [
    {
     "data": {
      "text/plain": [
       "<Axes: xlabel='cat_4', ylabel='Count'>"
      ]
     },
     "execution_count": 79,
     "metadata": {},
     "output_type": "execute_result"
    },
    {
     "data": {
      "image/png": "[encoded data removed]",
      "text/plain": [
       "<Figure size 600x400 with 1 Axes>"
      ]
     },
     "metadata": {},
     "output_type": "display_data"
    }
   ],
   "source": [
    "fig = plt.figure(figsize=(6, 4), dpi=100)\n",
    "sns.histplot(df['cat_4'])"
   ]
  },
  {
   "cell_type": "code",
   "execution_count": 80,
   "metadata": {},
   "outputs": [
    {
     "name": "stdout",
     "output_type": "stream",
     "text": [
      "8.792290185060118 5.269752247036445\n",
      "5.7143160195784235 7.720846435403442\n",
      "4.875636961826908 8.277371796385822\n"
     ]
    }
   ],
   "source": [
    "print(df[df['cat_4'] == 0]['Target'].mean(), df[df['cat_4'] != 0]['Target'].mean())\n",
    "print(df[df['cat_4'] == 1]['Target'].mean(), df[df['cat_4'] != 1]['Target'].mean())\n",
    "print(df[df['cat_4'] == 2]['Target'].mean(), df[df['cat_4'] != 2]['Target'].mean())"
   ]
  },
  {
   "cell_type": "markdown",
   "metadata": {},
   "source": [
    "Seems that 'cat_4' is just a usual categorical feature"
   ]
  },
  {
   "cell_type": "markdown",
   "metadata": {},
   "source": [
    "### 'cat_5'"
   ]
  },
  {
   "cell_type": "code",
   "execution_count": 81,
   "metadata": {},
   "outputs": [
    {
     "data": {
      "text/plain": [
       "<Axes: xlabel='cat_5', ylabel='Count'>"
      ]
     },
     "execution_count": 81,
     "metadata": {},
     "output_type": "execute_result"
    },
    {
     "data": {
      "image/png": "[encoded data removed]",
      "text/plain": [
       "<Figure size 600x400 with 1 Axes>"
      ]
     },
     "metadata": {},
     "output_type": "display_data"
    }
   ],
   "source": [
    "fig = plt.figure(figsize=(6, 4), dpi=100)\n",
    "sns.histplot(df['cat_5'])"
   ]
  },
  {
   "cell_type": "markdown",
   "metadata": {},
   "source": [
    "Interesting distribution"
   ]
  },
  {
   "cell_type": "code",
   "execution_count": 82,
   "metadata": {},
   "outputs": [
    {
     "name": "stdout",
     "output_type": "stream",
     "text": [
      "2.862398481084653 7.906089828613901\n",
      "2.046725664743573 8.258369692883338\n",
      "2.2946281228818957 8.69028371230368\n",
      "21.136444261865915 2.24906437364035\n",
      "2.127591154267588 9.855556314702056\n"
     ]
    }
   ],
   "source": [
    "print(df[df['cat_5'] == 0]['Target'].mean(), df[df['cat_5'] != 0]['Target'].mean())\n",
    "print(df[df['cat_5'] == 1]['Target'].mean(), df[df['cat_5'] != 1]['Target'].mean())\n",
    "print(df[df['cat_5'] == 2]['Target'].mean(), df[df['cat_5'] != 2]['Target'].mean())\n",
    "print(df[df['cat_5'] == 3]['Target'].mean(), df[df['cat_5'] != 3]['Target'].mean())\n",
    "print(df[df['cat_5'] == 4]['Target'].mean(), df[df['cat_5'] != 4]['Target'].mean())"
   ]
  },
  {
   "cell_type": "markdown",
   "metadata": {},
   "source": [
    "Seems that 'cat_5' is great categorical feature\n",
    "\n",
    "**TODO: explore 'cat_5' in more detail**"
   ]
  },
  {
   "cell_type": "markdown",
   "metadata": {},
   "source": [
    "### 'cat_6'"
   ]
  },
  {
   "cell_type": "code",
   "execution_count": 83,
   "metadata": {},
   "outputs": [
    {
     "data": {
      "text/plain": [
       "<Axes: xlabel='cat_6', ylabel='Count'>"
      ]
     },
     "execution_count": 83,
     "metadata": {},
     "output_type": "execute_result"
    },
    {
     "data": {
      "image/png": "[encoded data removed]",
      "text/plain": [
       "<Figure size 600x400 with 1 Axes>"
      ]
     },
     "metadata": {},
     "output_type": "display_data"
    }
   ],
   "source": [
    "fig = plt.figure(figsize=(6, 4), dpi=100)\n",
    "sns.histplot(df['cat_6'])"
   ]
  },
  {
   "cell_type": "code",
   "execution_count": 84,
   "metadata": {},
   "outputs": [
    {
     "name": "stdout",
     "output_type": "stream",
     "text": [
      "8.05573833925102 7.133183738462136\n",
      "4.434919616620173 8.012659414937467\n",
      "1.7762797496558478 7.528233730949051\n",
      "5.416527134656265 7.977502234661621\n",
      "10.16337199385405 6.4012174944882\n"
     ]
    }
   ],
   "source": [
    "print(df[df['cat_6'] == 0]['Target'].mean(), df[df['cat_6'] != 0]['Target'].mean())\n",
    "print(df[df['cat_6'] == 1]['Target'].mean(), df[df['cat_6'] != 1]['Target'].mean())\n",
    "print(df[df['cat_6'] == 2]['Target'].mean(), df[df['cat_6'] != 2]['Target'].mean())\n",
    "print(df[df['cat_6'] == 3]['Target'].mean(), df[df['cat_6'] != 3]['Target'].mean())\n",
    "print(df[df['cat_6'] == 4]['Target'].mean(), df[df['cat_6'] != 4]['Target'].mean())"
   ]
  },
  {
   "cell_type": "markdown",
   "metadata": {},
   "source": [
    "Seems that 'cat_6' is just a usual categorical feature"
   ]
  },
  {
   "cell_type": "markdown",
   "metadata": {},
   "source": [
    "### 'cat_7'"
   ]
  },
  {
   "cell_type": "code",
   "execution_count": 86,
   "metadata": {},
   "outputs": [
    {
     "data": {
      "image/png": "[encoded data removed]",
      "text/plain": [
       "<Figure size 1000x400 with 2 Axes>"
      ]
     },
     "metadata": {},
     "output_type": "display_data"
    }
   ],
   "source": [
    "fig, ax = plt.subplots(1, 2, figsize=(10, 4), dpi=100)\n",
    "\n",
    "sns.histplot(df['cat_7'], ax=ax[0])\n",
    "\n",
    "sns.histplot(df['cat_7'], ax=ax[1])\n",
    "ax[1].set_yscale('log')"
   ]
  },
  {
   "cell_type": "code",
   "execution_count": 87,
   "metadata": {},
   "outputs": [
    {
     "name": "stdout",
     "output_type": "stream",
     "text": [
      "2.659090909090909 7.4520785482492755\n",
      "2.333876496038658 7.469127946991141\n",
      "7.330799436313297 10.773897777087894\n",
      "13.06378132118451 7.451455801522679\n",
      "11.669133016627079 7.313821158763648\n",
      "2.2666666666666666 7.451934358074426\n"
     ]
    }
   ],
   "source": [
    "print(df[df['cat_7'] == 0]['Target'].mean(), df[df['cat_7'] != 0]['Target'].mean())\n",
    "print(df[df['cat_7'] == 1]['Target'].mean(), df[df['cat_7'] != 1]['Target'].mean())\n",
    "print(df[df['cat_7'] == 2]['Target'].mean(), df[df['cat_7'] != 2]['Target'].mean())\n",
    "print(df[df['cat_7'] == 3]['Target'].mean(), df[df['cat_7'] != 3]['Target'].mean())\n",
    "print(df[df['cat_7'] == 4]['Target'].mean(), df[df['cat_7'] != 4]['Target'].mean())\n",
    "print(df[df['cat_7'] == 5]['Target'].mean(), df[df['cat_7'] != 5]['Target'].mean())"
   ]
  },
  {
   "cell_type": "markdown",
   "metadata": {},
   "source": [
    "Seems that 'cat_7' is just a usual categorical feature"
   ]
  },
  {
   "cell_type": "markdown",
   "metadata": {},
   "source": [
    "### 'cat_8'"
   ]
  },
  {
   "cell_type": "code",
   "execution_count": 88,
   "metadata": {},
   "outputs": [
    {
     "data": {
      "image/png": "[encoded data removed]",
      "text/plain": [
       "<Figure size 1000x400 with 2 Axes>"
      ]
     },
     "metadata": {},
     "output_type": "display_data"
    }
   ],
   "source": [
    "fig, ax = plt.subplots(1, 2, figsize=(10, 4), dpi=100)\n",
    "\n",
    "sns.histplot(df['cat_8'], ax=ax[0])\n",
    "\n",
    "sns.histplot(df['cat_8'], ax=ax[1])\n",
    "ax[1].set_yscale('log')"
   ]
  },
  {
   "cell_type": "code",
   "execution_count": 91,
   "metadata": {},
   "outputs": [
    {
     "data": {
      "text/html": [
       "<div>\n",
       "<style scoped>\n",
       "    .dataframe tbody tr th:only-of-type {\n",
       "        vertical-align: middle;\n",
       "    }\n",
       "\n",
       "    .dataframe tbody tr th {\n",
       "        vertical-align: top;\n",
       "    }\n",
       "\n",
       "    .dataframe thead th {\n",
       "        text-align: right;\n",
       "    }\n",
       "</style>\n",
       "<table border=\"1\" class=\"dataframe\">\n",
       "  <thead>\n",
       "    <tr style=\"text-align: right;\">\n",
       "      <th></th>\n",
       "      <th>mean</th>\n",
       "      <th>count</th>\n",
       "    </tr>\n",
       "    <tr>\n",
       "      <th>cat_8</th>\n",
       "      <th></th>\n",
       "      <th></th>\n",
       "    </tr>\n",
       "  </thead>\n",
       "  <tbody>\n",
       "    <tr>\n",
       "      <th>1</th>\n",
       "      <td>1.128205</td>\n",
       "      <td>39</td>\n",
       "    </tr>\n",
       "    <tr>\n",
       "      <th>7</th>\n",
       "      <td>1.270657</td>\n",
       "      <td>1888</td>\n",
       "    </tr>\n",
       "    <tr>\n",
       "      <th>14</th>\n",
       "      <td>1.803570</td>\n",
       "      <td>12773</td>\n",
       "    </tr>\n",
       "    <tr>\n",
       "      <th>8</th>\n",
       "      <td>1.838027</td>\n",
       "      <td>16441</td>\n",
       "    </tr>\n",
       "    <tr>\n",
       "      <th>5</th>\n",
       "      <td>2.046580</td>\n",
       "      <td>5453</td>\n",
       "    </tr>\n",
       "    <tr>\n",
       "      <th>12</th>\n",
       "      <td>2.172349</td>\n",
       "      <td>281121</td>\n",
       "    </tr>\n",
       "    <tr>\n",
       "      <th>9</th>\n",
       "      <td>2.601560</td>\n",
       "      <td>2693</td>\n",
       "    </tr>\n",
       "    <tr>\n",
       "      <th>11</th>\n",
       "      <td>2.685670</td>\n",
       "      <td>441078</td>\n",
       "    </tr>\n",
       "    <tr>\n",
       "      <th>15</th>\n",
       "      <td>3.391527</td>\n",
       "      <td>301295</td>\n",
       "    </tr>\n",
       "    <tr>\n",
       "      <th>13</th>\n",
       "      <td>3.404204</td>\n",
       "      <td>1753534</td>\n",
       "    </tr>\n",
       "    <tr>\n",
       "      <th>10</th>\n",
       "      <td>4.036004</td>\n",
       "      <td>3333</td>\n",
       "    </tr>\n",
       "    <tr>\n",
       "      <th>6</th>\n",
       "      <td>4.885968</td>\n",
       "      <td>1636492</td>\n",
       "    </tr>\n",
       "    <tr>\n",
       "      <th>4</th>\n",
       "      <td>6.596561</td>\n",
       "      <td>2501</td>\n",
       "    </tr>\n",
       "    <tr>\n",
       "      <th>0</th>\n",
       "      <td>13.657576</td>\n",
       "      <td>23760</td>\n",
       "    </tr>\n",
       "    <tr>\n",
       "      <th>3</th>\n",
       "      <td>26.937955</td>\n",
       "      <td>825191</td>\n",
       "    </tr>\n",
       "    <tr>\n",
       "      <th>2</th>\n",
       "      <td>40.836510</td>\n",
       "      <td>3358</td>\n",
       "    </tr>\n",
       "  </tbody>\n",
       "</table>\n",
       "</div>"
      ],
      "text/plain": [
       "            mean    count\n",
       "cat_8                    \n",
       "1       1.128205       39\n",
       "7       1.270657     1888\n",
       "14      1.803570    12773\n",
       "8       1.838027    16441\n",
       "5       2.046580     5453\n",
       "12      2.172349   281121\n",
       "9       2.601560     2693\n",
       "11      2.685670   441078\n",
       "15      3.391527   301295\n",
       "13      3.404204  1753534\n",
       "10      4.036004     3333\n",
       "6       4.885968  1636492\n",
       "4       6.596561     2501\n",
       "0      13.657576    23760\n",
       "3      26.937955   825191\n",
       "2      40.836510     3358"
      ]
     },
     "execution_count": 91,
     "metadata": {},
     "output_type": "execute_result"
    }
   ],
   "source": [
    "df.groupby('cat_8')['Target'].agg(['mean', 'count']).sort_values(by='mean')"
   ]
  },
  {
   "cell_type": "markdown",
   "metadata": {},
   "source": [
    "Seems that 'cat_8' is great categorical feature\n",
    "\n",
    "**TODO: explore 'cat_8' in more detail**"
   ]
  },
  {
   "cell_type": "markdown",
   "metadata": {},
   "source": [
    "### 'cat_9'"
   ]
  },
  {
   "cell_type": "code",
   "execution_count": 93,
   "metadata": {},
   "outputs": [
    {
     "data": {
      "image/png": "[encoded data removed]",
      "text/plain": [
       "<Figure size 1000x400 with 2 Axes>"
      ]
     },
     "metadata": {},
     "output_type": "display_data"
    }
   ],
   "source": [
    "fig, ax = plt.subplots(1, 2, figsize=(10, 4), dpi=100)\n",
    "\n",
    "sns.barplot(df['cat_9'].value_counts().rolling(10, step=10).mean().to_numpy(), ax=ax[0])\n",
    "\n",
    "sns.barplot(df['cat_9'].value_counts().rolling(10, step=10).mean().to_numpy(), ax=ax[1])\n",
    "ax[1].set_yscale('log')"
   ]
  },
  {
   "cell_type": "markdown",
   "metadata": {},
   "source": [
    "If we sort 'cat_9' by value counts, its distribution is very similar to exponential"
   ]
  },
  {
   "cell_type": "code",
   "execution_count": 94,
   "metadata": {},
   "outputs": [
    {
     "data": {
      "text/html": [
       "<div>\n",
       "<style scoped>\n",
       "    .dataframe tbody tr th:only-of-type {\n",
       "        vertical-align: middle;\n",
       "    }\n",
       "\n",
       "    .dataframe tbody tr th {\n",
       "        vertical-align: top;\n",
       "    }\n",
       "\n",
       "    .dataframe thead th {\n",
       "        text-align: right;\n",
       "    }\n",
       "</style>\n",
       "<table border=\"1\" class=\"dataframe\">\n",
       "  <thead>\n",
       "    <tr style=\"text-align: right;\">\n",
       "      <th></th>\n",
       "      <th>mean</th>\n",
       "      <th>count</th>\n",
       "    </tr>\n",
       "    <tr>\n",
       "      <th>cat_9</th>\n",
       "      <th></th>\n",
       "      <th></th>\n",
       "    </tr>\n",
       "  </thead>\n",
       "  <tbody>\n",
       "    <tr>\n",
       "      <th>31</th>\n",
       "      <td>1.000000</td>\n",
       "      <td>1</td>\n",
       "    </tr>\n",
       "    <tr>\n",
       "      <th>13</th>\n",
       "      <td>1.000000</td>\n",
       "      <td>2</td>\n",
       "    </tr>\n",
       "    <tr>\n",
       "      <th>34</th>\n",
       "      <td>1.000000</td>\n",
       "      <td>5</td>\n",
       "    </tr>\n",
       "    <tr>\n",
       "      <th>66</th>\n",
       "      <td>1.000000</td>\n",
       "      <td>14</td>\n",
       "    </tr>\n",
       "    <tr>\n",
       "      <th>35</th>\n",
       "      <td>1.000000</td>\n",
       "      <td>26</td>\n",
       "    </tr>\n",
       "    <tr>\n",
       "      <th>...</th>\n",
       "      <td>...</td>\n",
       "      <td>...</td>\n",
       "    </tr>\n",
       "    <tr>\n",
       "      <th>85</th>\n",
       "      <td>14.324005</td>\n",
       "      <td>5932</td>\n",
       "    </tr>\n",
       "    <tr>\n",
       "      <th>62</th>\n",
       "      <td>15.877586</td>\n",
       "      <td>8798</td>\n",
       "    </tr>\n",
       "    <tr>\n",
       "      <th>41</th>\n",
       "      <td>26.102667</td>\n",
       "      <td>724139</td>\n",
       "    </tr>\n",
       "    <tr>\n",
       "      <th>99</th>\n",
       "      <td>30.262148</td>\n",
       "      <td>93882</td>\n",
       "    </tr>\n",
       "    <tr>\n",
       "      <th>91</th>\n",
       "      <td>39.973874</td>\n",
       "      <td>8038</td>\n",
       "    </tr>\n",
       "  </tbody>\n",
       "</table>\n",
       "<p>106 rows × 2 columns</p>\n",
       "</div>"
      ],
      "text/plain": [
       "            mean   count\n",
       "cat_9                   \n",
       "31      1.000000       1\n",
       "13      1.000000       2\n",
       "34      1.000000       5\n",
       "66      1.000000      14\n",
       "35      1.000000      26\n",
       "...          ...     ...\n",
       "85     14.324005    5932\n",
       "62     15.877586    8798\n",
       "41     26.102667  724139\n",
       "99     30.262148   93882\n",
       "91     39.973874    8038\n",
       "\n",
       "[106 rows x 2 columns]"
      ]
     },
     "execution_count": 94,
     "metadata": {},
     "output_type": "execute_result"
    }
   ],
   "source": [
    "df.groupby('cat_9')['Target'].agg(['mean', 'count']).sort_values(by='mean')"
   ]
  },
  {
   "cell_type": "markdown",
   "metadata": {},
   "source": [
    "Seems that 'cat_9' is great categorical feature\n",
    "\n",
    "**TODO: explore 'cat_9' in more detail**"
   ]
  },
  {
   "cell_type": "markdown",
   "metadata": {},
   "source": [
    "### 'cat_10'"
   ]
  },
  {
   "cell_type": "code",
   "execution_count": 95,
   "metadata": {},
   "outputs": [
    {
     "data": {
      "image/png": "[encoded data removed]",
      "text/plain": [
       "<Figure size 1000x400 with 2 Axes>"
      ]
     },
     "metadata": {},
     "output_type": "display_data"
    }
   ],
   "source": [
    "fig, ax = plt.subplots(1, 2, figsize=(10, 4), dpi=100)\n",
    "\n",
    "sns.histplot(df['cat_10'], ax=ax[0])\n",
    "\n",
    "sns.histplot(df['cat_10'], ax=ax[1])\n",
    "ax[1].set_yscale('log')"
   ]
  },
  {
   "cell_type": "code",
   "execution_count": 97,
   "metadata": {},
   "outputs": [
    {
     "name": "stdout",
     "output_type": "stream",
     "text": [
      "2.1014612858675235 11.775249334110432\n",
      "3.817593790426908 7.452977961368169\n",
      "1.6990168093878846 7.455337120089559\n",
      "2.4761389279568524 9.344191368946754\n",
      "22.96875 7.419503430078956\n",
      "21.050658568244046 2.3041002097566836\n"
     ]
    }
   ],
   "source": [
    "print(df[df['cat_10'] == 0]['Target'].mean(), df[df['cat_10'] != 0]['Target'].mean())\n",
    "print(df[df['cat_10'] == 1]['Target'].mean(), df[df['cat_10'] != 1]['Target'].mean())\n",
    "print(df[df['cat_10'] == 2]['Target'].mean(), df[df['cat_10'] != 2]['Target'].mean())\n",
    "print(df[df['cat_10'] == 3]['Target'].mean(), df[df['cat_10'] != 3]['Target'].mean())\n",
    "print(df[df['cat_10'] == 4]['Target'].mean(), df[df['cat_10'] != 4]['Target'].mean())\n",
    "print(df[df['cat_10'] == 5]['Target'].mean(), df[df['cat_10'] != 5]['Target'].mean())"
   ]
  },
  {
   "cell_type": "markdown",
   "metadata": {},
   "source": [
    "Seems that 'cat_10' is great categorical feature\n",
    "\n",
    "**TODO: explore 'cat_10' in more detail**"
   ]
  },
  {
   "cell_type": "markdown",
   "metadata": {},
   "source": [
    "### 'cat_11'"
   ]
  },
  {
   "cell_type": "code",
   "execution_count": 98,
   "metadata": {},
   "outputs": [
    {
     "data": {
      "image/png": "[encoded data removed]",
      "text/plain": [
       "<Figure size 1000x400 with 2 Axes>"
      ]
     },
     "metadata": {},
     "output_type": "display_data"
    }
   ],
   "source": [
    "fig, ax = plt.subplots(1, 2, figsize=(10, 4), dpi=100)\n",
    "\n",
    "sns.histplot(df['cat_11'], ax=ax[0])\n",
    "\n",
    "sns.histplot(df['cat_11'], ax=ax[1])\n",
    "ax[1].set_yscale('log')"
   ]
  },
  {
   "cell_type": "code",
   "execution_count": 101,
   "metadata": {},
   "outputs": [
    {
     "data": {
      "text/html": [
       "<div>\n",
       "<style scoped>\n",
       "    .dataframe tbody tr th:only-of-type {\n",
       "        vertical-align: middle;\n",
       "    }\n",
       "\n",
       "    .dataframe tbody tr th {\n",
       "        vertical-align: top;\n",
       "    }\n",
       "\n",
       "    .dataframe thead th {\n",
       "        text-align: right;\n",
       "    }\n",
       "</style>\n",
       "<table border=\"1\" class=\"dataframe\">\n",
       "  <thead>\n",
       "    <tr style=\"text-align: right;\">\n",
       "      <th></th>\n",
       "      <th>mean</th>\n",
       "      <th>count</th>\n",
       "    </tr>\n",
       "    <tr>\n",
       "      <th>cat_11</th>\n",
       "      <th></th>\n",
       "      <th></th>\n",
       "    </tr>\n",
       "  </thead>\n",
       "  <tbody>\n",
       "    <tr>\n",
       "      <th>9.0</th>\n",
       "      <td>1.432894</td>\n",
       "      <td>4627</td>\n",
       "    </tr>\n",
       "    <tr>\n",
       "      <th>18.0</th>\n",
       "      <td>1.642432</td>\n",
       "      <td>211160</td>\n",
       "    </tr>\n",
       "    <tr>\n",
       "      <th>4.0</th>\n",
       "      <td>1.652878</td>\n",
       "      <td>239103</td>\n",
       "    </tr>\n",
       "    <tr>\n",
       "      <th>0.0</th>\n",
       "      <td>1.701815</td>\n",
       "      <td>27379</td>\n",
       "    </tr>\n",
       "    <tr>\n",
       "      <th>19.0</th>\n",
       "      <td>1.758274</td>\n",
       "      <td>99315</td>\n",
       "    </tr>\n",
       "    <tr>\n",
       "      <th>16.0</th>\n",
       "      <td>1.789513</td>\n",
       "      <td>26776</td>\n",
       "    </tr>\n",
       "    <tr>\n",
       "      <th>6.0</th>\n",
       "      <td>1.799030</td>\n",
       "      <td>12778</td>\n",
       "    </tr>\n",
       "    <tr>\n",
       "      <th>12.0</th>\n",
       "      <td>1.909079</td>\n",
       "      <td>160458</td>\n",
       "    </tr>\n",
       "    <tr>\n",
       "      <th>3.0</th>\n",
       "      <td>1.920837</td>\n",
       "      <td>179755</td>\n",
       "    </tr>\n",
       "    <tr>\n",
       "      <th>13.0</th>\n",
       "      <td>1.931127</td>\n",
       "      <td>14926</td>\n",
       "    </tr>\n",
       "    <tr>\n",
       "      <th>11.0</th>\n",
       "      <td>1.971091</td>\n",
       "      <td>97651</td>\n",
       "    </tr>\n",
       "    <tr>\n",
       "      <th>15.0</th>\n",
       "      <td>2.006123</td>\n",
       "      <td>189621</td>\n",
       "    </tr>\n",
       "    <tr>\n",
       "      <th>17.0</th>\n",
       "      <td>2.078003</td>\n",
       "      <td>56754</td>\n",
       "    </tr>\n",
       "    <tr>\n",
       "      <th>10.0</th>\n",
       "      <td>2.137473</td>\n",
       "      <td>682599</td>\n",
       "    </tr>\n",
       "    <tr>\n",
       "      <th>7.0</th>\n",
       "      <td>2.275006</td>\n",
       "      <td>88598</td>\n",
       "    </tr>\n",
       "    <tr>\n",
       "      <th>2.0</th>\n",
       "      <td>2.423108</td>\n",
       "      <td>84073</td>\n",
       "    </tr>\n",
       "    <tr>\n",
       "      <th>8.0</th>\n",
       "      <td>2.435887</td>\n",
       "      <td>19489</td>\n",
       "    </tr>\n",
       "    <tr>\n",
       "      <th>20.0</th>\n",
       "      <td>2.615632</td>\n",
       "      <td>114484</td>\n",
       "    </tr>\n",
       "    <tr>\n",
       "      <th>14.0</th>\n",
       "      <td>2.677591</td>\n",
       "      <td>148746</td>\n",
       "    </tr>\n",
       "    <tr>\n",
       "      <th>1.0</th>\n",
       "      <td>12.008781</td>\n",
       "      <td>220476</td>\n",
       "    </tr>\n",
       "    <tr>\n",
       "      <th>22.0</th>\n",
       "      <td>12.617868</td>\n",
       "      <td>319861</td>\n",
       "    </tr>\n",
       "    <tr>\n",
       "      <th>21.0</th>\n",
       "      <td>22.784159</td>\n",
       "      <td>184418</td>\n",
       "    </tr>\n",
       "    <tr>\n",
       "      <th>5.0</th>\n",
       "      <td>26.433795</td>\n",
       "      <td>277601</td>\n",
       "    </tr>\n",
       "  </tbody>\n",
       "</table>\n",
       "</div>"
      ],
      "text/plain": [
       "             mean   count\n",
       "cat_11                   \n",
       "9.0      1.432894    4627\n",
       "18.0     1.642432  211160\n",
       "4.0      1.652878  239103\n",
       "0.0      1.701815   27379\n",
       "19.0     1.758274   99315\n",
       "16.0     1.789513   26776\n",
       "6.0      1.799030   12778\n",
       "12.0     1.909079  160458\n",
       "3.0      1.920837  179755\n",
       "13.0     1.931127   14926\n",
       "11.0     1.971091   97651\n",
       "15.0     2.006123  189621\n",
       "17.0     2.078003   56754\n",
       "10.0     2.137473  682599\n",
       "7.0      2.275006   88598\n",
       "2.0      2.423108   84073\n",
       "8.0      2.435887   19489\n",
       "20.0     2.615632  114484\n",
       "14.0     2.677591  148746\n",
       "1.0     12.008781  220476\n",
       "22.0    12.617868  319861\n",
       "21.0    22.784159  184418\n",
       "5.0     26.433795  277601"
      ]
     },
     "execution_count": 101,
     "metadata": {},
     "output_type": "execute_result"
    }
   ],
   "source": [
    "df.groupby('cat_11')['Target'].agg(['mean', 'count']).sort_values(by='mean')"
   ]
  },
  {
   "cell_type": "markdown",
   "metadata": {},
   "source": [
    "Seems that 'cat_11' is great categorical feature\n",
    "\n",
    "**TODO: explore 'cat_11' in more detail**"
   ]
  },
  {
   "cell_type": "markdown",
   "metadata": {},
   "source": [
    "### 'cat_12'"
   ]
  },
  {
   "cell_type": "code",
   "execution_count": 102,
   "metadata": {},
   "outputs": [
    {
     "data": {
      "image/png": "[encoded data removed]",
      "text/plain": [
       "<Figure size 1000x400 with 2 Axes>"
      ]
     },
     "metadata": {},
     "output_type": "display_data"
    }
   ],
   "source": [
    "fig, ax = plt.subplots(1, 2, figsize=(10, 4), dpi=100)\n",
    "\n",
    "sns.histplot(df['cat_12'], ax=ax[0])\n",
    "\n",
    "sns.histplot(df['cat_12'], ax=ax[1])\n",
    "ax[1].set_yscale('log')"
   ]
  },
  {
   "cell_type": "code",
   "execution_count": 104,
   "metadata": {},
   "outputs": [
    {
     "data": {
      "text/html": [
       "<div>\n",
       "<style scoped>\n",
       "    .dataframe tbody tr th:only-of-type {\n",
       "        vertical-align: middle;\n",
       "    }\n",
       "\n",
       "    .dataframe tbody tr th {\n",
       "        vertical-align: top;\n",
       "    }\n",
       "\n",
       "    .dataframe thead th {\n",
       "        text-align: right;\n",
       "    }\n",
       "</style>\n",
       "<table border=\"1\" class=\"dataframe\">\n",
       "  <thead>\n",
       "    <tr style=\"text-align: right;\">\n",
       "      <th></th>\n",
       "      <th>mean</th>\n",
       "      <th>count</th>\n",
       "    </tr>\n",
       "    <tr>\n",
       "      <th>cat_12</th>\n",
       "      <th></th>\n",
       "      <th></th>\n",
       "    </tr>\n",
       "  </thead>\n",
       "  <tbody>\n",
       "    <tr>\n",
       "      <th>4.0</th>\n",
       "      <td>1.258203</td>\n",
       "      <td>701</td>\n",
       "    </tr>\n",
       "    <tr>\n",
       "      <th>0.0</th>\n",
       "      <td>1.418937</td>\n",
       "      <td>3707</td>\n",
       "    </tr>\n",
       "    <tr>\n",
       "      <th>6.0</th>\n",
       "      <td>1.589662</td>\n",
       "      <td>28786</td>\n",
       "    </tr>\n",
       "    <tr>\n",
       "      <th>5.0</th>\n",
       "      <td>1.683992</td>\n",
       "      <td>2655</td>\n",
       "    </tr>\n",
       "    <tr>\n",
       "      <th>2.0</th>\n",
       "      <td>2.000000</td>\n",
       "      <td>118</td>\n",
       "    </tr>\n",
       "    <tr>\n",
       "      <th>7.0</th>\n",
       "      <td>2.261610</td>\n",
       "      <td>53637</td>\n",
       "    </tr>\n",
       "    <tr>\n",
       "      <th>8.0</th>\n",
       "      <td>2.264500</td>\n",
       "      <td>46034</td>\n",
       "    </tr>\n",
       "    <tr>\n",
       "      <th>1.0</th>\n",
       "      <td>2.496063</td>\n",
       "      <td>127</td>\n",
       "    </tr>\n",
       "    <tr>\n",
       "      <th>3.0</th>\n",
       "      <td>6.906268</td>\n",
       "      <td>3324883</td>\n",
       "    </tr>\n",
       "  </tbody>\n",
       "</table>\n",
       "</div>"
      ],
      "text/plain": [
       "            mean    count\n",
       "cat_12                   \n",
       "4.0     1.258203      701\n",
       "0.0     1.418937     3707\n",
       "6.0     1.589662    28786\n",
       "5.0     1.683992     2655\n",
       "2.0     2.000000      118\n",
       "7.0     2.261610    53637\n",
       "8.0     2.264500    46034\n",
       "1.0     2.496063      127\n",
       "3.0     6.906268  3324883"
      ]
     },
     "execution_count": 104,
     "metadata": {},
     "output_type": "execute_result"
    }
   ],
   "source": [
    "df.groupby('cat_12')['Target'].agg(['mean', 'count']).sort_values(by='mean')"
   ]
  },
  {
   "cell_type": "markdown",
   "metadata": {},
   "source": [
    "Seems that 'cat_12' is just a usual categorical feature"
   ]
  },
  {
   "cell_type": "markdown",
   "metadata": {},
   "source": [
    "### 'cat_13'"
   ]
  },
  {
   "cell_type": "code",
   "execution_count": 107,
   "metadata": {},
   "outputs": [
    {
     "data": {
      "image/png": "[encoded data removed]",
      "text/plain": [
       "<Figure size 1000x400 with 2 Axes>"
      ]
     },
     "metadata": {},
     "output_type": "display_data"
    }
   ],
   "source": [
    "fig, ax = plt.subplots(1, 2, figsize=(10, 4), dpi=100)\n",
    "\n",
    "sns.barplot(df['cat_13'].value_counts().rolling(5, step=5).mean().to_numpy(), ax=ax[0])\n",
    "\n",
    "sns.barplot(df['cat_13'].value_counts().rolling(5, step=5).mean().to_numpy(), ax=ax[1])\n",
    "ax[1].set_yscale('log')"
   ]
  },
  {
   "cell_type": "markdown",
   "metadata": {},
   "source": [
    "If we sort 'cat_13' by value counts, its distribution is very similar to exponential"
   ]
  },
  {
   "cell_type": "code",
   "execution_count": 108,
   "metadata": {},
   "outputs": [
    {
     "data": {
      "text/html": [
       "<div>\n",
       "<style scoped>\n",
       "    .dataframe tbody tr th:only-of-type {\n",
       "        vertical-align: middle;\n",
       "    }\n",
       "\n",
       "    .dataframe tbody tr th {\n",
       "        vertical-align: top;\n",
       "    }\n",
       "\n",
       "    .dataframe thead th {\n",
       "        text-align: right;\n",
       "    }\n",
       "</style>\n",
       "<table border=\"1\" class=\"dataframe\">\n",
       "  <thead>\n",
       "    <tr style=\"text-align: right;\">\n",
       "      <th></th>\n",
       "      <th>mean</th>\n",
       "      <th>count</th>\n",
       "    </tr>\n",
       "    <tr>\n",
       "      <th>cat_13</th>\n",
       "      <th></th>\n",
       "      <th></th>\n",
       "    </tr>\n",
       "  </thead>\n",
       "  <tbody>\n",
       "    <tr>\n",
       "      <th>53.0</th>\n",
       "      <td>1.000000</td>\n",
       "      <td>1</td>\n",
       "    </tr>\n",
       "    <tr>\n",
       "      <th>56.0</th>\n",
       "      <td>1.000000</td>\n",
       "      <td>19</td>\n",
       "    </tr>\n",
       "    <tr>\n",
       "      <th>39.0</th>\n",
       "      <td>1.000000</td>\n",
       "      <td>6</td>\n",
       "    </tr>\n",
       "    <tr>\n",
       "      <th>67.0</th>\n",
       "      <td>1.000000</td>\n",
       "      <td>1</td>\n",
       "    </tr>\n",
       "    <tr>\n",
       "      <th>80.0</th>\n",
       "      <td>1.000000</td>\n",
       "      <td>2</td>\n",
       "    </tr>\n",
       "    <tr>\n",
       "      <th>...</th>\n",
       "      <td>...</td>\n",
       "      <td>...</td>\n",
       "    </tr>\n",
       "    <tr>\n",
       "      <th>70.0</th>\n",
       "      <td>4.337500</td>\n",
       "      <td>160</td>\n",
       "    </tr>\n",
       "    <tr>\n",
       "      <th>34.0</th>\n",
       "      <td>17.384562</td>\n",
       "      <td>809810</td>\n",
       "    </tr>\n",
       "    <tr>\n",
       "      <th>23.0</th>\n",
       "      <td>20.146830</td>\n",
       "      <td>37758</td>\n",
       "    </tr>\n",
       "    <tr>\n",
       "      <th>17.0</th>\n",
       "      <td>21.539312</td>\n",
       "      <td>2442</td>\n",
       "    </tr>\n",
       "    <tr>\n",
       "      <th>62.0</th>\n",
       "      <td>21.871096</td>\n",
       "      <td>152346</td>\n",
       "    </tr>\n",
       "  </tbody>\n",
       "</table>\n",
       "<p>88 rows × 2 columns</p>\n",
       "</div>"
      ],
      "text/plain": [
       "             mean   count\n",
       "cat_13                   \n",
       "53.0     1.000000       1\n",
       "56.0     1.000000      19\n",
       "39.0     1.000000       6\n",
       "67.0     1.000000       1\n",
       "80.0     1.000000       2\n",
       "...           ...     ...\n",
       "70.0     4.337500     160\n",
       "34.0    17.384562  809810\n",
       "23.0    20.146830   37758\n",
       "17.0    21.539312    2442\n",
       "62.0    21.871096  152346\n",
       "\n",
       "[88 rows x 2 columns]"
      ]
     },
     "execution_count": 108,
     "metadata": {},
     "output_type": "execute_result"
    }
   ],
   "source": [
    "df.groupby('cat_13')['Target'].agg(['mean', 'count']).sort_values(by='mean')"
   ]
  },
  {
   "cell_type": "markdown",
   "metadata": {},
   "source": [
    "Seems that 'cat_13' is great categorical feature\n",
    "\n",
    "**TODO: explore 'cat_13' in more detail**"
   ]
  },
  {
   "cell_type": "markdown",
   "metadata": {},
   "source": [
    "### 'cat_14'"
   ]
  },
  {
   "cell_type": "code",
   "execution_count": 109,
   "metadata": {},
   "outputs": [
    {
     "data": {
      "image/png": "[encoded data removed]",
      "text/plain": [
       "<Figure size 1000x400 with 2 Axes>"
      ]
     },
     "metadata": {},
     "output_type": "display_data"
    }
   ],
   "source": [
    "fig, ax = plt.subplots(1, 2, figsize=(10, 4), dpi=100)\n",
    "\n",
    "sns.histplot(df['cat_14'], ax=ax[0])\n",
    "\n",
    "sns.histplot(df['cat_14'], ax=ax[1])\n",
    "ax[1].set_yscale('log')"
   ]
  },
  {
   "cell_type": "code",
   "execution_count": 111,
   "metadata": {},
   "outputs": [
    {
     "data": {
      "text/html": [
       "<div>\n",
       "<style scoped>\n",
       "    .dataframe tbody tr th:only-of-type {\n",
       "        vertical-align: middle;\n",
       "    }\n",
       "\n",
       "    .dataframe tbody tr th {\n",
       "        vertical-align: top;\n",
       "    }\n",
       "\n",
       "    .dataframe thead th {\n",
       "        text-align: right;\n",
       "    }\n",
       "</style>\n",
       "<table border=\"1\" class=\"dataframe\">\n",
       "  <thead>\n",
       "    <tr style=\"text-align: right;\">\n",
       "      <th></th>\n",
       "      <th>mean</th>\n",
       "      <th>count</th>\n",
       "    </tr>\n",
       "    <tr>\n",
       "      <th>cat_14</th>\n",
       "      <th></th>\n",
       "      <th></th>\n",
       "    </tr>\n",
       "  </thead>\n",
       "  <tbody>\n",
       "    <tr>\n",
       "      <th>2.0</th>\n",
       "      <td>1.432894</td>\n",
       "      <td>4627</td>\n",
       "    </tr>\n",
       "    <tr>\n",
       "      <th>5.0</th>\n",
       "      <td>1.652878</td>\n",
       "      <td>239103</td>\n",
       "    </tr>\n",
       "    <tr>\n",
       "      <th>12.0</th>\n",
       "      <td>1.701815</td>\n",
       "      <td>27379</td>\n",
       "    </tr>\n",
       "    <tr>\n",
       "      <th>13.0</th>\n",
       "      <td>1.757566</td>\n",
       "      <td>371618</td>\n",
       "    </tr>\n",
       "    <tr>\n",
       "      <th>11.0</th>\n",
       "      <td>1.758274</td>\n",
       "      <td>99315</td>\n",
       "    </tr>\n",
       "    <tr>\n",
       "      <th>14.0</th>\n",
       "      <td>1.792587</td>\n",
       "      <td>39554</td>\n",
       "    </tr>\n",
       "    <tr>\n",
       "      <th>6.0</th>\n",
       "      <td>1.931127</td>\n",
       "      <td>14926</td>\n",
       "    </tr>\n",
       "    <tr>\n",
       "      <th>10.0</th>\n",
       "      <td>2.006123</td>\n",
       "      <td>189621</td>\n",
       "    </tr>\n",
       "    <tr>\n",
       "      <th>0.0</th>\n",
       "      <td>2.078003</td>\n",
       "      <td>56754</td>\n",
       "    </tr>\n",
       "    <tr>\n",
       "      <th>17.0</th>\n",
       "      <td>2.092316</td>\n",
       "      <td>862354</td>\n",
       "    </tr>\n",
       "    <tr>\n",
       "      <th>15.0</th>\n",
       "      <td>2.275006</td>\n",
       "      <td>88598</td>\n",
       "    </tr>\n",
       "    <tr>\n",
       "      <th>9.0</th>\n",
       "      <td>2.348502</td>\n",
       "      <td>296208</td>\n",
       "    </tr>\n",
       "    <tr>\n",
       "      <th>7.0</th>\n",
       "      <td>2.435887</td>\n",
       "      <td>19489</td>\n",
       "    </tr>\n",
       "    <tr>\n",
       "      <th>4.0</th>\n",
       "      <td>2.677591</td>\n",
       "      <td>148746</td>\n",
       "    </tr>\n",
       "    <tr>\n",
       "      <th>16.0</th>\n",
       "      <td>12.008781</td>\n",
       "      <td>220476</td>\n",
       "    </tr>\n",
       "    <tr>\n",
       "      <th>3.0</th>\n",
       "      <td>12.617868</td>\n",
       "      <td>319861</td>\n",
       "    </tr>\n",
       "    <tr>\n",
       "      <th>1.0</th>\n",
       "      <td>22.784159</td>\n",
       "      <td>184418</td>\n",
       "    </tr>\n",
       "    <tr>\n",
       "      <th>8.0</th>\n",
       "      <td>26.433795</td>\n",
       "      <td>277601</td>\n",
       "    </tr>\n",
       "  </tbody>\n",
       "</table>\n",
       "</div>"
      ],
      "text/plain": [
       "             mean   count\n",
       "cat_14                   \n",
       "2.0      1.432894    4627\n",
       "5.0      1.652878  239103\n",
       "12.0     1.701815   27379\n",
       "13.0     1.757566  371618\n",
       "11.0     1.758274   99315\n",
       "14.0     1.792587   39554\n",
       "6.0      1.931127   14926\n",
       "10.0     2.006123  189621\n",
       "0.0      2.078003   56754\n",
       "17.0     2.092316  862354\n",
       "15.0     2.275006   88598\n",
       "9.0      2.348502  296208\n",
       "7.0      2.435887   19489\n",
       "4.0      2.677591  148746\n",
       "16.0    12.008781  220476\n",
       "3.0     12.617868  319861\n",
       "1.0     22.784159  184418\n",
       "8.0     26.433795  277601"
      ]
     },
     "execution_count": 111,
     "metadata": {},
     "output_type": "execute_result"
    }
   ],
   "source": [
    "df.groupby('cat_14')['Target'].agg(['mean', 'count']).sort_values(by='mean')"
   ]
  },
  {
   "cell_type": "markdown",
   "metadata": {},
   "source": [
    "Seems that 'cat_14' is great categorical feature\n",
    "\n",
    "**TODO: explore 'cat_14' in more detail**"
   ]
  }
 ],
 "metadata": {
  "kernelspec": {
   "display_name": "Python 3",
   "language": "python",
   "name": "python3"
  },
  "language_info": {
   "codemirror_mode": {
    "name": "ipython",
    "version": 3
   },
   "file_extension": ".py",
   "mimetype": "text/x-python",
   "name": "python",
   "nbconvert_exporter": "python",
   "pygments_lexer": "ipython3",
   "version": "3.11.11"
  }
 },
 "nbformat": 4,
 "nbformat_minor": 2
}
